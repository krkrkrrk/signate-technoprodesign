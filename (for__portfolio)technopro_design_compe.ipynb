{
  "nbformat": 4,
  "nbformat_minor": 0,
  "metadata": {
    "colab": {
      "provenance": [],
      "gpuType": "A100",
      "collapsed_sections": [
        "zNFRpXy8gWCP",
        "k6fwAoTJM6C9",
        "1Vj3FOtIMwVm",
        "8WeXveWdtWKm"
      ],
      "machine_shape": "hm",
      "include_colab_link": true
    },
    "kernelspec": {
      "name": "python3",
      "display_name": "Python 3"
    },
    "language_info": {
      "name": "python"
    },
    "accelerator": "GPU",
    "widgets": {
      "application/vnd.jupyter.widget-state+json": {
        "c11c1e91e5ad473295fcebd0ed57439c": {
          "model_module": "@jupyter-widgets/controls",
          "model_name": "HBoxModel",
          "model_module_version": "1.5.0",
          "state": {
            "_dom_classes": [],
            "_model_module": "@jupyter-widgets/controls",
            "_model_module_version": "1.5.0",
            "_model_name": "HBoxModel",
            "_view_count": null,
            "_view_module": "@jupyter-widgets/controls",
            "_view_module_version": "1.5.0",
            "_view_name": "HBoxView",
            "box_style": "",
            "children": [
              "IPY_MODEL_b9ed8dce1cf44af483617afb63d755b6",
              "IPY_MODEL_43a40c63cd1c428381db05670d3730e0",
              "IPY_MODEL_27748badf255415aa4586b17c152c571"
            ],
            "layout": "IPY_MODEL_d4b3c000bf574b62956bd087feae7392"
          }
        },
        "b9ed8dce1cf44af483617afb63d755b6": {
          "model_module": "@jupyter-widgets/controls",
          "model_name": "HTMLModel",
          "model_module_version": "1.5.0",
          "state": {
            "_dom_classes": [],
            "_model_module": "@jupyter-widgets/controls",
            "_model_module_version": "1.5.0",
            "_model_name": "HTMLModel",
            "_view_count": null,
            "_view_module": "@jupyter-widgets/controls",
            "_view_module_version": "1.5.0",
            "_view_name": "HTMLView",
            "description": "",
            "description_tooltip": null,
            "layout": "IPY_MODEL_3d3ac1f7e1724742ac6cf5aec1178ed1",
            "placeholder": "​",
            "style": "IPY_MODEL_82aa260636c34bbfa10dd5f180642c2e",
            "value": "Downloading model.safetensors: 100%"
          }
        },
        "43a40c63cd1c428381db05670d3730e0": {
          "model_module": "@jupyter-widgets/controls",
          "model_name": "FloatProgressModel",
          "model_module_version": "1.5.0",
          "state": {
            "_dom_classes": [],
            "_model_module": "@jupyter-widgets/controls",
            "_model_module_version": "1.5.0",
            "_model_name": "FloatProgressModel",
            "_view_count": null,
            "_view_module": "@jupyter-widgets/controls",
            "_view_module_version": "1.5.0",
            "_view_name": "ProgressView",
            "bar_style": "success",
            "description": "",
            "description_tooltip": null,
            "layout": "IPY_MODEL_cefe50ab77a7423fa4e61d9dc08f3b13",
            "max": 1220365908,
            "min": 0,
            "orientation": "horizontal",
            "style": "IPY_MODEL_02170cbbdcf94d01a2c499c71a3e74e6",
            "value": 1220365908
          }
        },
        "27748badf255415aa4586b17c152c571": {
          "model_module": "@jupyter-widgets/controls",
          "model_name": "HTMLModel",
          "model_module_version": "1.5.0",
          "state": {
            "_dom_classes": [],
            "_model_module": "@jupyter-widgets/controls",
            "_model_module_version": "1.5.0",
            "_model_name": "HTMLModel",
            "_view_count": null,
            "_view_module": "@jupyter-widgets/controls",
            "_view_module_version": "1.5.0",
            "_view_name": "HTMLView",
            "description": "",
            "description_tooltip": null,
            "layout": "IPY_MODEL_23da92ac56ad4b4fbcaa88a235fd5fa7",
            "placeholder": "​",
            "style": "IPY_MODEL_065fbd4389764af993785a459d25abe7",
            "value": " 1.22G/1.22G [00:29&lt;00:00, 39.9MB/s]"
          }
        },
        "d4b3c000bf574b62956bd087feae7392": {
          "model_module": "@jupyter-widgets/base",
          "model_name": "LayoutModel",
          "model_module_version": "1.2.0",
          "state": {
            "_model_module": "@jupyter-widgets/base",
            "_model_module_version": "1.2.0",
            "_model_name": "LayoutModel",
            "_view_count": null,
            "_view_module": "@jupyter-widgets/base",
            "_view_module_version": "1.2.0",
            "_view_name": "LayoutView",
            "align_content": null,
            "align_items": null,
            "align_self": null,
            "border": null,
            "bottom": null,
            "display": null,
            "flex": null,
            "flex_flow": null,
            "grid_area": null,
            "grid_auto_columns": null,
            "grid_auto_flow": null,
            "grid_auto_rows": null,
            "grid_column": null,
            "grid_gap": null,
            "grid_row": null,
            "grid_template_areas": null,
            "grid_template_columns": null,
            "grid_template_rows": null,
            "height": null,
            "justify_content": null,
            "justify_items": null,
            "left": null,
            "margin": null,
            "max_height": null,
            "max_width": null,
            "min_height": null,
            "min_width": null,
            "object_fit": null,
            "object_position": null,
            "order": null,
            "overflow": null,
            "overflow_x": null,
            "overflow_y": null,
            "padding": null,
            "right": null,
            "top": null,
            "visibility": null,
            "width": null
          }
        },
        "3d3ac1f7e1724742ac6cf5aec1178ed1": {
          "model_module": "@jupyter-widgets/base",
          "model_name": "LayoutModel",
          "model_module_version": "1.2.0",
          "state": {
            "_model_module": "@jupyter-widgets/base",
            "_model_module_version": "1.2.0",
            "_model_name": "LayoutModel",
            "_view_count": null,
            "_view_module": "@jupyter-widgets/base",
            "_view_module_version": "1.2.0",
            "_view_name": "LayoutView",
            "align_content": null,
            "align_items": null,
            "align_self": null,
            "border": null,
            "bottom": null,
            "display": null,
            "flex": null,
            "flex_flow": null,
            "grid_area": null,
            "grid_auto_columns": null,
            "grid_auto_flow": null,
            "grid_auto_rows": null,
            "grid_column": null,
            "grid_gap": null,
            "grid_row": null,
            "grid_template_areas": null,
            "grid_template_columns": null,
            "grid_template_rows": null,
            "height": null,
            "justify_content": null,
            "justify_items": null,
            "left": null,
            "margin": null,
            "max_height": null,
            "max_width": null,
            "min_height": null,
            "min_width": null,
            "object_fit": null,
            "object_position": null,
            "order": null,
            "overflow": null,
            "overflow_x": null,
            "overflow_y": null,
            "padding": null,
            "right": null,
            "top": null,
            "visibility": null,
            "width": null
          }
        },
        "82aa260636c34bbfa10dd5f180642c2e": {
          "model_module": "@jupyter-widgets/controls",
          "model_name": "DescriptionStyleModel",
          "model_module_version": "1.5.0",
          "state": {
            "_model_module": "@jupyter-widgets/controls",
            "_model_module_version": "1.5.0",
            "_model_name": "DescriptionStyleModel",
            "_view_count": null,
            "_view_module": "@jupyter-widgets/base",
            "_view_module_version": "1.2.0",
            "_view_name": "StyleView",
            "description_width": ""
          }
        },
        "cefe50ab77a7423fa4e61d9dc08f3b13": {
          "model_module": "@jupyter-widgets/base",
          "model_name": "LayoutModel",
          "model_module_version": "1.2.0",
          "state": {
            "_model_module": "@jupyter-widgets/base",
            "_model_module_version": "1.2.0",
            "_model_name": "LayoutModel",
            "_view_count": null,
            "_view_module": "@jupyter-widgets/base",
            "_view_module_version": "1.2.0",
            "_view_name": "LayoutView",
            "align_content": null,
            "align_items": null,
            "align_self": null,
            "border": null,
            "bottom": null,
            "display": null,
            "flex": null,
            "flex_flow": null,
            "grid_area": null,
            "grid_auto_columns": null,
            "grid_auto_flow": null,
            "grid_auto_rows": null,
            "grid_column": null,
            "grid_gap": null,
            "grid_row": null,
            "grid_template_areas": null,
            "grid_template_columns": null,
            "grid_template_rows": null,
            "height": null,
            "justify_content": null,
            "justify_items": null,
            "left": null,
            "margin": null,
            "max_height": null,
            "max_width": null,
            "min_height": null,
            "min_width": null,
            "object_fit": null,
            "object_position": null,
            "order": null,
            "overflow": null,
            "overflow_x": null,
            "overflow_y": null,
            "padding": null,
            "right": null,
            "top": null,
            "visibility": null,
            "width": null
          }
        },
        "02170cbbdcf94d01a2c499c71a3e74e6": {
          "model_module": "@jupyter-widgets/controls",
          "model_name": "ProgressStyleModel",
          "model_module_version": "1.5.0",
          "state": {
            "_model_module": "@jupyter-widgets/controls",
            "_model_module_version": "1.5.0",
            "_model_name": "ProgressStyleModel",
            "_view_count": null,
            "_view_module": "@jupyter-widgets/base",
            "_view_module_version": "1.2.0",
            "_view_name": "StyleView",
            "bar_color": null,
            "description_width": ""
          }
        },
        "23da92ac56ad4b4fbcaa88a235fd5fa7": {
          "model_module": "@jupyter-widgets/base",
          "model_name": "LayoutModel",
          "model_module_version": "1.2.0",
          "state": {
            "_model_module": "@jupyter-widgets/base",
            "_model_module_version": "1.2.0",
            "_model_name": "LayoutModel",
            "_view_count": null,
            "_view_module": "@jupyter-widgets/base",
            "_view_module_version": "1.2.0",
            "_view_name": "LayoutView",
            "align_content": null,
            "align_items": null,
            "align_self": null,
            "border": null,
            "bottom": null,
            "display": null,
            "flex": null,
            "flex_flow": null,
            "grid_area": null,
            "grid_auto_columns": null,
            "grid_auto_flow": null,
            "grid_auto_rows": null,
            "grid_column": null,
            "grid_gap": null,
            "grid_row": null,
            "grid_template_areas": null,
            "grid_template_columns": null,
            "grid_template_rows": null,
            "height": null,
            "justify_content": null,
            "justify_items": null,
            "left": null,
            "margin": null,
            "max_height": null,
            "max_width": null,
            "min_height": null,
            "min_width": null,
            "object_fit": null,
            "object_position": null,
            "order": null,
            "overflow": null,
            "overflow_x": null,
            "overflow_y": null,
            "padding": null,
            "right": null,
            "top": null,
            "visibility": null,
            "width": null
          }
        },
        "065fbd4389764af993785a459d25abe7": {
          "model_module": "@jupyter-widgets/controls",
          "model_name": "DescriptionStyleModel",
          "model_module_version": "1.5.0",
          "state": {
            "_model_module": "@jupyter-widgets/controls",
            "_model_module_version": "1.5.0",
            "_model_name": "DescriptionStyleModel",
            "_view_count": null,
            "_view_module": "@jupyter-widgets/base",
            "_view_module_version": "1.2.0",
            "_view_name": "StyleView",
            "description_width": ""
          }
        }
      }
    }
  },
  "cells": [
    {
      "cell_type": "markdown",
      "metadata": {
        "id": "view-in-github",
        "colab_type": "text"
      },
      "source": [
        "<a href=\"https://colab.research.google.com/github/krkrkrrk/signate-technoprodesign/blob/main/(for__portfolio)technopro_design_compe.ipynb\" target=\"_parent\"><img src=\"https://colab.research.google.com/assets/colab-badge.svg\" alt=\"Open In Colab\"/></a>"
      ]
    },
    {
      "cell_type": "markdown",
      "source": [
        "# テクノプロ・デザイン社 食品パッケージ画像解析チャレンジ（一般部門・学生部門）の解法\n",
        "\n",
        "本コードは公開されていたベースラインを利用しており、自分で書いたコードは少ないです。\n",
        "\n",
        "Warmup、FocalLoss、アンサンブルのためのコードは自分で追加しました。その他カスタマイズしている部分がいくつかあります。\n",
        "\n",
        "また、最初は全くコードの意味が分かりませんでしたが、2か月間頑張って読み解き、今では大体のコードを理解できています。コメントはほとんど私が書いたものです。"
      ],
      "metadata": {
        "id": "Ql2-kfK0EuuD"
      }
    },
    {
      "cell_type": "markdown",
      "source": [
        "## 初期設定"
      ],
      "metadata": {
        "id": "zNFRpXy8gWCP"
      }
    },
    {
      "cell_type": "code",
      "source": [
        "!nvidia-smi"
      ],
      "metadata": {
        "colab": {
          "base_uri": "https://localhost:8080/"
        },
        "id": "Itlno9iAzBbZ",
        "outputId": "305eaf0c-196f-47c5-a773-fc84636cd5a1"
      },
      "execution_count": null,
      "outputs": [
        {
          "output_type": "stream",
          "name": "stdout",
          "text": [
            "Mon Oct  9 08:43:05 2023       \n",
            "+-----------------------------------------------------------------------------+\n",
            "| NVIDIA-SMI 525.105.17   Driver Version: 525.105.17   CUDA Version: 12.0     |\n",
            "|-------------------------------+----------------------+----------------------+\n",
            "| GPU  Name        Persistence-M| Bus-Id        Disp.A | Volatile Uncorr. ECC |\n",
            "| Fan  Temp  Perf  Pwr:Usage/Cap|         Memory-Usage | GPU-Util  Compute M. |\n",
            "|                               |                      |               MIG M. |\n",
            "|===============================+======================+======================|\n",
            "|   0  NVIDIA A100-SXM...  Off  | 00000000:00:04.0 Off |                    0 |\n",
            "| N/A   28C    P0    45W / 400W |      0MiB / 40960MiB |      0%      Default |\n",
            "|                               |                      |             Disabled |\n",
            "+-------------------------------+----------------------+----------------------+\n",
            "                                                                               \n",
            "+-----------------------------------------------------------------------------+\n",
            "| Processes:                                                                  |\n",
            "|  GPU   GI   CI        PID   Type   Process name                  GPU Memory |\n",
            "|        ID   ID                                                   Usage      |\n",
            "|=============================================================================|\n",
            "|  No running processes found                                                 |\n",
            "+-----------------------------------------------------------------------------+\n"
          ]
        }
      ]
    },
    {
      "cell_type": "code",
      "source": [
        "from google.colab import drive\n",
        "drive.mount('/content/drive')"
      ],
      "metadata": {
        "id": "FoNRR1sCtC6-",
        "colab": {
          "base_uri": "https://localhost:8080/"
        },
        "outputId": "7963f05f-967a-4457-e0d3-c78c218cc266"
      },
      "execution_count": null,
      "outputs": [
        {
          "output_type": "stream",
          "name": "stdout",
          "text": [
            "Mounted at /content/drive\n"
          ]
        }
      ]
    },
    {
      "cell_type": "code",
      "source": [
        "%%capture\n",
        "!pip install colorama\n",
        "!cp /content/drive/MyDrive/technoprodesign/data/train.zip .\n",
        "!cp /content/drive/MyDrive/technoprodesign/data/test.zip .\n",
        "!unzip train.zip\n",
        "!unzip test.zip"
      ],
      "metadata": {
        "id": "N7Tm-X4etgC8"
      },
      "execution_count": null,
      "outputs": []
    },
    {
      "cell_type": "code",
      "source": [
        "pip install timm"
      ],
      "metadata": {
        "id": "f8Asnh0epcuV",
        "colab": {
          "base_uri": "https://localhost:8080/"
        },
        "outputId": "72c9d045-28c7-4dcf-92c4-e7c843d31410"
      },
      "execution_count": null,
      "outputs": [
        {
          "output_type": "stream",
          "name": "stdout",
          "text": [
            "Collecting timm\n",
            "  Downloading timm-0.9.7-py3-none-any.whl (2.2 MB)\n",
            "\u001b[2K     \u001b[90m━━━━━━━━━━━━━━━━━━━━━━━━━━━━━━━━━━━━━━━━\u001b[0m \u001b[32m2.2/2.2 MB\u001b[0m \u001b[31m26.5 MB/s\u001b[0m eta \u001b[36m0:00:00\u001b[0m\n",
            "\u001b[?25hRequirement already satisfied: torch>=1.7 in /usr/local/lib/python3.10/dist-packages (from timm) (2.0.1+cu118)\n",
            "Requirement already satisfied: torchvision in /usr/local/lib/python3.10/dist-packages (from timm) (0.15.2+cu118)\n",
            "Requirement already satisfied: pyyaml in /usr/local/lib/python3.10/dist-packages (from timm) (6.0.1)\n",
            "Collecting huggingface-hub (from timm)\n",
            "  Downloading huggingface_hub-0.17.3-py3-none-any.whl (295 kB)\n",
            "\u001b[2K     \u001b[90m━━━━━━━━━━━━━━━━━━━━━━━━━━━━━━━━━━━━━━\u001b[0m \u001b[32m295.0/295.0 kB\u001b[0m \u001b[31m28.9 MB/s\u001b[0m eta \u001b[36m0:00:00\u001b[0m\n",
            "\u001b[?25hCollecting safetensors (from timm)\n",
            "  Downloading safetensors-0.4.0-cp310-cp310-manylinux_2_17_x86_64.manylinux2014_x86_64.whl (1.3 MB)\n",
            "\u001b[2K     \u001b[90m━━━━━━━━━━━━━━━━━━━━━━━━━━━━━━━━━━━━━━━━\u001b[0m \u001b[32m1.3/1.3 MB\u001b[0m \u001b[31m76.3 MB/s\u001b[0m eta \u001b[36m0:00:00\u001b[0m\n",
            "\u001b[?25hRequirement already satisfied: filelock in /usr/local/lib/python3.10/dist-packages (from torch>=1.7->timm) (3.12.4)\n",
            "Requirement already satisfied: typing-extensions in /usr/local/lib/python3.10/dist-packages (from torch>=1.7->timm) (4.5.0)\n",
            "Requirement already satisfied: sympy in /usr/local/lib/python3.10/dist-packages (from torch>=1.7->timm) (1.12)\n",
            "Requirement already satisfied: networkx in /usr/local/lib/python3.10/dist-packages (from torch>=1.7->timm) (3.1)\n",
            "Requirement already satisfied: jinja2 in /usr/local/lib/python3.10/dist-packages (from torch>=1.7->timm) (3.1.2)\n",
            "Requirement already satisfied: triton==2.0.0 in /usr/local/lib/python3.10/dist-packages (from torch>=1.7->timm) (2.0.0)\n",
            "Requirement already satisfied: cmake in /usr/local/lib/python3.10/dist-packages (from triton==2.0.0->torch>=1.7->timm) (3.27.6)\n",
            "Requirement already satisfied: lit in /usr/local/lib/python3.10/dist-packages (from triton==2.0.0->torch>=1.7->timm) (17.0.2)\n",
            "Requirement already satisfied: fsspec in /usr/local/lib/python3.10/dist-packages (from huggingface-hub->timm) (2023.6.0)\n",
            "Requirement already satisfied: requests in /usr/local/lib/python3.10/dist-packages (from huggingface-hub->timm) (2.31.0)\n",
            "Requirement already satisfied: tqdm>=4.42.1 in /usr/local/lib/python3.10/dist-packages (from huggingface-hub->timm) (4.66.1)\n",
            "Requirement already satisfied: packaging>=20.9 in /usr/local/lib/python3.10/dist-packages (from huggingface-hub->timm) (23.2)\n",
            "Requirement already satisfied: numpy in /usr/local/lib/python3.10/dist-packages (from torchvision->timm) (1.23.5)\n",
            "Requirement already satisfied: pillow!=8.3.*,>=5.3.0 in /usr/local/lib/python3.10/dist-packages (from torchvision->timm) (9.4.0)\n",
            "Requirement already satisfied: MarkupSafe>=2.0 in /usr/local/lib/python3.10/dist-packages (from jinja2->torch>=1.7->timm) (2.1.3)\n",
            "Requirement already satisfied: charset-normalizer<4,>=2 in /usr/local/lib/python3.10/dist-packages (from requests->huggingface-hub->timm) (3.3.0)\n",
            "Requirement already satisfied: idna<4,>=2.5 in /usr/local/lib/python3.10/dist-packages (from requests->huggingface-hub->timm) (3.4)\n",
            "Requirement already satisfied: urllib3<3,>=1.21.1 in /usr/local/lib/python3.10/dist-packages (from requests->huggingface-hub->timm) (2.0.6)\n",
            "Requirement already satisfied: certifi>=2017.4.17 in /usr/local/lib/python3.10/dist-packages (from requests->huggingface-hub->timm) (2023.7.22)\n",
            "Requirement already satisfied: mpmath>=0.19 in /usr/local/lib/python3.10/dist-packages (from sympy->torch>=1.7->timm) (1.3.0)\n",
            "Installing collected packages: safetensors, huggingface-hub, timm\n",
            "Successfully installed huggingface-hub-0.17.3 safetensors-0.4.0 timm-0.9.7\n"
          ]
        }
      ]
    },
    {
      "cell_type": "code",
      "source": [
        "pip install ttach"
      ],
      "metadata": {
        "id": "_sH1JtRekUsj",
        "colab": {
          "base_uri": "https://localhost:8080/"
        },
        "outputId": "0f79d484-df01-4257-f262-2f8aca30d0e3"
      },
      "execution_count": null,
      "outputs": [
        {
          "output_type": "stream",
          "name": "stdout",
          "text": [
            "Collecting ttach\n",
            "  Downloading ttach-0.0.3-py3-none-any.whl (9.8 kB)\n",
            "Installing collected packages: ttach\n",
            "Successfully installed ttach-0.0.3\n"
          ]
        }
      ]
    },
    {
      "cell_type": "code",
      "source": [
        "!git clone https://github.com/davda54/sam.git"
      ],
      "metadata": {
        "id": "n4S91K61x00X",
        "colab": {
          "base_uri": "https://localhost:8080/"
        },
        "outputId": "14c610ee-d05b-44c0-e977-5e187fdbc3a4"
      },
      "execution_count": null,
      "outputs": [
        {
          "output_type": "stream",
          "name": "stdout",
          "text": [
            "Cloning into 'sam'...\n",
            "remote: Enumerating objects: 200, done.\u001b[K\n",
            "remote: Counting objects: 100% (96/96), done.\u001b[K\n",
            "remote: Compressing objects: 100% (38/38), done.\u001b[K\n",
            "remote: Total 200 (delta 73), reused 64 (delta 58), pack-reused 104\u001b[K\n",
            "Receiving objects: 100% (200/200), 659.65 KiB | 8.46 MiB/s, done.\n",
            "Resolving deltas: 100% (95/95), done.\n"
          ]
        }
      ]
    },
    {
      "cell_type": "code",
      "source": [
        "pip install git+https://github.com/lessw2020/Ranger21.git"
      ],
      "metadata": {
        "id": "M8dP6s3bFNwA",
        "colab": {
          "base_uri": "https://localhost:8080/"
        },
        "outputId": "962d0184-78c5-49a3-f851-a4f70ba47bf4"
      },
      "execution_count": null,
      "outputs": [
        {
          "output_type": "stream",
          "name": "stdout",
          "text": [
            "Collecting git+https://github.com/lessw2020/Ranger21.git\n",
            "  Cloning https://github.com/lessw2020/Ranger21.git to /tmp/pip-req-build-s_r58cqr\n",
            "  Running command git clone --filter=blob:none --quiet https://github.com/lessw2020/Ranger21.git /tmp/pip-req-build-s_r58cqr\n",
            "  Resolved https://github.com/lessw2020/Ranger21.git to commit 1a96777278cdd14bc11afd865112724386d26a44\n",
            "  Preparing metadata (setup.py) ... \u001b[?25l\u001b[?25hdone\n",
            "Building wheels for collected packages: ranger21\n",
            "  Building wheel for ranger21 (setup.py) ... \u001b[?25l\u001b[?25hdone\n",
            "  Created wheel for ranger21: filename=ranger21-0.0.1-py3-none-any.whl size=24713 sha256=30865bf8e6020ba9aa2ff9351cb61337ac73b6c5944541d83061b1e7b55086e7\n",
            "  Stored in directory: /tmp/pip-ephem-wheel-cache-z7owmj6b/wheels/ce/fa/a3/b9fb1d5b6129c81c852d06d951c3e9f5ce2b0dfa9ed4b5b455\n",
            "Successfully built ranger21\n",
            "Installing collected packages: ranger21\n",
            "Successfully installed ranger21-0.0.1\n"
          ]
        }
      ]
    },
    {
      "cell_type": "markdown",
      "source": [
        "## Import"
      ],
      "metadata": {
        "id": "k6fwAoTJM6C9"
      }
    },
    {
      "cell_type": "code",
      "source": [
        "import os, shutil\n",
        "\n",
        "#必要なライブラリのインポート\n",
        "import re, gc, sys\n",
        "import pandas as pd\n",
        "import numpy as np\n",
        "import pandas as pd\n",
        "import matplotlib.pyplot as plt\n",
        "from glob import glob\n",
        "\n",
        "import warnings, random\n",
        "import cv2\n",
        "\n",
        "warnings.filterwarnings(\"ignore\")\n",
        "\n",
        "from sklearn.metrics import accuracy_score, roc_auc_score, roc_curve\n",
        "from sklearn.model_selection import StratifiedKFold\n",
        "\n",
        "import torch\n",
        "import torch.nn as nn\n",
        "import torch.nn.functional as F\n",
        "import torch.optim as optim\n",
        "from torch.utils.data import DataLoader, Dataset\n",
        "from torch.optim import lr_scheduler\n",
        "from sam.sam import SAM\n",
        "from ranger21 import Ranger21\n",
        "\n",
        "import torchvision\n",
        "from torchvision import transforms\n",
        "import torchvision.models as models\n",
        "from torch.cuda.amp import GradScaler\n",
        "import timm\n",
        "from efficientnet_pytorch import EfficientNet\n",
        "\n",
        "import yaml\n",
        "from tqdm import tqdm\n",
        "import time\n",
        "import copy\n",
        "from collections import defaultdict\n",
        "\n",
        "from colorama import Fore, Back, Style\n",
        "b_ = Fore.BLUE\n",
        "y_ = Fore.YELLOW\n",
        "sr_ = Style.RESET_ALL"
      ],
      "metadata": {
        "id": "UPlbkqiJd0_X"
      },
      "execution_count": null,
      "outputs": []
    },
    {
      "cell_type": "markdown",
      "source": [
        "## パラメータの設定"
      ],
      "metadata": {
        "id": "1Vj3FOtIMwVm"
      }
    },
    {
      "cell_type": "code",
      "source": [
        "ARGS = {'DATA_DIR': '/content/drive/MyDrive/technoprodesign/data',\n",
        "  'OUT_DIR': './',\n",
        "  'model_name': 'eva02_large_patch14_448.mim_m38m_ft_in22k_in1k',\n",
        "  'n_fold': 5,\n",
        "  'epochs': 4,\n",
        "  'criterion': 'CrossEntropy',\n",
        "  'image_size': (448, 448),\n",
        "  'train_batch_size': 16,\n",
        "  'test_batch_size': 32,\n",
        "  'seed': 777,\n",
        "  'optimizer': 'AdamW',\n",
        "  'learning_rate': 1.5e-05,\n",
        "  'scheduler': 'warmup',\n",
        "  'min_lr': 1e-06,\n",
        "  'T_max': 500,\n",
        "  'beta': (0.9, 0.999),\n",
        "  'n_accumulate': 1,\n",
        "  'clip_grad_norm': 'None',\n",
        "  'apex': True,\n",
        "  'num_classes': 2,\n",
        "  'device': torch.device(\"cuda:0\" if torch.cuda.is_available() else \"cpu\")\n",
        "  }\n",
        "ARGS"
      ],
      "metadata": {
        "id": "z_0WSzMneaeE",
        "colab": {
          "base_uri": "https://localhost:8080/"
        },
        "outputId": "a2150a33-8198-4c1f-9b62-4e1742471dcc"
      },
      "execution_count": null,
      "outputs": [
        {
          "output_type": "execute_result",
          "data": {
            "text/plain": [
              "{'DATA_DIR': '/content/drive/MyDrive/technoprodesign/data',\n",
              " 'OUT_DIR': './',\n",
              " 'model_name': 'eva02_large_patch14_448.mim_m38m_ft_in22k_in1k',\n",
              " 'n_fold': 5,\n",
              " 'epochs': 4,\n",
              " 'criterion': 'CrossEntropy',\n",
              " 'image_size': (448, 448),\n",
              " 'train_batch_size': 16,\n",
              " 'test_batch_size': 32,\n",
              " 'seed': 777,\n",
              " 'optimizer': 'AdamW',\n",
              " 'learning_rate': 1.5e-05,\n",
              " 'scheduler': 'warmup',\n",
              " 'min_lr': 1e-06,\n",
              " 'T_max': 500,\n",
              " 'beta': (0.9, 0.999),\n",
              " 'n_accumulate': 1,\n",
              " 'clip_grad_norm': 'None',\n",
              " 'apex': True,\n",
              " 'num_classes': 2,\n",
              " 'device': device(type='cuda', index=0)}"
            ]
          },
          "metadata": {},
          "execution_count": 10
        }
      ]
    },
    {
      "cell_type": "code",
      "source": [
        "#Pythonのログを管理\n",
        "#filenameはログが書き込まれるファイルの名前\n",
        "def get_logger(filename):\n",
        "    from logging import getLogger, INFO, StreamHandler, FileHandler, Formatter\n",
        "    # __name__は現在のモジュール（スクリプト）の名前を示す特殊な変数。異なるモジュールごとに異なるロガーが生成される\n",
        "    logger = getLogger(__name__)\n",
        "    #ロガーのログレベルを設定。ここでは、ログレベルをINFOに設定。これにより、INFOレベル以上のログが出力される。\n",
        "    logger.setLevel(INFO)\n",
        "    # ログをファイルに出力するためのハンドラ（ハンドラはログ出力の仕組みを提供）を作成\n",
        "    # filenameに指定された名前に.logを付け加えたファイル名で、ログが書き込まれるファイルを指定\n",
        "    handler2 = FileHandler(filename=f\"{filename}.log\")\n",
        "    # フォーマッタを設定。ログのメッセージ部分だけをフォーマットして出力するように指定\n",
        "    handler2.setFormatter(Formatter(\"%(message)s\"))\n",
        "    # ロガーに先ほど作成したhandler2（ファイルへのログ出力ハンドラ）を追加。これにより、ログは指定されたファイルに出力される。\n",
        "    logger.addHandler(handler2)\n",
        "    return logger\n",
        "\n",
        "#再現性を出すために必要な関数\n",
        "def worker_init_fn(worker_id):\n",
        "    torch.manual_seed(worker_id)\n",
        "    random.seed(worker_id)\n",
        "    np.random.seed(worker_id)\n",
        "    torch.cuda.manual_seed(worker_id)\n",
        "    os.environ['PYTHONHASHSEED'] = str(worker_id)\n",
        "\n",
        "#再現性確保のため、ノートブック全体のシードを設定し、実行するたびに結果が同じになるようにする。\n",
        "def set_seed(seed=777):\n",
        "    random.seed(seed)\n",
        "    np.random.seed(seed)\n",
        "    torch.manual_seed(seed)\n",
        "    torch.cuda.manual_seed(seed)\n",
        "    torch.cuda.manual_seed_all(seed)\n",
        "    # CuDNNバックエンドで実行する場合、さらに2つのオプションを設定する必要がある\n",
        "    torch.backends.cudnn.deterministic = True\n",
        "    torch.backends.cudnn.benchmark = False\n",
        "    # ハッシュシードに固定値を設定する\n",
        "    os.environ['PYTHONHASHSEED'] = str(seed)\n",
        "\n",
        "LOGGER = get_logger(ARGS['OUT_DIR']+'train')\n",
        "set_seed(ARGS[\"seed\"])"
      ],
      "metadata": {
        "id": "oUjUIqlxd89W"
      },
      "execution_count": null,
      "outputs": []
    },
    {
      "cell_type": "code",
      "source": [
        "# 交差検証\n",
        "# data: データセット、num_splits: 分割するフォールドの数、seed: 乱数生成のシード\n",
        "def create_folds(data, num_splits, seed):\n",
        "    # 与えられたデータセットに新しい列 \"kfold\" を追加し、全ての要素を -1 で初期化\n",
        "    data[\"kfold\"] = -1\n",
        "\n",
        "    #指定された数のフォールドにデータセットを分割（shuffle=True としているため、データはランダムにシャッフルされてから分割される）\n",
        "    mskf = StratifiedKFold(n_splits=num_splits, shuffle=True, random_state=seed)\n",
        "    labels = [\"label\"]\n",
        "    data_labels = data[labels].values\n",
        "\n",
        "    # 分割されたデータセットのインデックスを使用して、各フォールドに属するデータの \"kfold\" 列の値を対応するフォールド番号に更新\n",
        "    # t_ は訓練データのインデックス（のリストみたいなもの）、v_ は検証データのインデックス（のリストみたいなもの）\n",
        "    # 「1つ目の分割されたデータ、2つ目の分割されたデータ、、、5つ目の分割されたデータ」って感じでforが回る\n",
        "    for f, (t_, v_) in enumerate(mskf.split(data, data_labels)):\n",
        "        # インデックスが v_ の行の \"kfold\" に、現在のフォールド番号 f を割り当てる（多分fは0～4）\n",
        "        data.loc[v_, \"kfold\"] = f\n",
        "\n",
        "    return data\n",
        "\n",
        "train = pd.read_csv(f\"{ARGS['DATA_DIR']}/train.csv\")\n",
        "train = create_folds(train, num_splits=ARGS[\"n_fold\"], seed=ARGS[\"seed\"])\n",
        "print(\"Folds created successfully\")\n",
        "\n",
        "train.head()"
      ],
      "metadata": {
        "colab": {
          "base_uri": "https://localhost:8080/"
        },
        "id": "7aG-NyMgHEf_",
        "outputId": "9fcc49ce-75b2-48d2-b51f-ffc289189e12"
      },
      "execution_count": null,
      "outputs": [
        {
          "output_type": "stream",
          "name": "stdout",
          "text": [
            "Folds created successfully\n"
          ]
        },
        {
          "output_type": "execute_result",
          "data": {
            "text/plain": [
              "  image_name  label  kfold\n",
              "0   0000.png      0      2\n",
              "1   0001.png      1      4\n",
              "2   0002.png      1      2\n",
              "3   0003.png      1      2\n",
              "4   0004.png      0      0"
            ],
            "text/html": [
              "\n",
              "  <div id=\"df-645197be-a5ef-44b2-90b9-deb9eed2c89f\" class=\"colab-df-container\">\n",
              "    <div>\n",
              "<style scoped>\n",
              "    .dataframe tbody tr th:only-of-type {\n",
              "        vertical-align: middle;\n",
              "    }\n",
              "\n",
              "    .dataframe tbody tr th {\n",
              "        vertical-align: top;\n",
              "    }\n",
              "\n",
              "    .dataframe thead th {\n",
              "        text-align: right;\n",
              "    }\n",
              "</style>\n",
              "<table border=\"1\" class=\"dataframe\">\n",
              "  <thead>\n",
              "    <tr style=\"text-align: right;\">\n",
              "      <th></th>\n",
              "      <th>image_name</th>\n",
              "      <th>label</th>\n",
              "      <th>kfold</th>\n",
              "    </tr>\n",
              "  </thead>\n",
              "  <tbody>\n",
              "    <tr>\n",
              "      <th>0</th>\n",
              "      <td>0000.png</td>\n",
              "      <td>0</td>\n",
              "      <td>2</td>\n",
              "    </tr>\n",
              "    <tr>\n",
              "      <th>1</th>\n",
              "      <td>0001.png</td>\n",
              "      <td>1</td>\n",
              "      <td>4</td>\n",
              "    </tr>\n",
              "    <tr>\n",
              "      <th>2</th>\n",
              "      <td>0002.png</td>\n",
              "      <td>1</td>\n",
              "      <td>2</td>\n",
              "    </tr>\n",
              "    <tr>\n",
              "      <th>3</th>\n",
              "      <td>0003.png</td>\n",
              "      <td>1</td>\n",
              "      <td>2</td>\n",
              "    </tr>\n",
              "    <tr>\n",
              "      <th>4</th>\n",
              "      <td>0004.png</td>\n",
              "      <td>0</td>\n",
              "      <td>0</td>\n",
              "    </tr>\n",
              "  </tbody>\n",
              "</table>\n",
              "</div>\n",
              "    <div class=\"colab-df-buttons\">\n",
              "\n",
              "  <div class=\"colab-df-container\">\n",
              "    <button class=\"colab-df-convert\" onclick=\"convertToInteractive('df-645197be-a5ef-44b2-90b9-deb9eed2c89f')\"\n",
              "            title=\"Convert this dataframe to an interactive table.\"\n",
              "            style=\"display:none;\">\n",
              "\n",
              "  <svg xmlns=\"http://www.w3.org/2000/svg\" height=\"24px\" viewBox=\"0 -960 960 960\">\n",
              "    <path d=\"M120-120v-720h720v720H120Zm60-500h600v-160H180v160Zm220 220h160v-160H400v160Zm0 220h160v-160H400v160ZM180-400h160v-160H180v160Zm440 0h160v-160H620v160ZM180-180h160v-160H180v160Zm440 0h160v-160H620v160Z\"/>\n",
              "  </svg>\n",
              "    </button>\n",
              "\n",
              "  <style>\n",
              "    .colab-df-container {\n",
              "      display:flex;\n",
              "      gap: 12px;\n",
              "    }\n",
              "\n",
              "    .colab-df-convert {\n",
              "      background-color: #E8F0FE;\n",
              "      border: none;\n",
              "      border-radius: 50%;\n",
              "      cursor: pointer;\n",
              "      display: none;\n",
              "      fill: #1967D2;\n",
              "      height: 32px;\n",
              "      padding: 0 0 0 0;\n",
              "      width: 32px;\n",
              "    }\n",
              "\n",
              "    .colab-df-convert:hover {\n",
              "      background-color: #E2EBFA;\n",
              "      box-shadow: 0px 1px 2px rgba(60, 64, 67, 0.3), 0px 1px 3px 1px rgba(60, 64, 67, 0.15);\n",
              "      fill: #174EA6;\n",
              "    }\n",
              "\n",
              "    .colab-df-buttons div {\n",
              "      margin-bottom: 4px;\n",
              "    }\n",
              "\n",
              "    [theme=dark] .colab-df-convert {\n",
              "      background-color: #3B4455;\n",
              "      fill: #D2E3FC;\n",
              "    }\n",
              "\n",
              "    [theme=dark] .colab-df-convert:hover {\n",
              "      background-color: #434B5C;\n",
              "      box-shadow: 0px 1px 3px 1px rgba(0, 0, 0, 0.15);\n",
              "      filter: drop-shadow(0px 1px 2px rgba(0, 0, 0, 0.3));\n",
              "      fill: #FFFFFF;\n",
              "    }\n",
              "  </style>\n",
              "\n",
              "    <script>\n",
              "      const buttonEl =\n",
              "        document.querySelector('#df-645197be-a5ef-44b2-90b9-deb9eed2c89f button.colab-df-convert');\n",
              "      buttonEl.style.display =\n",
              "        google.colab.kernel.accessAllowed ? 'block' : 'none';\n",
              "\n",
              "      async function convertToInteractive(key) {\n",
              "        const element = document.querySelector('#df-645197be-a5ef-44b2-90b9-deb9eed2c89f');\n",
              "        const dataTable =\n",
              "          await google.colab.kernel.invokeFunction('convertToInteractive',\n",
              "                                                    [key], {});\n",
              "        if (!dataTable) return;\n",
              "\n",
              "        const docLinkHtml = 'Like what you see? Visit the ' +\n",
              "          '<a target=\"_blank\" href=https://colab.research.google.com/notebooks/data_table.ipynb>data table notebook</a>'\n",
              "          + ' to learn more about interactive tables.';\n",
              "        element.innerHTML = '';\n",
              "        dataTable['output_type'] = 'display_data';\n",
              "        await google.colab.output.renderOutput(dataTable, element);\n",
              "        const docLink = document.createElement('div');\n",
              "        docLink.innerHTML = docLinkHtml;\n",
              "        element.appendChild(docLink);\n",
              "      }\n",
              "    </script>\n",
              "  </div>\n",
              "\n",
              "\n",
              "<div id=\"df-e38f75aa-b613-48bb-aedb-25eb4b615553\">\n",
              "  <button class=\"colab-df-quickchart\" onclick=\"quickchart('df-e38f75aa-b613-48bb-aedb-25eb4b615553')\"\n",
              "            title=\"Suggest charts.\"\n",
              "            style=\"display:none;\">\n",
              "\n",
              "<svg xmlns=\"http://www.w3.org/2000/svg\" height=\"24px\"viewBox=\"0 0 24 24\"\n",
              "     width=\"24px\">\n",
              "    <g>\n",
              "        <path d=\"M19 3H5c-1.1 0-2 .9-2 2v14c0 1.1.9 2 2 2h14c1.1 0 2-.9 2-2V5c0-1.1-.9-2-2-2zM9 17H7v-7h2v7zm4 0h-2V7h2v10zm4 0h-2v-4h2v4z\"/>\n",
              "    </g>\n",
              "</svg>\n",
              "  </button>\n",
              "\n",
              "<style>\n",
              "  .colab-df-quickchart {\n",
              "      --bg-color: #E8F0FE;\n",
              "      --fill-color: #1967D2;\n",
              "      --hover-bg-color: #E2EBFA;\n",
              "      --hover-fill-color: #174EA6;\n",
              "      --disabled-fill-color: #AAA;\n",
              "      --disabled-bg-color: #DDD;\n",
              "  }\n",
              "\n",
              "  [theme=dark] .colab-df-quickchart {\n",
              "      --bg-color: #3B4455;\n",
              "      --fill-color: #D2E3FC;\n",
              "      --hover-bg-color: #434B5C;\n",
              "      --hover-fill-color: #FFFFFF;\n",
              "      --disabled-bg-color: #3B4455;\n",
              "      --disabled-fill-color: #666;\n",
              "  }\n",
              "\n",
              "  .colab-df-quickchart {\n",
              "    background-color: var(--bg-color);\n",
              "    border: none;\n",
              "    border-radius: 50%;\n",
              "    cursor: pointer;\n",
              "    display: none;\n",
              "    fill: var(--fill-color);\n",
              "    height: 32px;\n",
              "    padding: 0;\n",
              "    width: 32px;\n",
              "  }\n",
              "\n",
              "  .colab-df-quickchart:hover {\n",
              "    background-color: var(--hover-bg-color);\n",
              "    box-shadow: 0 1px 2px rgba(60, 64, 67, 0.3), 0 1px 3px 1px rgba(60, 64, 67, 0.15);\n",
              "    fill: var(--button-hover-fill-color);\n",
              "  }\n",
              "\n",
              "  .colab-df-quickchart-complete:disabled,\n",
              "  .colab-df-quickchart-complete:disabled:hover {\n",
              "    background-color: var(--disabled-bg-color);\n",
              "    fill: var(--disabled-fill-color);\n",
              "    box-shadow: none;\n",
              "  }\n",
              "\n",
              "  .colab-df-spinner {\n",
              "    border: 2px solid var(--fill-color);\n",
              "    border-color: transparent;\n",
              "    border-bottom-color: var(--fill-color);\n",
              "    animation:\n",
              "      spin 1s steps(1) infinite;\n",
              "  }\n",
              "\n",
              "  @keyframes spin {\n",
              "    0% {\n",
              "      border-color: transparent;\n",
              "      border-bottom-color: var(--fill-color);\n",
              "      border-left-color: var(--fill-color);\n",
              "    }\n",
              "    20% {\n",
              "      border-color: transparent;\n",
              "      border-left-color: var(--fill-color);\n",
              "      border-top-color: var(--fill-color);\n",
              "    }\n",
              "    30% {\n",
              "      border-color: transparent;\n",
              "      border-left-color: var(--fill-color);\n",
              "      border-top-color: var(--fill-color);\n",
              "      border-right-color: var(--fill-color);\n",
              "    }\n",
              "    40% {\n",
              "      border-color: transparent;\n",
              "      border-right-color: var(--fill-color);\n",
              "      border-top-color: var(--fill-color);\n",
              "    }\n",
              "    60% {\n",
              "      border-color: transparent;\n",
              "      border-right-color: var(--fill-color);\n",
              "    }\n",
              "    80% {\n",
              "      border-color: transparent;\n",
              "      border-right-color: var(--fill-color);\n",
              "      border-bottom-color: var(--fill-color);\n",
              "    }\n",
              "    90% {\n",
              "      border-color: transparent;\n",
              "      border-bottom-color: var(--fill-color);\n",
              "    }\n",
              "  }\n",
              "</style>\n",
              "\n",
              "  <script>\n",
              "    async function quickchart(key) {\n",
              "      const quickchartButtonEl =\n",
              "        document.querySelector('#' + key + ' button');\n",
              "      quickchartButtonEl.disabled = true;  // To prevent multiple clicks.\n",
              "      quickchartButtonEl.classList.add('colab-df-spinner');\n",
              "      try {\n",
              "        const charts = await google.colab.kernel.invokeFunction(\n",
              "            'suggestCharts', [key], {});\n",
              "      } catch (error) {\n",
              "        console.error('Error during call to suggestCharts:', error);\n",
              "      }\n",
              "      quickchartButtonEl.classList.remove('colab-df-spinner');\n",
              "      quickchartButtonEl.classList.add('colab-df-quickchart-complete');\n",
              "    }\n",
              "    (() => {\n",
              "      let quickchartButtonEl =\n",
              "        document.querySelector('#df-e38f75aa-b613-48bb-aedb-25eb4b615553 button');\n",
              "      quickchartButtonEl.style.display =\n",
              "        google.colab.kernel.accessAllowed ? 'block' : 'none';\n",
              "    })();\n",
              "  </script>\n",
              "</div>\n",
              "\n",
              "    </div>\n",
              "  </div>\n"
            ]
          },
          "metadata": {},
          "execution_count": 12
        }
      ]
    },
    {
      "cell_type": "code",
      "source": [
        "train[\"label\"].value_counts()"
      ],
      "metadata": {
        "id": "BpWJAEi0nviO",
        "colab": {
          "base_uri": "https://localhost:8080/"
        },
        "outputId": "46040fa9-b136-4df3-81a6-47d0b3578e36"
      },
      "execution_count": null,
      "outputs": [
        {
          "output_type": "execute_result",
          "data": {
            "text/plain": [
              "1    1182\n",
              "0     994\n",
              "Name: label, dtype: int64"
            ]
          },
          "metadata": {},
          "execution_count": 13
        }
      ]
    },
    {
      "cell_type": "code",
      "source": [
        "train['kfold'].value_counts()"
      ],
      "metadata": {
        "colab": {
          "base_uri": "https://localhost:8080/"
        },
        "id": "aRgztdaNHHvY",
        "outputId": "49fd1bb8-c278-48dd-ee07-82d8c9f094f0"
      },
      "execution_count": null,
      "outputs": [
        {
          "output_type": "execute_result",
          "data": {
            "text/plain": [
              "0    436\n",
              "2    435\n",
              "4    435\n",
              "3    435\n",
              "1    435\n",
              "Name: kfold, dtype: int64"
            ]
          },
          "metadata": {},
          "execution_count": 14
        }
      ]
    },
    {
      "cell_type": "markdown",
      "source": [
        "## 画像の読み込みと前処理"
      ],
      "metadata": {
        "id": "wr0HntSeZkSs"
      }
    },
    {
      "cell_type": "code",
      "source": [
        "class CustomDataset(Dataset):\n",
        "    def __init__(self, df, transform, data_type):\n",
        "        self.df = df\n",
        "        self.data_type = data_type\n",
        "        self.images = []\n",
        "\n",
        "        if self.data_type == \"train\":\n",
        "            self.image_paths = df['image_name']\n",
        "            self.labels = df['label']\n",
        "        if self.data_type == \"test\":\n",
        "            self.image_paths = df[0]\n",
        "\n",
        "        self.transform = transform\n",
        "\n",
        "        # あらかじめRAMに画像をロードしておく\n",
        "        for image_path in self.image_paths:\n",
        "            if self.data_type == \"train\":\n",
        "                image = cv2.imread(f\"/content/train/{image_path}\")\n",
        "            if self.data_type == \"test\":\n",
        "                image = cv2.imread(f\"/content/test/{image_path}\")\n",
        "\n",
        "            image = cv2.cvtColor(image, cv2.COLOR_BGR2RGB)\n",
        "            self.images.append(image)\n",
        "\n",
        "    def __len__(self):\n",
        "        return len(self.df)\n",
        "\n",
        "    def __getitem__(self, index: int):\n",
        "        image = self.images[index]\n",
        "\n",
        "        image = self.transform(image=image)[\"image\"]\n",
        "\n",
        "        if self.data_type == \"train\":\n",
        "            label = self.labels[index]\n",
        "            label = torch.tensor(label, dtype=torch.long)\n",
        "            return image, label\n",
        "\n",
        "        if self.data_type == \"test\":\n",
        "            return image"
      ],
      "metadata": {
        "id": "i7d9-woComYR"
      },
      "execution_count": null,
      "outputs": []
    },
    {
      "cell_type": "code",
      "source": [
        "import albumentations as albu\n",
        "from albumentations.pytorch import transforms as AT\n",
        "import torchvision.transforms as T\n",
        "\n",
        "# Augumentation用\n",
        "#transforms.Composeを使う方法もあるが、albumentatioの方がより高速かつ柔軟らしい\n",
        "image_transform = albu.Compose([\n",
        "    albu.Resize(ARGS[\"image_size\"][0], ARGS[\"image_size\"][1]),\n",
        "    albu.HorizontalFlip(p=0.5),\n",
        "    albu.VerticalFlip(p=0.5),\n",
        "    albu.RandomRotate90(),\n",
        "    albu.Normalize((0.5, 0.5, 0.5), (0.5, 0.5, 0.5)),\n",
        "    AT.ToTensorV2()\n",
        "])"
      ],
      "metadata": {
        "id": "SM1CbL-qb_kE"
      },
      "execution_count": null,
      "outputs": []
    },
    {
      "cell_type": "markdown",
      "source": [
        "## 学習用関数定義\n",
        "`torch.cuda.amp.autocast(enabled=ARGS[\"apex\"]):`を入れると計算の高速化とメモリの節約ができます。"
      ],
      "metadata": {
        "id": "7bu39caaZ8vR"
      }
    },
    {
      "cell_type": "code",
      "source": [
        "def train_one_epoch(model, optimizer, scheduler, train_loader, device, epoch):\n",
        "    model.train()\n",
        "    dataset_size = 0\n",
        "    running_loss = 0.0\n",
        "    running_score = []\n",
        "    running_score_y = []\n",
        "\n",
        "    # GradScalerとは「勾配をスケール（大きくする）するもの」\n",
        "    # float16で表現できる桁数は限られており，小さい数値はアンダーフローで消えてしまう\n",
        "    # 特に勾配計算ではアンダーフローが起きやすく、それを防ぐために勾配計算の前に勾配を大きくする必要がある\n",
        "    # apexとは「NVIDIAのAMP機能」\n",
        "    # AMP機能とは「通常float32で計算するものをfloat16で計算して高速化するための技術」\n",
        "    # AMP = Automatic Mixed Precision = 自動混合精度\n",
        "\n",
        "    # つまり、このコードは「勾配のスケールをfloat16でやりますよ」ってこと\n",
        "    scaler = GradScaler(enabled=ARGS[\"apex\"])\n",
        "\n",
        "    train_loss = []\n",
        "    # ループの進行状況を表示するためのやつ\n",
        "    bar = tqdm(enumerate(train_loader), total=len(train_loader))\n",
        "    # トレーニングデータローダーからバッチごとの画像とターゲットを取得。bar（進捗バー）によってループの進行状況を表示\n",
        "    for step, (images, targets) in bar:\n",
        "      # バッチ内の画像データと正解ラベルを計算デバイス（GPUまたはCPU）に移動\n",
        "      images = images.to(device)\n",
        "      targets = targets.to(device)\n",
        "\n",
        "      batch_size = targets.size(0)\n",
        "      # AMPを使用して、計算をfloat16で行う。これにより、計算の速度が向上し、メモリ使用量が減少する\n",
        "      with torch.cuda.amp.autocast(enabled=ARGS[\"apex\"]):\n",
        "          # モデルに入力データを与えて、出力を計算\n",
        "          outputs = model(images)\n",
        "          # 計算された出力とターゲットとの間で損失を計算\n",
        "          loss = criterion(ARGS, outputs, targets)\n",
        "\n",
        "      # 損失をscalerでかなり大きくしてから逆伝播\n",
        "      scaler.scale(loss).backward()\n",
        "\n",
        "      # 勾配の大きさを閾値内に制限することで、勾配爆発を防ぐ\n",
        "      # 勾配爆発とは「ニューラルネットワークのトレーニング中に勾配が非常に大きな値を取ることで発生する問題」\n",
        "      # 勾配が非常に大きな値を持つと、重みの更新量も大きくなり、モデルが不安定になったり発散したりする可能性がある\n",
        "      if ARGS[\"clip_grad_norm\"] != \"None\":\n",
        "          grad_norm = torch.nn.utils.clip_grad_norm_(model.parameters(), ARGS[\"clip_grad_norm\"])\n",
        "      else:\n",
        "          grad_norm = None\n",
        "\n",
        "      # 逆伝播が終わってからもとの勾配の大きさに直してパラメタを更新\n",
        "      scaler.step(optimizer)\n",
        "      scaler.update()\n",
        "      # モデル内のすべての勾配をゼロにリセット。これにより、次のバッチの勾配計算が独立して行われる\n",
        "      optimizer.zero_grad()\n",
        "\n",
        "      # 学習率スケジューラが存在する場合、学習率を更新\n",
        "      if scheduler is not None:\n",
        "          scheduler.step()\n",
        "\n",
        "      # このバッチの訓練損失を train_loss リストに追加\n",
        "      # item()は「PyTorchのテンソル（Tensor）からPythonの数値（スカラー）を取得するためのメソッド」\n",
        "      train_loss.append(loss.item())\n",
        "\n",
        "      # トレーニングデータのバッチごとの損失を累積\n",
        "      # 現在のバッチの損失（loss）をバッチサイズ（batch_size）と掛けて加算。これにより、トレーニングデータ全体に対する累積損失が計算される\n",
        "      running_loss += (loss.item() * batch_size)\n",
        "      # データセットのサンプル数をバッチサイズごとに累積。これにより、トレーニングデータ全体のサンプル数が計算される\n",
        "      dataset_size += batch_size\n",
        "\n",
        "      # エポックごとの平均損失を計算\n",
        "      epoch_loss = running_loss / dataset_size\n",
        "\n",
        "      # モデルの出力と正解ラベルをリストに追加\n",
        "      # detach().cpu().numpy()は「PyTorchテンソルをNumpy配列に変換するためのもの」\n",
        "      # detach()は「outputsを元のテンソルの計算グラフから切り離し、新しいテンソルとして生成するもの」\n",
        "      # cpu()は「テンソルをCPUメモリに移動させるもの」\n",
        "      # numpy()は「テンソルをNumpy配列に変換するもの」\n",
        "      running_score.append(outputs.detach().cpu().numpy())\n",
        "      running_score_y.append(targets.detach().cpu().numpy())\n",
        "\n",
        "      # スコアを計算。get_score 関数は別の場所で定義されており、戻り値は(accuracy, auc_score)\n",
        "      score = get_score(running_score_y, running_score)\n",
        "\n",
        "      # 進捗バーにエポック、損失、スコアなどの情報を表示\n",
        "      bar.set_postfix(Epoch=epoch, Train_Loss=epoch_loss,\n",
        "                      Train_Acc=score[0],\n",
        "                      Train_Auc=score[1],\n",
        "                      LR=optimizer.param_groups[0]['lr']\n",
        "                          )\n",
        "    #  ガベージコレクションを実行してメモリを解放\n",
        "    gc.collect()\n",
        "    # score = (accuracy, auc_score)\n",
        "    return epoch_loss, score"
      ],
      "metadata": {
        "id": "yiTL8651c4xu"
      },
      "execution_count": null,
      "outputs": []
    },
    {
      "cell_type": "code",
      "source": [
        "# 検証では逆伝搬を行わないため、勾配計算を行わない\n",
        "# この@から始まるやつは「デコレータ」っていうらしい。関数の処理の前後にコメントなどの独自の処理を加えたりできるらしい\n",
        "@torch.no_grad()\n",
        "def valid_one_epoch(args, model, optimizer, valid_loader, epoch):\n",
        "    # モデルを評価モードに設定\n",
        "    # これにより、モデル内部の学習可能なパラメータが凍結され、バッチ正規化やドロップアウトのような訓練中にのみ適用される機能が無効になる\n",
        "    model.eval()\n",
        "\n",
        "    dataset_size = 0\n",
        "    running_loss = 0.0\n",
        "    preds = []\n",
        "    valid_targets = []\n",
        "    softmax = nn.Softmax()\n",
        "\n",
        "    bar = tqdm(enumerate(valid_loader), total=len(valid_loader))\n",
        "    # このforはバッチ単位で処理される\n",
        "    for step, (images, targets) in enumerate(valid_loader):\n",
        "      images = images.to(args[\"device\"])\n",
        "      targets = targets.to(args[\"device\"])\n",
        "      batch_size = targets.size(0)\n",
        "      # 誤差逆伝搬を無効にして、計算中に勾配の計算を行わないようにする\n",
        "      with torch.no_grad():\n",
        "        outputs = model(images)\n",
        "        # モデルの出力をソフトマックス関数で確率分布に変換\n",
        "        predict = outputs.softmax(dim=1)\n",
        "        loss = criterion(args, outputs, targets)\n",
        "\n",
        "      running_loss += (loss.item() * batch_size)\n",
        "      dataset_size += batch_size\n",
        "\n",
        "      epoch_loss = running_loss / dataset_size\n",
        "\n",
        "      preds.append(predict.detach().cpu().numpy())\n",
        "      valid_targets.append(targets.detach().cpu().numpy())\n",
        "\n",
        "      # 正解ラベルがすべて同じ場合は、評価をスキップ。これにより、計算が不要な場合の効率化を図る\n",
        "      if len(set(np.concatenate(valid_targets))) == 1:\n",
        "          continue\n",
        "      score = get_score(valid_targets, preds)\n",
        "\n",
        "      bar.set_postfix(Epoch=epoch, Valid_Loss=epoch_loss,\n",
        "                      Valid_Acc=score[0],\n",
        "                      Valid_Auc=score[1],\n",
        "                      LR=optimizer.param_groups[0]['lr'])\n",
        "\n",
        "    # predsは0～1の確率\n",
        "    return epoch_loss, preds, valid_targets, score\n"
      ],
      "metadata": {
        "id": "DlUuoRP3F39H"
      },
      "execution_count": null,
      "outputs": []
    },
    {
      "cell_type": "code",
      "source": [
        "# K分割交差検証の1つの分割（fold）におけるモデルのトレーニングと評価を行う関数\n",
        "def one_fold(model, optimizer, scheduler, train_loader, valid_loader, device, num_epochs, fold):\n",
        "\n",
        "    # GPUが利用可能な場合に、利用されるGPUの名前を表示\n",
        "    if torch.cuda.is_available():\n",
        "        print(\"[INFO] Using GPU: {}\\n\".format(torch.cuda.get_device_name()))\n",
        "\n",
        "    # 処理の開始時刻を記録\n",
        "    start = time.time()\n",
        "    # ベストスコアを達成したエポックでのモデルの重みを保持する変数。これはただの初期化\n",
        "    best_model_wts = copy.deepcopy(model.state_dict())\n",
        "    # ベストエポックスコアを無限大に初期化\n",
        "    best_epoch_score = np.inf\n",
        "    # 単純な初期化\n",
        "    best_prediction = None\n",
        "\n",
        "    # ベストスコアをマイナス無限大に初期化\n",
        "    best_score = -np.inf\n",
        "    train_epoch_loss_list = []\n",
        "    valid_epoch_loss_list = []\n",
        "    # train_one_epoch関数をepochの回数分実行するって仕組み\n",
        "    for epoch in range(1, 1+num_epochs):\n",
        "      # train_one_epochは別のセルに定義されている\n",
        "      # train_score = (accuracy, auc_score)\n",
        "      train_epoch_loss, train_score = train_one_epoch(model,\n",
        "                                                      optimizer,\n",
        "                                                      scheduler,\n",
        "                                                      train_loader=train_loader,\n",
        "                                                      device=device,\n",
        "                                                      epoch=epoch)\n",
        "\n",
        "      train_acc, train_auc = train_score\n",
        "\n",
        "      # loss、予測確率、正解ラベル、検証データでのスコア (accuracy, auc_score)\n",
        "      valid_epoch_loss, predictions, valid_targets, valid_score = valid_one_epoch(ARGS,\n",
        "                                                                                  model,\n",
        "                                                                                  optimizer,\n",
        "                                                                                  valid_loader,\n",
        "                                                                                  epoch=epoch)\n",
        "      valid_acc, valid_auc = valid_score\n",
        "      train_epoch_loss_list.append(train_epoch_loss)\n",
        "      valid_epoch_loss_list.append(valid_epoch_loss)\n",
        "\n",
        "      # Epochが終わるごとにlossやスコアを表示\n",
        "      LOGGER.info(f'Epoch {epoch} - avg_train_loss: {train_epoch_loss:.4f}  avg_valid_loss: {valid_epoch_loss:.4f}')\n",
        "      LOGGER.info(f'Epoch {epoch} - Train Acc: {train_acc:.4f}  Train Auc: {train_auc:.4f}  Valid Acc: {valid_acc:.4f}  Valid Auc: {valid_auc:.4f}')\n",
        "\n",
        "      # あるEpochのaucが今までのaucを超えていたらベストaucを更新してモデルの重みを保存\n",
        "      #if valid_epoch_loss <= best_score:\n",
        "       # best_score = valid_epoch_loss\n",
        "      if valid_auc >= best_score:\n",
        "        best_score = valid_auc\n",
        "\n",
        "        print(f\"{b_}Validation Score Improved ({best_epoch_score} ---> {valid_auc})\")\n",
        "        best_epoch_score = valid_auc\n",
        "        # モデルの重みを保存\n",
        "        best_model_wts = copy.deepcopy(model.state_dict())\n",
        "        # PATH = f\"Score-Fold-{fold}.bin\"\n",
        "        # 次以降のEpochでベストaucが更新されたら、binファイルを上書き保存\n",
        "        PATH = ARGS[\"OUT_DIR\"] + f\"Score-Fold-{fold}.bin\"\n",
        "        torch.save(model.state_dict(), PATH)\n",
        "        # Save a model file from the current directory\n",
        "        print(f\"Model Saved{sr_}\")\n",
        "\n",
        "        # predictionsは[[[0.8, 0.2], [0.1, 0.9]], [[0.4, 0.6], [0.7, 0.3]] , [[0.2, 0.8], [0.8, 0.2]]]みたいな３次元配列\n",
        "        # concatenateすることで、[[0.8, 0.2], [0.1, 0.9], [0.4, 0.6], [0.7, 0.3] , [0.2, 0.8], [0.8, 0.2]]というような２次元配列になる\n",
        "        # その配列の１列目がそのまま予測確率になってるってわけ\n",
        "        best_prediction = np.concatenate(predictions, axis=0)[:,1]\n",
        "\n",
        "    end = time.time()\n",
        "    time_elapsed = end - start\n",
        "\n",
        "    # 1fold終了後にトレーニングにかかった時間とベストスコアを表示\n",
        "    LOGGER.info('Training complete in {:.0f}h {:.0f}m {:.0f}s'.format(\n",
        "        time_elapsed // 3600, (time_elapsed % 3600) // 60, (time_elapsed % 3600) % 60))\n",
        "    LOGGER.info(\"Best Score: {:.4f}\".format(best_epoch_score))\n",
        "\n",
        "    # load best model weights\n",
        "    model.load_state_dict(best_model_wts)\n",
        "    return model, best_prediction, valid_targets, best_epoch_score, train_epoch_loss_list, valid_epoch_loss_list"
      ],
      "metadata": {
        "id": "x3yIRI8CF8mD"
      },
      "execution_count": null,
      "outputs": []
    },
    {
      "cell_type": "markdown",
      "source": [
        "## モデルや損失関数、最適化関数等の定義"
      ],
      "metadata": {
        "id": "a1753S3CfeTA"
      }
    },
    {
      "cell_type": "code",
      "source": [
        "def create_model(args):\n",
        "    # timmを使用して事前学習済みモデルを読み込む\n",
        "    model = timm.create_model(args[\"model_name\"], pretrained=True)\n",
        "    model.reset_classifier(args[\"num_classes\"])\n",
        "    return model\n",
        "\n",
        "#https://take-tech-engineer.com/pytorch-focal-loss/\n",
        "#https://deecode.net/?p=925\n",
        "class Focal_MultiLabel_Loss(nn.Module):\n",
        "    def __init__(self, gamma):\n",
        "      #親クラス（nn.Module）のコンストラクタを呼び出し\n",
        "      super(Focal_MultiLabel_Loss, self).__init__()\n",
        "      self.gamma = gamma\n",
        "      #損失関数内でシグモイド計算がされているので、train_one_epochの最後にシグモイド関数を適用する必要がない\n",
        "      self.bceloss = nn.BCEWithLogitsLoss(reduction='none')\n",
        "\n",
        "    def forward(self, outputs, labels):\n",
        "      bce = self.bceloss(outputs, labels)\n",
        "      #torch.exp()は、入力テンソルの要素の指数を取得して、新しいテンソルを返す\n",
        "      bce_exp = torch.exp(-bce)\n",
        "      #二値交差エントロピー損失の指数を計算\n",
        "      focal_loss = (1-bce_exp)**self.gamma * bce\n",
        "      return focal_loss.mean()\n",
        "\n",
        "# class_weightsは「クラスごとの重み」。デフォルトではNone、つまり全クラス同じ重み\n",
        "def criterion(args, outputs, labels, class_weights=None):\n",
        "    if args['criterion'] == 'CrossEntropy':\n",
        "      return nn.CrossEntropyLoss(weight=class_weights).to(args[\"device\"])(outputs, labels)\n",
        "    elif args['criterion'] == \"FocalLoss\":\n",
        "      #outputsは２次元テンソルだが、labelsは１次元テンソル。なので、outputs[:, 1]で2列目だけを取り出す\n",
        "      #outputsはfloat32で、labelsはint64であるため、labelsをfloatに変換\n",
        "      return Focal_MultiLabel_Loss(gamma=2).to(args[\"device\"])(outputs[:, 1], labels.float())\n",
        "    elif args['criterion'] == \"None\":\n",
        "        return None\n",
        "\n",
        "def fetch_optimizer(optimizer_parameters, args, lr, betas, train_loader, optimizer_name):\n",
        "    if optimizer_name == \"Adam\":\n",
        "        optimizer = optim.Adam(optimizer_parameters, lr=lr, betas=betas)\n",
        "    elif optimizer_name == \"AdamW\":\n",
        "        optimizer = optim.AdamW(optimizer_parameters, lr=lr, betas=betas)\n",
        "    elif optimizer_name == \"RAdam\":\n",
        "        optimizer = optim.RAdam(optimizer_parameters, lr=lr, betas=betas)\n",
        "    elif optimizer_name == \"Lion\":\n",
        "        optimizer = Lion(optimizer_parameters, weight_decay=0.1, betas=(0.95,0.98), lr=lr)\n",
        "    elif optimizer_name == \"SAM\":\n",
        "        base_optimizer = optim.SGD\n",
        "        optimizer = SAM(optimizer_parameters, base_optimizer, lr = lr, momentum=0.9)\n",
        "    elif optimizer_name == \"Ranger21\":\n",
        "        optimizer = Ranger21(optimizer_parameters, lr = lr, num_epochs = args['epochs'], num_batches_per_epoch = len(train_loader))\n",
        "    elif optimizer_name == \"SGD\":\n",
        "        optimizer = optim.SGD(optimizer_parameters, lr = lr)\n",
        "    elif optimizer_name == \"momentum_SGD\":\n",
        "        optimizer = optim.SGD(optimizer_parameters,lr=lr,momentum=0.9)\n",
        "    elif optimizer_name == \"Adagrad\":\n",
        "        optimizer = optim.Adagrad(optimizer_parameters, lr = lr)\n",
        "    elif optimizer_name == \"RMSprop\":\n",
        "        optimizer = optim.RMSprop(optimizer_parameters, lr = lr)\n",
        "    elif optimizer_name == \"Adadelta\":\n",
        "        optimizer = optim.Adadelta(optimizer_parameters, lr = lr)\n",
        "    return optimizer\n",
        "\n",
        "def lr_lambda(current_step):\n",
        "    warmup_steps = 108\n",
        "    #1epochごとのステップ数は108～109で、4epochあるので、total_step=432～436\n",
        "    #len(train_loader)は1epochごとのステップ数\n",
        "    total_steps = 436\n",
        "    if current_step < warmup_steps:\n",
        "        return float(current_step) / float(max(1, warmup_steps))\n",
        "    else:\n",
        "        #progressの範囲は[0, 1]\n",
        "        progress = (current_step - warmup_steps) / float(max(1, total_steps - warmup_steps))\n",
        "        #cosine関数の結果は[-1, 1]の範囲になり、1.0を足すため、[0, 2]の範囲になってしまう\n",
        "        #そのため、0.5を掛けることで、[0, 1]の範囲になるようにしている\n",
        "        return 0.5 * (1.0 + np.cos(np.pi * progress))\n",
        "\n",
        "def fetch_scheduler(args, optimizer):\n",
        "    # 学習率を余弦関数の形状で変化させるもので、トレーニングの進行に従って学習率を調整\n",
        "    # T_maxはエポック数の最大値、eta_minは最小学習率\n",
        "    if args['scheduler'] == 'CosineAnnealingLR':\n",
        "        scheduler = lr_scheduler.CosineAnnealingLR(optimizer,T_max=args['T_max'],\n",
        "                                                   eta_min=args['min_lr'])\n",
        "\n",
        "    # 一定の周期で学習率をリセットすることで、訓練中の学習率の変化を制御\n",
        "    # T_0は最初のリスタートまでのエポック数\n",
        "    elif args['scheduler'] == 'CosineAnnealingWarmRestarts':\n",
        "        scheduler = lr_scheduler.CosineAnnealingWarmRestarts(optimizer,T_0=args['T_0'],\n",
        "                                                             eta_min=args['min_lr'])\n",
        "\n",
        "    # 参考：https://tam5917.hatenablog.com/entry/2022/09/16/214700\n",
        "    elif args['scheduler'] == 'warmup':\n",
        "        scheduler = lr_scheduler.LambdaLR(optimizer, lr_lambda)\n",
        "\n",
        "    elif args['scheduler'] == \"None\":\n",
        "        scheduler = None\n",
        "\n",
        "    return scheduler\n",
        "\n",
        "def get_score(y_trues, y_preds):\n",
        "\n",
        "    predict_list, targets_list = np.concatenate(y_preds, axis=0), np.concatenate(y_trues)\n",
        "    predict_list_proba = predict_list.copy()[:, 1]\n",
        "    predict_list = predict_list.argmax(axis=1)\n",
        "\n",
        "    accuracy = accuracy_score(predict_list, targets_list)\n",
        "    auc_score = roc_auc_score(targets_list, predict_list_proba)\n",
        "\n",
        "    return (accuracy, auc_score)\n",
        "\n",
        "def prepare_loaders(args, train, image_transform, fold):\n",
        "    #特定のクロスバリデーションフォールドを除外したデータセットを作成。\n",
        "    #reset_indexにより旧インデックスをリセットし、新しいインデックスを付け直す\n",
        "    #drop=True は、旧インデックスを列として追加しないように指定するためのもの\n",
        "    df_train = train[train.kfold != fold].reset_index(drop=True)\n",
        "    df_valid = train[train.kfold == fold].reset_index(drop=True)\n",
        "\n",
        "    train_dataset = CustomDataset(df_train, image_transform, data_type=\"train\")\n",
        "    valid_dataset = CustomDataset(df_valid, image_transform, data_type=\"train\")\n",
        "\n",
        "    # num_workers=2などに設定することで、multi-process data loadingとなり、処理が高速化される\n",
        "    # pin_memory=Trueにすることで、automatic memory pinningが使用できる。CPUのメモリ領域がページングされないようになり、高速化が期待される\n",
        "    train_loader = DataLoader(train_dataset, batch_size=args['train_batch_size'],\n",
        "                              worker_init_fn=worker_init_fn(args[\"seed\"]),\n",
        "                              num_workers=os.cpu_count(),\n",
        "                              shuffle=True, pin_memory=True, drop_last=True)\n",
        "    valid_loader = DataLoader(valid_dataset, batch_size=args['test_batch_size'],\n",
        "                              num_workers=os.cpu_count(),\n",
        "                              shuffle=False, pin_memory=True)\n",
        "\n",
        "    return train_loader, valid_loader"
      ],
      "metadata": {
        "id": "VQMwL18z2xDR"
      },
      "execution_count": null,
      "outputs": []
    },
    {
      "cell_type": "markdown",
      "source": [
        "## メイン（アンサンブル）\n",
        "\n",
        "乱数のみを変えたモデルを5つ用意する。1つずつ交差検証による学習→推論を行い、それぞれの結果を最終的に平均して結果を出力\n"
      ],
      "metadata": {
        "id": "27GRr1wze246"
      }
    },
    {
      "cell_type": "code",
      "source": [
        "@torch.no_grad()\n",
        "def test_fn(model, dataloader, device):\n",
        "    model.eval()\n",
        "\n",
        "    dataset_size = 0\n",
        "    running_loss = 0.0\n",
        "    predict_list = []\n",
        "\n",
        "    bar = tqdm(enumerate(dataloader), total=len(dataloader))\n",
        "    for step, images in bar:\n",
        "        images = images.to(device)\n",
        "        with torch.no_grad():\n",
        "            outputs = model(images)\n",
        "            #出力にソフトマックス関数を適用\n",
        "            predicts = outputs.softmax(dim=1)\n",
        "\n",
        "        predicts = predicts.cpu().detach().numpy()\n",
        "        predict_list.append(predicts)\n",
        "    predict_list = np.concatenate(predict_list, axis=0)\n",
        "    #予測値が1である確率を提出します。\n",
        "    predict_list = predict_list[:, 1]\n",
        "    gc.collect()\n",
        "\n",
        "    return predict_list\n",
        "\n",
        "def one_model_inference(model_paths, dataloader, device):\n",
        "    final_preds = []\n",
        "    for i, path in enumerate(model_paths):\n",
        "        model = create_model(ARGS)\n",
        "        model = model.to(device)\n",
        "\n",
        "        #学習済みモデルの読み込み\n",
        "        model.load_state_dict(torch.load(path))\n",
        "        model.eval()\n",
        "\n",
        "        print(f\"Getting predictions for model {i+1}\")\n",
        "        preds = test_fn(model, dataloader, device)\n",
        "        final_preds.append(preds)\n",
        "\n",
        "    #final_predsは元々2次元配列で、np.arrayによりnumpy配列に変換\n",
        "    final_preds = np.array(final_preds)\n",
        "    #numpy配列においてはmeanメソッド(axis=0)により列の平均値を取ることができる。\n",
        "    #例えば、[[1,2],[3,4]]のとき、[2,3]になる\n",
        "    #つまり、1個1個のモデルの予測結果の平均値を取ったものを最終的な予測結果にしている\n",
        "    final_preds = np.mean(final_preds, axis=0)\n",
        "    return final_preds\n",
        "\n",
        "train_copy = train.copy()\n",
        "train_epoch_loss_list_list = []\n",
        "valid_epoch_loss_list_list = []\n",
        "\n",
        "LOGGER.info(ARGS)\n",
        "\n",
        "models = []\n",
        "final_preds = []\n",
        "for i in range(5):\n",
        "    ARGS[\"seed\"] = i+1\n",
        "    print(f\"{y_}====== Model: {i+1} ======\")\n",
        "    LOGGER.info(f\"========== Model: {i+1} training ==========\")\n",
        "\n",
        "    for fold in range(0, ARGS[\"n_fold\"]):\n",
        "        print(f\"{y_}====== Fold: {fold} ======{sr_}\")\n",
        "        LOGGER.info(f\"========== fold: {fold} training ==========\")\n",
        "\n",
        "        # データローダーの作成\n",
        "        train_loader, valid_loader = prepare_loaders(args=ARGS, train=train, image_transform=image_transform, fold=fold)\n",
        "\n",
        "        #フォールドごとにモデルを初期化\n",
        "        model = create_model(ARGS)\n",
        "        model = model.to(ARGS[\"device\"])\n",
        "\n",
        "        #損失関数・最適化関数の定義\n",
        "        optimizer = fetch_optimizer(model.parameters(), args=ARGS, optimizer_name=ARGS[\"optimizer\"], lr=ARGS[\"learning_rate\"], betas=ARGS[\"beta\"], train_loader=train_loader)\n",
        "        scheduler = fetch_scheduler(args=ARGS, optimizer=optimizer)\n",
        "\n",
        "        model, predictions, targets, scores, train_epoch_loss_list, valid_epoch_loss_list = one_fold(model,\n",
        "                                                                                                     optimizer,\n",
        "                                                                                                     scheduler,\n",
        "                                                                                                     train_loader,\n",
        "                                                                                                     valid_loader,\n",
        "                                                                                                     device=ARGS[\"device\"],\n",
        "                                                                                                     num_epochs=ARGS[\"epochs\"],\n",
        "                                                                                                     fold=fold)\n",
        "\n",
        "        # OOFとはOut Of Fold (Prediction)から来ており、文字通りフォールドから出てきた予測値という意味\n",
        "        train_copy.loc[train_copy[train_copy.kfold == fold].index, \"oof\"] = predictions\n",
        "\n",
        "    scores = roc_auc_score(train_copy[\"label\"].values, train_copy[\"oof\"].values)\n",
        "    LOGGER.info(f\"========== CV ==========\")\n",
        "    LOGGER.info(f\"CV: {scores:.4f}\")\n",
        "\n",
        "\n",
        "\n",
        "    #################　ここから評価　##################\n",
        "    LOGGER.info(f\"========== Model: {i} evaluation ==========\")\n",
        "    model.eval()\n",
        "\n",
        "    #sample_submit.csvを読み込む\n",
        "    submit = pd.read_csv(f\"{ARGS['DATA_DIR']}/sample_submit.csv\", header=None)\n",
        "    submit.head()\n",
        "\n",
        "    # test用のデータ拡張\n",
        "    image_transform_test = albu.Compose([\n",
        "        albu.Resize(ARGS[\"image_size\"][0], ARGS[\"image_size\"][1]),\n",
        "        albu.Normalize((0.5, 0.5, 0.5), (0.5, 0.5, 0.5)),\n",
        "        AT.ToTensorV2 ()\n",
        "        ])\n",
        "    test_dataset = CustomDataset(submit, image_transform_test, data_type=\"test\")\n",
        "    test_loader = DataLoader(test_dataset, batch_size=32, shuffle=False, num_workers=4)\n",
        "\n",
        "    MODEL_PATHS = [\n",
        "        f\"{ARGS['OUT_DIR']}/Score-Fold-{i}.bin\" for i in range(ARGS[\"n_fold\"])\n",
        "    ]\n",
        "\n",
        "    preds = one_model_inference(MODEL_PATHS, test_loader, ARGS[\"device\"])\n",
        "    final_preds.append(preds)\n",
        "\n",
        "    #ガベージコレクション\n",
        "    del model, train_loader, valid_loader, test_loader\n",
        "    _ = gc.collect()\n",
        "    torch.cuda.empty_cache()\n",
        "    print()"
      ],
      "metadata": {
        "id": "kImFoZatuJ9L",
        "colab": {
          "base_uri": "https://localhost:8080/",
          "height": 1000,
          "referenced_widgets": [
            "c11c1e91e5ad473295fcebd0ed57439c",
            "b9ed8dce1cf44af483617afb63d755b6",
            "43a40c63cd1c428381db05670d3730e0",
            "27748badf255415aa4586b17c152c571",
            "d4b3c000bf574b62956bd087feae7392",
            "3d3ac1f7e1724742ac6cf5aec1178ed1",
            "82aa260636c34bbfa10dd5f180642c2e",
            "cefe50ab77a7423fa4e61d9dc08f3b13",
            "02170cbbdcf94d01a2c499c71a3e74e6",
            "23da92ac56ad4b4fbcaa88a235fd5fa7",
            "065fbd4389764af993785a459d25abe7"
          ]
        },
        "outputId": "b25c1461-8a76-49c4-caab-7a0fccd664ee"
      },
      "execution_count": null,
      "outputs": [
        {
          "metadata": {
            "tags": null
          },
          "name": "stderr",
          "output_type": "stream",
          "text": [
            "INFO:__main__:{'DATA_DIR': '/content/drive/MyDrive/technoprodesign/data', 'OUT_DIR': './', 'model_name': 'eva02_large_patch14_448.mim_m38m_ft_in22k_in1k', 'n_fold': 5, 'epochs': 4, 'criterion': 'CrossEntropy', 'image_size': (448, 448), 'train_batch_size': 16, 'test_batch_size': 32, 'seed': 777, 'optimizer': 'AdamW', 'learning_rate': 1.5e-05, 'scheduler': 'warmup', 'min_lr': 1e-06, 'T_max': 500, 'beta': (0.9, 0.999), 'n_accumulate': 1, 'clip_grad_norm': 'None', 'apex': True, 'num_classes': 2, 'device': device(type='cuda', index=0)}\n",
            "INFO:__main__:========== Model: 1 training ==========\n",
            "INFO:__main__:========== fold: 0 training ==========\n"
          ]
        },
        {
          "metadata": {
            "tags": null
          },
          "name": "stdout",
          "output_type": "stream",
          "text": [
            "\u001b[33m====== Model: 1 ======\n",
            "\u001b[33m====== Fold: 0 ======\u001b[0m\n"
          ]
        },
        {
          "data": {
            "application/vnd.jupyter.widget-view+json": {
              "model_id": "c11c1e91e5ad473295fcebd0ed57439c",
              "version_major": 2,
              "version_minor": 0
            },
            "text/plain": [
              "Downloading model.safetensors:   0%|          | 0.00/1.22G [00:00<?, ?B/s]"
            ]
          },
          "metadata": {},
          "output_type": "display_data"
        },
        {
          "metadata": {
            "tags": null
          },
          "name": "stdout",
          "output_type": "stream",
          "text": [
            "---modelのconfig---\n",
            "{'url': '', 'hf_hub_id': 'timm/eva02_large_patch14_448.mim_m38m_ft_in22k_in1k', 'architecture': 'eva02_large_patch14_448', 'tag': 'mim_m38m_ft_in22k_in1k', 'custom_load': False, 'input_size': (3, 448, 448), 'fixed_input_size': True, 'interpolation': 'bicubic', 'crop_pct': 1.0, 'crop_mode': 'squash', 'mean': (0.48145466, 0.4578275, 0.40821073), 'std': (0.26862954, 0.26130258, 0.27577711), 'num_classes': 1000, 'pool_size': None, 'first_conv': 'patch_embed.proj', 'classifier': 'head', 'license': 'mit'}\n",
            "[INFO] Using GPU: NVIDIA A100-SXM4-40GB\n",
            "\n"
          ]
        },
        {
          "metadata": {
            "tags": null
          },
          "name": "stderr",
          "output_type": "stream",
          "text": [
            "100%|██████████| 108/108 [01:15<00:00,  1.43it/s, Epoch=1, LR=1.5e-5, Train_Acc=0.773, Train_Auc=0.815, Train_Loss=0.487]\n",
            "  0%|          | 0/14 [00:21<?, ?it/s, Epoch=1, LR=1.5e-5, Valid_Acc=0.826, Valid_Auc=0.901, Valid_Loss=0.408]\n",
            "INFO:__main__:Epoch 1 - avg_train_loss: 0.4868  avg_valid_loss: 0.4082\n",
            "INFO:__main__:Epoch 1 - Train Acc: 0.7731  Train Auc: 0.8151  Valid Acc: 0.8257  Valid Auc: 0.9011\n"
          ]
        },
        {
          "metadata": {
            "tags": null
          },
          "name": "stdout",
          "output_type": "stream",
          "text": [
            "\u001b[34mValidation Score Improved (inf ---> 0.9010877170663446)\n",
            "Model Saved\u001b[0m\n"
          ]
        },
        {
          "metadata": {
            "tags": null
          },
          "name": "stderr",
          "output_type": "stream",
          "text": [
            "100%|██████████| 108/108 [01:05<00:00,  1.64it/s, Epoch=2, LR=1.13e-5, Train_Acc=0.908, Train_Auc=0.947, Train_Loss=0.228]\n",
            "  0%|          | 0/14 [00:20<?, ?it/s, Epoch=2, LR=1.13e-5, Valid_Acc=0.899, Valid_Auc=0.976, Valid_Loss=0.217]\n",
            "INFO:__main__:Epoch 2 - avg_train_loss: 0.2280  avg_valid_loss: 0.2175\n",
            "INFO:__main__:Epoch 2 - Train Acc: 0.9080  Train Auc: 0.9475  Valid Acc: 0.8991  Valid Auc: 0.9763\n"
          ]
        },
        {
          "metadata": {
            "tags": null
          },
          "name": "stdout",
          "output_type": "stream",
          "text": [
            "\u001b[34mValidation Score Improved (0.9010877170663446 ---> 0.9762525708712338)\n",
            "Model Saved\u001b[0m\n"
          ]
        },
        {
          "output_type": "stream",
          "name": "stderr",
          "text": [
            "100%|██████████| 108/108 [01:05<00:00,  1.64it/s, Epoch=3, LR=3.92e-6, Train_Acc=0.978, Train_Auc=0.994, Train_Loss=0.0669]\n",
            "  0%|          | 0/14 [00:20<?, ?it/s, Epoch=3, LR=3.92e-6, Valid_Acc=0.917, Valid_Auc=0.982, Valid_Loss=0.18]\n",
            "INFO:__main__:Epoch 3 - avg_train_loss: 0.0669  avg_valid_loss: 0.1803\n",
            "INFO:__main__:Epoch 3 - Train Acc: 0.9780  Train Auc: 0.9941  Valid Acc: 0.9174  Valid Auc: 0.9816\n"
          ]
        },
        {
          "output_type": "stream",
          "name": "stdout",
          "text": [
            "\u001b[34mValidation Score Improved (0.9762525708712338 ---> 0.9816381485486504)\n",
            "Model Saved\u001b[0m\n"
          ]
        },
        {
          "output_type": "stream",
          "name": "stderr",
          "text": [
            "100%|██████████| 108/108 [01:05<00:00,  1.64it/s, Epoch=4, LR=5.5e-9, Train_Acc=0.996, Train_Auc=1, Train_Loss=0.0202]\n",
            "  0%|          | 0/14 [00:20<?, ?it/s, Epoch=4, LR=5.5e-9, Valid_Acc=0.938, Valid_Auc=0.984, Valid_Loss=0.168]\n",
            "INFO:__main__:Epoch 4 - avg_train_loss: 0.0202  avg_valid_loss: 0.1678\n",
            "INFO:__main__:Epoch 4 - Train Acc: 0.9959  Train Auc: 0.9996  Valid Acc: 0.9381  Valid Auc: 0.9838\n"
          ]
        },
        {
          "output_type": "stream",
          "name": "stdout",
          "text": [
            "\u001b[34mValidation Score Improved (0.9816381485486504 ---> 0.9837796577825838)\n"
          ]
        },
        {
          "output_type": "stream",
          "name": "stderr",
          "text": [
            "INFO:__main__:Training complete in 0h 6m 8s\n",
            "INFO:__main__:Best Score: 0.9838\n",
            "INFO:__main__:========== fold: 1 training ==========\n"
          ]
        },
        {
          "output_type": "stream",
          "name": "stdout",
          "text": [
            "Model Saved\u001b[0m\n",
            "\u001b[33m====== Fold: 1 ======\u001b[0m\n",
            "---modelのconfig---\n",
            "{'url': '', 'hf_hub_id': 'timm/eva02_large_patch14_448.mim_m38m_ft_in22k_in1k', 'architecture': 'eva02_large_patch14_448', 'tag': 'mim_m38m_ft_in22k_in1k', 'custom_load': False, 'input_size': (3, 448, 448), 'fixed_input_size': True, 'interpolation': 'bicubic', 'crop_pct': 1.0, 'crop_mode': 'squash', 'mean': (0.48145466, 0.4578275, 0.40821073), 'std': (0.26862954, 0.26130258, 0.27577711), 'num_classes': 1000, 'pool_size': None, 'first_conv': 'patch_embed.proj', 'classifier': 'head', 'license': 'mit'}\n",
            "[INFO] Using GPU: NVIDIA A100-SXM4-40GB\n",
            "\n"
          ]
        },
        {
          "output_type": "stream",
          "name": "stderr",
          "text": [
            "100%|██████████| 108/108 [01:05<00:00,  1.64it/s, Epoch=1, LR=1.5e-5, Train_Acc=0.767, Train_Auc=0.815, Train_Loss=0.487]\n",
            "  0%|          | 0/14 [00:20<?, ?it/s, Epoch=1, LR=1.5e-5, Valid_Acc=0.839, Valid_Auc=0.922, Valid_Loss=0.359]\n",
            "INFO:__main__:Epoch 1 - avg_train_loss: 0.4870  avg_valid_loss: 0.3586\n",
            "INFO:__main__:Epoch 1 - Train Acc: 0.7668  Train Auc: 0.8154  Valid Acc: 0.8391  Valid Auc: 0.9220\n"
          ]
        },
        {
          "output_type": "stream",
          "name": "stdout",
          "text": [
            "\u001b[34mValidation Score Improved (inf ---> 0.9219615024273912)\n",
            "Model Saved\u001b[0m\n"
          ]
        },
        {
          "output_type": "stream",
          "name": "stderr",
          "text": [
            "100%|██████████| 108/108 [01:05<00:00,  1.64it/s, Epoch=2, LR=1.13e-5, Train_Acc=0.909, Train_Auc=0.956, Train_Loss=0.222]\n",
            "  0%|          | 0/14 [00:20<?, ?it/s, Epoch=2, LR=1.13e-5, Valid_Acc=0.913, Valid_Auc=0.967, Valid_Loss=0.237]\n",
            "INFO:__main__:Epoch 2 - avg_train_loss: 0.2218  avg_valid_loss: 0.2370\n",
            "INFO:__main__:Epoch 2 - Train Acc: 0.9091  Train Auc: 0.9561  Valid Acc: 0.9126  Valid Auc: 0.9670\n"
          ]
        },
        {
          "output_type": "stream",
          "name": "stdout",
          "text": [
            "\u001b[34mValidation Score Improved (0.9219615024273912 ---> 0.9670172898390256)\n",
            "Model Saved\u001b[0m\n"
          ]
        },
        {
          "output_type": "stream",
          "name": "stderr",
          "text": [
            "100%|██████████| 108/108 [01:05<00:00,  1.64it/s, Epoch=3, LR=3.92e-6, Train_Acc=0.987, Train_Auc=0.997, Train_Loss=0.0461]\n",
            "  0%|          | 0/14 [00:20<?, ?it/s, Epoch=3, LR=3.92e-6, Valid_Acc=0.922, Valid_Auc=0.981, Valid_Loss=0.183]\n",
            "INFO:__main__:Epoch 3 - avg_train_loss: 0.0461  avg_valid_loss: 0.1827\n",
            "INFO:__main__:Epoch 3 - Train Acc: 0.9873  Train Auc: 0.9969  Valid Acc: 0.9218  Valid Auc: 0.9810\n"
          ]
        },
        {
          "output_type": "stream",
          "name": "stdout",
          "text": [
            "\u001b[34mValidation Score Improved (0.9670172898390256 ---> 0.9809854356528405)\n",
            "Model Saved\u001b[0m\n"
          ]
        },
        {
          "output_type": "stream",
          "name": "stderr",
          "text": [
            "100%|██████████| 108/108 [01:05<00:00,  1.64it/s, Epoch=4, LR=5.5e-9, Train_Acc=0.996, Train_Auc=0.999, Train_Loss=0.0174]\n",
            "  0%|          | 0/14 [00:20<?, ?it/s, Epoch=4, LR=5.5e-9, Valid_Acc=0.938, Valid_Auc=0.983, Valid_Loss=0.166]\n",
            "INFO:__main__:Epoch 4 - avg_train_loss: 0.0174  avg_valid_loss: 0.1663\n",
            "INFO:__main__:Epoch 4 - Train Acc: 0.9959  Train Auc: 0.9994  Valid Acc: 0.9379  Valid Auc: 0.9833\n"
          ]
        },
        {
          "output_type": "stream",
          "name": "stdout",
          "text": [
            "\u001b[34mValidation Score Improved (0.9809854356528405 ---> 0.983263776509667)\n"
          ]
        },
        {
          "output_type": "stream",
          "name": "stderr",
          "text": [
            "INFO:__main__:Training complete in 0h 6m 1s\n",
            "INFO:__main__:Best Score: 0.9833\n",
            "INFO:__main__:========== fold: 2 training ==========\n"
          ]
        },
        {
          "output_type": "stream",
          "name": "stdout",
          "text": [
            "Model Saved\u001b[0m\n",
            "\u001b[33m====== Fold: 2 ======\u001b[0m\n",
            "---modelのconfig---\n",
            "{'url': '', 'hf_hub_id': 'timm/eva02_large_patch14_448.mim_m38m_ft_in22k_in1k', 'architecture': 'eva02_large_patch14_448', 'tag': 'mim_m38m_ft_in22k_in1k', 'custom_load': False, 'input_size': (3, 448, 448), 'fixed_input_size': True, 'interpolation': 'bicubic', 'crop_pct': 1.0, 'crop_mode': 'squash', 'mean': (0.48145466, 0.4578275, 0.40821073), 'std': (0.26862954, 0.26130258, 0.27577711), 'num_classes': 1000, 'pool_size': None, 'first_conv': 'patch_embed.proj', 'classifier': 'head', 'license': 'mit'}\n",
            "[INFO] Using GPU: NVIDIA A100-SXM4-40GB\n",
            "\n"
          ]
        },
        {
          "output_type": "stream",
          "name": "stderr",
          "text": [
            "100%|██████████| 108/108 [01:05<00:00,  1.64it/s, Epoch=1, LR=1.5e-5, Train_Acc=0.763, Train_Auc=0.804, Train_Loss=0.488]\n",
            "  0%|          | 0/14 [00:20<?, ?it/s, Epoch=1, LR=1.5e-5, Valid_Acc=0.874, Valid_Auc=0.945, Valid_Loss=0.296]\n",
            "INFO:__main__:Epoch 1 - avg_train_loss: 0.4875  avg_valid_loss: 0.2955\n",
            "INFO:__main__:Epoch 1 - Train Acc: 0.7627  Train Auc: 0.8037  Valid Acc: 0.8736  Valid Auc: 0.9454\n"
          ]
        },
        {
          "output_type": "stream",
          "name": "stdout",
          "text": [
            "\u001b[34mValidation Score Improved (inf ---> 0.9454262839621839)\n",
            "Model Saved\u001b[0m\n"
          ]
        },
        {
          "output_type": "stream",
          "name": "stderr",
          "text": [
            "100%|██████████| 108/108 [01:05<00:00,  1.64it/s, Epoch=2, LR=1.13e-5, Train_Acc=0.908, Train_Auc=0.957, Train_Loss=0.224]\n",
            "  0%|          | 0/14 [00:20<?, ?it/s, Epoch=2, LR=1.13e-5, Valid_Acc=0.94, Valid_Auc=0.985, Valid_Loss=0.16]\n",
            "INFO:__main__:Epoch 2 - avg_train_loss: 0.2241  avg_valid_loss: 0.1595\n",
            "INFO:__main__:Epoch 2 - Train Acc: 0.9080  Train Auc: 0.9570  Valid Acc: 0.9402  Valid Auc: 0.9847\n"
          ]
        },
        {
          "output_type": "stream",
          "name": "stdout",
          "text": [
            "\u001b[34mValidation Score Improved (0.9454262839621839 ---> 0.984732986968742)\n",
            "Model Saved\u001b[0m\n"
          ]
        },
        {
          "output_type": "stream",
          "name": "stderr",
          "text": [
            "100%|██████████| 108/108 [01:06<00:00,  1.63it/s, Epoch=3, LR=3.92e-6, Train_Acc=0.987, Train_Auc=0.998, Train_Loss=0.0477]\n",
            "  0%|          | 0/14 [00:20<?, ?it/s, Epoch=3, LR=3.92e-6, Valid_Acc=0.952, Valid_Auc=0.984, Valid_Loss=0.148]\n",
            "INFO:__main__:Epoch 3 - avg_train_loss: 0.0477  avg_valid_loss: 0.1482\n",
            "INFO:__main__:Epoch 3 - Train Acc: 0.9867  Train Auc: 0.9975  Valid Acc: 0.9517  Valid Auc: 0.9843\n",
            "100%|██████████| 108/108 [01:05<00:00,  1.64it/s, Epoch=4, LR=5.5e-9, Train_Acc=0.998, Train_Auc=1, Train_Loss=0.0131]\n",
            "  0%|          | 0/14 [00:20<?, ?it/s, Epoch=4, LR=5.5e-9, Valid_Acc=0.952, Valid_Auc=0.986, Valid_Loss=0.139]\n",
            "INFO:__main__:Epoch 4 - avg_train_loss: 0.0131  avg_valid_loss: 0.1388\n",
            "INFO:__main__:Epoch 4 - Train Acc: 0.9977  Train Auc: 0.9999  Valid Acc: 0.9517  Valid Auc: 0.9857\n"
          ]
        },
        {
          "output_type": "stream",
          "name": "stdout",
          "text": [
            "\u001b[34mValidation Score Improved (0.984732986968742 ---> 0.9856911677029214)\n"
          ]
        },
        {
          "output_type": "stream",
          "name": "stderr",
          "text": [
            "INFO:__main__:Training complete in 0h 5m 59s\n",
            "INFO:__main__:Best Score: 0.9857\n",
            "INFO:__main__:========== fold: 3 training ==========\n"
          ]
        },
        {
          "output_type": "stream",
          "name": "stdout",
          "text": [
            "Model Saved\u001b[0m\n",
            "\u001b[33m====== Fold: 3 ======\u001b[0m\n",
            "---modelのconfig---\n",
            "{'url': '', 'hf_hub_id': 'timm/eva02_large_patch14_448.mim_m38m_ft_in22k_in1k', 'architecture': 'eva02_large_patch14_448', 'tag': 'mim_m38m_ft_in22k_in1k', 'custom_load': False, 'input_size': (3, 448, 448), 'fixed_input_size': True, 'interpolation': 'bicubic', 'crop_pct': 1.0, 'crop_mode': 'squash', 'mean': (0.48145466, 0.4578275, 0.40821073), 'std': (0.26862954, 0.26130258, 0.27577711), 'num_classes': 1000, 'pool_size': None, 'first_conv': 'patch_embed.proj', 'classifier': 'head', 'license': 'mit'}\n",
            "[INFO] Using GPU: NVIDIA A100-SXM4-40GB\n",
            "\n"
          ]
        },
        {
          "output_type": "stream",
          "name": "stderr",
          "text": [
            "100%|██████████| 108/108 [01:05<00:00,  1.64it/s, Epoch=1, LR=1.5e-5, Train_Acc=0.756, Train_Auc=0.791, Train_Loss=0.513]\n",
            "  0%|          | 0/14 [00:20<?, ?it/s, Epoch=1, LR=1.5e-5, Valid_Acc=0.802, Valid_Auc=0.891, Valid_Loss=0.444]\n",
            "INFO:__main__:Epoch 1 - avg_train_loss: 0.5132  avg_valid_loss: 0.4443\n",
            "INFO:__main__:Epoch 1 - Train Acc: 0.7564  Train Auc: 0.7906  Valid Acc: 0.8023  Valid Auc: 0.8909\n"
          ]
        },
        {
          "output_type": "stream",
          "name": "stdout",
          "text": [
            "\u001b[34mValidation Score Improved (inf ---> 0.8908951537347757)\n",
            "Model Saved\u001b[0m\n"
          ]
        },
        {
          "output_type": "stream",
          "name": "stderr",
          "text": [
            "100%|██████████| 108/108 [01:06<00:00,  1.64it/s, Epoch=2, LR=1.13e-5, Train_Acc=0.913, Train_Auc=0.954, Train_Loss=0.22]\n",
            "  0%|          | 0/14 [00:20<?, ?it/s, Epoch=2, LR=1.13e-5, Valid_Acc=0.897, Valid_Auc=0.949, Valid_Loss=0.291]\n",
            "INFO:__main__:Epoch 2 - avg_train_loss: 0.2199  avg_valid_loss: 0.2912\n",
            "INFO:__main__:Epoch 2 - Train Acc: 0.9126  Train Auc: 0.9544  Valid Acc: 0.8966  Valid Auc: 0.9490\n"
          ]
        },
        {
          "output_type": "stream",
          "name": "stdout",
          "text": [
            "\u001b[34mValidation Score Improved (0.8908951537347757 ---> 0.9489609062260455)\n",
            "Model Saved\u001b[0m\n"
          ]
        },
        {
          "output_type": "stream",
          "name": "stderr",
          "text": [
            "100%|██████████| 108/108 [01:05<00:00,  1.64it/s, Epoch=3, LR=3.92e-6, Train_Acc=0.979, Train_Auc=0.995, Train_Loss=0.0667]\n",
            "  0%|          | 0/14 [00:20<?, ?it/s, Epoch=3, LR=3.92e-6, Valid_Acc=0.933, Valid_Auc=0.982, Valid_Loss=0.18]\n",
            "INFO:__main__:Epoch 3 - avg_train_loss: 0.0667  avg_valid_loss: 0.1796\n",
            "INFO:__main__:Epoch 3 - Train Acc: 0.9792  Train Auc: 0.9951  Valid Acc: 0.9333  Valid Auc: 0.9823\n"
          ]
        },
        {
          "output_type": "stream",
          "name": "stdout",
          "text": [
            "\u001b[34mValidation Score Improved (0.9489609062260455 ---> 0.9822843028702837)\n",
            "Model Saved\u001b[0m\n"
          ]
        },
        {
          "output_type": "stream",
          "name": "stderr",
          "text": [
            "100%|██████████| 108/108 [01:06<00:00,  1.64it/s, Epoch=4, LR=5.5e-9, Train_Acc=0.997, Train_Auc=1, Train_Loss=0.0174]\n",
            "  0%|          | 0/14 [00:20<?, ?it/s, Epoch=4, LR=5.5e-9, Valid_Acc=0.929, Valid_Auc=0.982, Valid_Loss=0.172]\n",
            "INFO:__main__:Epoch 4 - avg_train_loss: 0.0174  avg_valid_loss: 0.1719\n",
            "INFO:__main__:Epoch 4 - Train Acc: 0.9965  Train Auc: 0.9999  Valid Acc: 0.9287  Valid Auc: 0.9817\n",
            "INFO:__main__:Training complete in 0h 5m 60s\n",
            "INFO:__main__:Best Score: 0.9823\n",
            "INFO:__main__:========== fold: 4 training ==========\n"
          ]
        },
        {
          "output_type": "stream",
          "name": "stdout",
          "text": [
            "\u001b[33m====== Fold: 4 ======\u001b[0m\n",
            "---modelのconfig---\n",
            "{'url': '', 'hf_hub_id': 'timm/eva02_large_patch14_448.mim_m38m_ft_in22k_in1k', 'architecture': 'eva02_large_patch14_448', 'tag': 'mim_m38m_ft_in22k_in1k', 'custom_load': False, 'input_size': (3, 448, 448), 'fixed_input_size': True, 'interpolation': 'bicubic', 'crop_pct': 1.0, 'crop_mode': 'squash', 'mean': (0.48145466, 0.4578275, 0.40821073), 'std': (0.26862954, 0.26130258, 0.27577711), 'num_classes': 1000, 'pool_size': None, 'first_conv': 'patch_embed.proj', 'classifier': 'head', 'license': 'mit'}\n",
            "[INFO] Using GPU: NVIDIA A100-SXM4-40GB\n",
            "\n"
          ]
        },
        {
          "output_type": "stream",
          "name": "stderr",
          "text": [
            "100%|██████████| 108/108 [01:06<00:00,  1.64it/s, Epoch=1, LR=1.5e-5, Train_Acc=0.749, Train_Auc=0.793, Train_Loss=0.503]\n",
            "  0%|          | 0/14 [00:20<?, ?it/s, Epoch=1, LR=1.5e-5, Valid_Acc=0.857, Valid_Auc=0.92, Valid_Loss=0.354]\n",
            "INFO:__main__:Epoch 1 - avg_train_loss: 0.5027  avg_valid_loss: 0.3535\n",
            "INFO:__main__:Epoch 1 - Train Acc: 0.7494  Train Auc: 0.7929  Valid Acc: 0.8575  Valid Auc: 0.9202\n"
          ]
        },
        {
          "output_type": "stream",
          "name": "stdout",
          "text": [
            "\u001b[34mValidation Score Improved (inf ---> 0.9202361164386481)\n",
            "Model Saved\u001b[0m\n"
          ]
        },
        {
          "output_type": "stream",
          "name": "stderr",
          "text": [
            "100%|██████████| 108/108 [01:06<00:00,  1.63it/s, Epoch=2, LR=1.13e-5, Train_Acc=0.917, Train_Auc=0.955, Train_Loss=0.215]\n",
            "  0%|          | 0/14 [00:20<?, ?it/s, Epoch=2, LR=1.13e-5, Valid_Acc=0.915, Valid_Auc=0.975, Valid_Loss=0.211]\n",
            "INFO:__main__:Epoch 2 - avg_train_loss: 0.2149  avg_valid_loss: 0.2112\n",
            "INFO:__main__:Epoch 2 - Train Acc: 0.9172  Train Auc: 0.9551  Valid Acc: 0.9149  Valid Auc: 0.9753\n"
          ]
        },
        {
          "output_type": "stream",
          "name": "stdout",
          "text": [
            "\u001b[34mValidation Score Improved (0.9202361164386481 ---> 0.9753015385926779)\n",
            "Model Saved\u001b[0m\n"
          ]
        },
        {
          "output_type": "stream",
          "name": "stderr",
          "text": [
            "100%|██████████| 108/108 [01:05<00:00,  1.64it/s, Epoch=3, LR=3.92e-6, Train_Acc=0.979, Train_Auc=0.995, Train_Loss=0.0651]\n",
            "  0%|          | 0/14 [00:20<?, ?it/s, Epoch=3, LR=3.92e-6, Valid_Acc=0.943, Valid_Auc=0.979, Valid_Loss=0.179]\n",
            "INFO:__main__:Epoch 3 - avg_train_loss: 0.0651  avg_valid_loss: 0.1794\n",
            "INFO:__main__:Epoch 3 - Train Acc: 0.9786  Train Auc: 0.9954  Valid Acc: 0.9425  Valid Auc: 0.9794\n"
          ]
        },
        {
          "output_type": "stream",
          "name": "stdout",
          "text": [
            "\u001b[34mValidation Score Improved (0.9753015385926779 ---> 0.9793717768401312)\n",
            "Model Saved\u001b[0m\n"
          ]
        },
        {
          "output_type": "stream",
          "name": "stderr",
          "text": [
            "100%|██████████| 108/108 [01:05<00:00,  1.64it/s, Epoch=4, LR=5.5e-9, Train_Acc=0.997, Train_Auc=1, Train_Loss=0.0177]\n",
            "  0%|          | 0/14 [00:20<?, ?it/s, Epoch=4, LR=5.5e-9, Valid_Acc=0.936, Valid_Auc=0.981, Valid_Loss=0.178]\n",
            "INFO:__main__:Epoch 4 - avg_train_loss: 0.0177  avg_valid_loss: 0.1777\n",
            "INFO:__main__:Epoch 4 - Train Acc: 0.9965  Train Auc: 0.9997  Valid Acc: 0.9356  Valid Auc: 0.9809\n"
          ]
        },
        {
          "output_type": "stream",
          "name": "stdout",
          "text": [
            "\u001b[34mValidation Score Improved (0.9793717768401312 ---> 0.980906107488386)\n"
          ]
        },
        {
          "output_type": "stream",
          "name": "stderr",
          "text": [
            "INFO:__main__:Training complete in 0h 6m 1s\n",
            "INFO:__main__:Best Score: 0.9809\n",
            "INFO:__main__:========== CV ==========\n",
            "INFO:__main__:CV: 0.9826\n",
            "INFO:__main__:========== Model: 0 evaluation ==========\n"
          ]
        },
        {
          "output_type": "stream",
          "name": "stdout",
          "text": [
            "Model Saved\u001b[0m\n",
            "---modelのconfig---\n",
            "{'url': '', 'hf_hub_id': 'timm/eva02_large_patch14_448.mim_m38m_ft_in22k_in1k', 'architecture': 'eva02_large_patch14_448', 'tag': 'mim_m38m_ft_in22k_in1k', 'custom_load': False, 'input_size': (3, 448, 448), 'fixed_input_size': True, 'interpolation': 'bicubic', 'crop_pct': 1.0, 'crop_mode': 'squash', 'mean': (0.48145466, 0.4578275, 0.40821073), 'std': (0.26862954, 0.26130258, 0.27577711), 'num_classes': 1000, 'pool_size': None, 'first_conv': 'patch_embed.proj', 'classifier': 'head', 'license': 'mit'}\n",
            "Getting predictions for model 1\n"
          ]
        },
        {
          "output_type": "stream",
          "name": "stderr",
          "text": [
            "100%|██████████| 69/69 [01:36<00:00,  1.40s/it]\n"
          ]
        },
        {
          "output_type": "stream",
          "name": "stdout",
          "text": [
            "---modelのconfig---\n",
            "{'url': '', 'hf_hub_id': 'timm/eva02_large_patch14_448.mim_m38m_ft_in22k_in1k', 'architecture': 'eva02_large_patch14_448', 'tag': 'mim_m38m_ft_in22k_in1k', 'custom_load': False, 'input_size': (3, 448, 448), 'fixed_input_size': True, 'interpolation': 'bicubic', 'crop_pct': 1.0, 'crop_mode': 'squash', 'mean': (0.48145466, 0.4578275, 0.40821073), 'std': (0.26862954, 0.26130258, 0.27577711), 'num_classes': 1000, 'pool_size': None, 'first_conv': 'patch_embed.proj', 'classifier': 'head', 'license': 'mit'}\n",
            "Getting predictions for model 2\n"
          ]
        },
        {
          "output_type": "stream",
          "name": "stderr",
          "text": [
            "100%|██████████| 69/69 [01:36<00:00,  1.40s/it]\n"
          ]
        },
        {
          "output_type": "stream",
          "name": "stdout",
          "text": [
            "---modelのconfig---\n",
            "{'url': '', 'hf_hub_id': 'timm/eva02_large_patch14_448.mim_m38m_ft_in22k_in1k', 'architecture': 'eva02_large_patch14_448', 'tag': 'mim_m38m_ft_in22k_in1k', 'custom_load': False, 'input_size': (3, 448, 448), 'fixed_input_size': True, 'interpolation': 'bicubic', 'crop_pct': 1.0, 'crop_mode': 'squash', 'mean': (0.48145466, 0.4578275, 0.40821073), 'std': (0.26862954, 0.26130258, 0.27577711), 'num_classes': 1000, 'pool_size': None, 'first_conv': 'patch_embed.proj', 'classifier': 'head', 'license': 'mit'}\n",
            "Getting predictions for model 3\n"
          ]
        },
        {
          "output_type": "stream",
          "name": "stderr",
          "text": [
            "100%|██████████| 69/69 [01:36<00:00,  1.40s/it]\n"
          ]
        },
        {
          "output_type": "stream",
          "name": "stdout",
          "text": [
            "---modelのconfig---\n",
            "{'url': '', 'hf_hub_id': 'timm/eva02_large_patch14_448.mim_m38m_ft_in22k_in1k', 'architecture': 'eva02_large_patch14_448', 'tag': 'mim_m38m_ft_in22k_in1k', 'custom_load': False, 'input_size': (3, 448, 448), 'fixed_input_size': True, 'interpolation': 'bicubic', 'crop_pct': 1.0, 'crop_mode': 'squash', 'mean': (0.48145466, 0.4578275, 0.40821073), 'std': (0.26862954, 0.26130258, 0.27577711), 'num_classes': 1000, 'pool_size': None, 'first_conv': 'patch_embed.proj', 'classifier': 'head', 'license': 'mit'}\n",
            "Getting predictions for model 4\n"
          ]
        },
        {
          "output_type": "stream",
          "name": "stderr",
          "text": [
            "100%|██████████| 69/69 [01:36<00:00,  1.40s/it]\n"
          ]
        },
        {
          "output_type": "stream",
          "name": "stdout",
          "text": [
            "---modelのconfig---\n",
            "{'url': '', 'hf_hub_id': 'timm/eva02_large_patch14_448.mim_m38m_ft_in22k_in1k', 'architecture': 'eva02_large_patch14_448', 'tag': 'mim_m38m_ft_in22k_in1k', 'custom_load': False, 'input_size': (3, 448, 448), 'fixed_input_size': True, 'interpolation': 'bicubic', 'crop_pct': 1.0, 'crop_mode': 'squash', 'mean': (0.48145466, 0.4578275, 0.40821073), 'std': (0.26862954, 0.26130258, 0.27577711), 'num_classes': 1000, 'pool_size': None, 'first_conv': 'patch_embed.proj', 'classifier': 'head', 'license': 'mit'}\n",
            "Getting predictions for model 5\n"
          ]
        },
        {
          "output_type": "stream",
          "name": "stderr",
          "text": [
            "100%|██████████| 69/69 [01:36<00:00,  1.40s/it]\n",
            "INFO:__main__:========== Model: 2 training ==========\n",
            "INFO:__main__:========== fold: 0 training ==========\n"
          ]
        },
        {
          "output_type": "stream",
          "name": "stdout",
          "text": [
            "\n",
            "\u001b[33m====== Model: 2 ======\n",
            "\u001b[33m====== Fold: 0 ======\u001b[0m\n",
            "---modelのconfig---\n",
            "{'url': '', 'hf_hub_id': 'timm/eva02_large_patch14_448.mim_m38m_ft_in22k_in1k', 'architecture': 'eva02_large_patch14_448', 'tag': 'mim_m38m_ft_in22k_in1k', 'custom_load': False, 'input_size': (3, 448, 448), 'fixed_input_size': True, 'interpolation': 'bicubic', 'crop_pct': 1.0, 'crop_mode': 'squash', 'mean': (0.48145466, 0.4578275, 0.40821073), 'std': (0.26862954, 0.26130258, 0.27577711), 'num_classes': 1000, 'pool_size': None, 'first_conv': 'patch_embed.proj', 'classifier': 'head', 'license': 'mit'}\n",
            "[INFO] Using GPU: NVIDIA A100-SXM4-40GB\n",
            "\n"
          ]
        },
        {
          "output_type": "stream",
          "name": "stderr",
          "text": [
            "100%|██████████| 108/108 [01:06<00:00,  1.63it/s, Epoch=1, LR=1.5e-5, Train_Acc=0.744, Train_Auc=0.813, Train_Loss=0.541]\n",
            "  0%|          | 0/14 [00:20<?, ?it/s, Epoch=1, LR=1.5e-5, Valid_Acc=0.844, Valid_Auc=0.922, Valid_Loss=0.355]\n",
            "INFO:__main__:Epoch 1 - avg_train_loss: 0.5413  avg_valid_loss: 0.3546\n",
            "INFO:__main__:Epoch 1 - Train Acc: 0.7442  Train Auc: 0.8135  Valid Acc: 0.8440  Valid Auc: 0.9218\n"
          ]
        },
        {
          "output_type": "stream",
          "name": "stdout",
          "text": [
            "\u001b[34mValidation Score Improved (inf ---> 0.9218243114305706)\n",
            "Model Saved\u001b[0m\n"
          ]
        },
        {
          "output_type": "stream",
          "name": "stderr",
          "text": [
            "100%|██████████| 108/108 [01:05<00:00,  1.64it/s, Epoch=2, LR=1.13e-5, Train_Acc=0.913, Train_Auc=0.961, Train_Loss=0.223]\n",
            "  0%|          | 0/14 [00:20<?, ?it/s, Epoch=2, LR=1.13e-5, Valid_Acc=0.899, Valid_Auc=0.961, Valid_Loss=0.259]\n",
            "INFO:__main__:Epoch 2 - avg_train_loss: 0.2234  avg_valid_loss: 0.2593\n",
            "INFO:__main__:Epoch 2 - Train Acc: 0.9126  Train Auc: 0.9608  Valid Acc: 0.8991  Valid Auc: 0.9613\n"
          ]
        },
        {
          "output_type": "stream",
          "name": "stdout",
          "text": [
            "\u001b[34mValidation Score Improved (0.9218243114305706 ---> 0.9613468184805886)\n",
            "Model Saved\u001b[0m\n"
          ]
        },
        {
          "output_type": "stream",
          "name": "stderr",
          "text": [
            "100%|██████████| 108/108 [01:06<00:00,  1.64it/s, Epoch=3, LR=3.92e-6, Train_Acc=0.983, Train_Auc=0.996, Train_Loss=0.0575]\n",
            "  0%|          | 0/14 [00:20<?, ?it/s, Epoch=3, LR=3.92e-6, Valid_Acc=0.936, Valid_Auc=0.983, Valid_Loss=0.169]\n",
            "INFO:__main__:Epoch 3 - avg_train_loss: 0.0575  avg_valid_loss: 0.1691\n",
            "INFO:__main__:Epoch 3 - Train Acc: 0.9826  Train Auc: 0.9965  Valid Acc: 0.9358  Valid Auc: 0.9834\n"
          ]
        },
        {
          "output_type": "stream",
          "name": "stdout",
          "text": [
            "\u001b[34mValidation Score Improved (0.9613468184805886 ---> 0.9833767996098637)\n",
            "Model Saved\u001b[0m\n"
          ]
        },
        {
          "output_type": "stream",
          "name": "stderr",
          "text": [
            "100%|██████████| 108/108 [01:06<00:00,  1.63it/s, Epoch=4, LR=5.5e-9, Train_Acc=0.997, Train_Auc=1, Train_Loss=0.02]\n",
            "  0%|          | 0/14 [00:21<?, ?it/s, Epoch=4, LR=5.5e-9, Valid_Acc=0.927, Valid_Auc=0.981, Valid_Loss=0.179]\n",
            "INFO:__main__:Epoch 4 - avg_train_loss: 0.0200  avg_valid_loss: 0.1789\n",
            "INFO:__main__:Epoch 4 - Train Acc: 0.9965  Train Auc: 0.9996  Valid Acc: 0.9266  Valid Auc: 0.9812\n",
            "INFO:__main__:Training complete in 0h 6m 3s\n",
            "INFO:__main__:Best Score: 0.9834\n",
            "INFO:__main__:========== fold: 1 training ==========\n"
          ]
        },
        {
          "output_type": "stream",
          "name": "stdout",
          "text": [
            "\u001b[33m====== Fold: 1 ======\u001b[0m\n",
            "---modelのconfig---\n",
            "{'url': '', 'hf_hub_id': 'timm/eva02_large_patch14_448.mim_m38m_ft_in22k_in1k', 'architecture': 'eva02_large_patch14_448', 'tag': 'mim_m38m_ft_in22k_in1k', 'custom_load': False, 'input_size': (3, 448, 448), 'fixed_input_size': True, 'interpolation': 'bicubic', 'crop_pct': 1.0, 'crop_mode': 'squash', 'mean': (0.48145466, 0.4578275, 0.40821073), 'std': (0.26862954, 0.26130258, 0.27577711), 'num_classes': 1000, 'pool_size': None, 'first_conv': 'patch_embed.proj', 'classifier': 'head', 'license': 'mit'}\n",
            "[INFO] Using GPU: NVIDIA A100-SXM4-40GB\n",
            "\n"
          ]
        },
        {
          "output_type": "stream",
          "name": "stderr",
          "text": [
            "100%|██████████| 108/108 [01:06<00:00,  1.64it/s, Epoch=1, LR=1.5e-5, Train_Acc=0.748, Train_Auc=0.815, Train_Loss=0.522]\n",
            "  0%|          | 0/14 [00:20<?, ?it/s, Epoch=1, LR=1.5e-5, Valid_Acc=0.821, Valid_Auc=0.927, Valid_Loss=0.444]\n",
            "INFO:__main__:Epoch 1 - avg_train_loss: 0.5222  avg_valid_loss: 0.4439\n",
            "INFO:__main__:Epoch 1 - Train Acc: 0.7477  Train Auc: 0.8155  Valid Acc: 0.8207  Valid Auc: 0.9267\n"
          ]
        },
        {
          "output_type": "stream",
          "name": "stdout",
          "text": [
            "\u001b[34mValidation Score Improved (inf ---> 0.9267311131930841)\n",
            "Model Saved\u001b[0m\n"
          ]
        },
        {
          "output_type": "stream",
          "name": "stderr",
          "text": [
            "100%|██████████| 108/108 [01:05<00:00,  1.64it/s, Epoch=2, LR=1.13e-5, Train_Acc=0.909, Train_Auc=0.957, Train_Loss=0.228]\n",
            "  0%|          | 0/14 [00:20<?, ?it/s, Epoch=2, LR=1.13e-5, Valid_Acc=0.887, Valid_Auc=0.968, Valid_Loss=0.282]\n",
            "INFO:__main__:Epoch 2 - avg_train_loss: 0.2277  avg_valid_loss: 0.2820\n",
            "INFO:__main__:Epoch 2 - Train Acc: 0.9091  Train Auc: 0.9572  Valid Acc: 0.8874  Valid Auc: 0.9675\n"
          ]
        },
        {
          "output_type": "stream",
          "name": "stdout",
          "text": [
            "\u001b[34mValidation Score Improved (0.9267311131930841 ---> 0.9675283195639214)\n",
            "Model Saved\u001b[0m\n"
          ]
        },
        {
          "output_type": "stream",
          "name": "stderr",
          "text": [
            "100%|██████████| 108/108 [01:05<00:00,  1.64it/s, Epoch=3, LR=3.92e-6, Train_Acc=0.977, Train_Auc=0.995, Train_Loss=0.0722]\n",
            "  0%|          | 0/14 [00:21<?, ?it/s, Epoch=3, LR=3.92e-6, Valid_Acc=0.926, Valid_Auc=0.982, Valid_Loss=0.187]\n",
            "INFO:__main__:Epoch 3 - avg_train_loss: 0.0722  avg_valid_loss: 0.1868\n",
            "INFO:__main__:Epoch 3 - Train Acc: 0.9774  Train Auc: 0.9949  Valid Acc: 0.9264  Valid Auc: 0.9824\n"
          ]
        },
        {
          "output_type": "stream",
          "name": "stdout",
          "text": [
            "\u001b[34mValidation Score Improved (0.9675283195639214 ---> 0.9823694744910997)\n",
            "Model Saved\u001b[0m\n"
          ]
        },
        {
          "output_type": "stream",
          "name": "stderr",
          "text": [
            "100%|██████████| 108/108 [01:06<00:00,  1.64it/s, Epoch=4, LR=5.5e-9, Train_Acc=0.994, Train_Auc=1, Train_Loss=0.0189]\n",
            "  0%|          | 0/14 [00:20<?, ?it/s, Epoch=4, LR=5.5e-9, Valid_Acc=0.959, Valid_Auc=0.986, Valid_Loss=0.146]\n",
            "INFO:__main__:Epoch 4 - avg_train_loss: 0.0189  avg_valid_loss: 0.1465\n",
            "INFO:__main__:Epoch 4 - Train Acc: 0.9942  Train Auc: 0.9997  Valid Acc: 0.9586  Valid Auc: 0.9865\n"
          ]
        },
        {
          "output_type": "stream",
          "name": "stdout",
          "text": [
            "\u001b[34mValidation Score Improved (0.9823694744910997 ---> 0.9864790051954688)\n"
          ]
        },
        {
          "output_type": "stream",
          "name": "stderr",
          "text": [
            "INFO:__main__:Training complete in 0h 6m 4s\n",
            "INFO:__main__:Best Score: 0.9865\n",
            "INFO:__main__:========== fold: 2 training ==========\n"
          ]
        },
        {
          "output_type": "stream",
          "name": "stdout",
          "text": [
            "Model Saved\u001b[0m\n",
            "\u001b[33m====== Fold: 2 ======\u001b[0m\n",
            "---modelのconfig---\n",
            "{'url': '', 'hf_hub_id': 'timm/eva02_large_patch14_448.mim_m38m_ft_in22k_in1k', 'architecture': 'eva02_large_patch14_448', 'tag': 'mim_m38m_ft_in22k_in1k', 'custom_load': False, 'input_size': (3, 448, 448), 'fixed_input_size': True, 'interpolation': 'bicubic', 'crop_pct': 1.0, 'crop_mode': 'squash', 'mean': (0.48145466, 0.4578275, 0.40821073), 'std': (0.26862954, 0.26130258, 0.27577711), 'num_classes': 1000, 'pool_size': None, 'first_conv': 'patch_embed.proj', 'classifier': 'head', 'license': 'mit'}\n",
            "[INFO] Using GPU: NVIDIA A100-SXM4-40GB\n",
            "\n"
          ]
        },
        {
          "output_type": "stream",
          "name": "stderr",
          "text": [
            "100%|██████████| 108/108 [01:05<00:00,  1.64it/s, Epoch=1, LR=1.5e-5, Train_Acc=0.757, Train_Auc=0.819, Train_Loss=0.522]\n",
            "  0%|          | 0/14 [00:21<?, ?it/s, Epoch=1, LR=1.5e-5, Valid_Acc=0.816, Valid_Auc=0.911, Valid_Loss=0.391]\n",
            "INFO:__main__:Epoch 1 - avg_train_loss: 0.5218  avg_valid_loss: 0.3908\n",
            "INFO:__main__:Epoch 1 - Train Acc: 0.7569  Train Auc: 0.8191  Valid Acc: 0.8161  Valid Auc: 0.9105\n"
          ]
        },
        {
          "output_type": "stream",
          "name": "stdout",
          "text": [
            "\u001b[34mValidation Score Improved (inf ---> 0.9105059194276468)\n",
            "Model Saved\u001b[0m\n"
          ]
        },
        {
          "output_type": "stream",
          "name": "stderr",
          "text": [
            "100%|██████████| 108/108 [01:06<00:00,  1.63it/s, Epoch=2, LR=1.13e-5, Train_Acc=0.891, Train_Auc=0.942, Train_Loss=0.275]\n",
            "  0%|          | 0/14 [00:20<?, ?it/s, Epoch=2, LR=1.13e-5, Valid_Acc=0.894, Valid_Auc=0.958, Valid_Loss=0.26]\n",
            "INFO:__main__:Epoch 2 - avg_train_loss: 0.2747  avg_valid_loss: 0.2599\n",
            "INFO:__main__:Epoch 2 - Train Acc: 0.8906  Train Auc: 0.9422  Valid Acc: 0.8943  Valid Auc: 0.9581\n"
          ]
        },
        {
          "output_type": "stream",
          "name": "stdout",
          "text": [
            "\u001b[34mValidation Score Improved (0.9105059194276468 ---> 0.9580955625585555)\n",
            "Model Saved\u001b[0m\n"
          ]
        },
        {
          "output_type": "stream",
          "name": "stderr",
          "text": [
            "100%|██████████| 108/108 [01:06<00:00,  1.64it/s, Epoch=3, LR=3.92e-6, Train_Acc=0.978, Train_Auc=0.997, Train_Loss=0.0657]\n",
            "  0%|          | 0/14 [00:20<?, ?it/s, Epoch=3, LR=3.92e-6, Valid_Acc=0.929, Valid_Auc=0.982, Valid_Loss=0.171]\n",
            "INFO:__main__:Epoch 3 - avg_train_loss: 0.0657  avg_valid_loss: 0.1714\n",
            "INFO:__main__:Epoch 3 - Train Acc: 0.9780  Train Auc: 0.9969  Valid Acc: 0.9287  Valid Auc: 0.9816\n"
          ]
        },
        {
          "output_type": "stream",
          "name": "stdout",
          "text": [
            "\u001b[34mValidation Score Improved (0.9580955625585555 ---> 0.981645515714164)\n",
            "Model Saved\u001b[0m\n"
          ]
        },
        {
          "output_type": "stream",
          "name": "stderr",
          "text": [
            "100%|██████████| 108/108 [01:06<00:00,  1.63it/s, Epoch=4, LR=5.5e-9, Train_Acc=0.996, Train_Auc=1, Train_Loss=0.0196]\n",
            "  0%|          | 0/14 [00:20<?, ?it/s, Epoch=4, LR=5.5e-9, Valid_Acc=0.929, Valid_Auc=0.983, Valid_Loss=0.164]\n",
            "INFO:__main__:Epoch 4 - avg_train_loss: 0.0196  avg_valid_loss: 0.1639\n",
            "INFO:__main__:Epoch 4 - Train Acc: 0.9959  Train Auc: 0.9998  Valid Acc: 0.9287  Valid Auc: 0.9828\n"
          ]
        },
        {
          "output_type": "stream",
          "name": "stdout",
          "text": [
            "\u001b[34mValidation Score Improved (0.981645515714164 ---> 0.9827953325951793)\n"
          ]
        },
        {
          "output_type": "stream",
          "name": "stderr",
          "text": [
            "INFO:__main__:Training complete in 0h 6m 4s\n",
            "INFO:__main__:Best Score: 0.9828\n",
            "INFO:__main__:========== fold: 3 training ==========\n"
          ]
        },
        {
          "output_type": "stream",
          "name": "stdout",
          "text": [
            "Model Saved\u001b[0m\n",
            "\u001b[33m====== Fold: 3 ======\u001b[0m\n",
            "---modelのconfig---\n",
            "{'url': '', 'hf_hub_id': 'timm/eva02_large_patch14_448.mim_m38m_ft_in22k_in1k', 'architecture': 'eva02_large_patch14_448', 'tag': 'mim_m38m_ft_in22k_in1k', 'custom_load': False, 'input_size': (3, 448, 448), 'fixed_input_size': True, 'interpolation': 'bicubic', 'crop_pct': 1.0, 'crop_mode': 'squash', 'mean': (0.48145466, 0.4578275, 0.40821073), 'std': (0.26862954, 0.26130258, 0.27577711), 'num_classes': 1000, 'pool_size': None, 'first_conv': 'patch_embed.proj', 'classifier': 'head', 'license': 'mit'}\n",
            "[INFO] Using GPU: NVIDIA A100-SXM4-40GB\n",
            "\n"
          ]
        },
        {
          "output_type": "stream",
          "name": "stderr",
          "text": [
            "100%|██████████| 108/108 [01:06<00:00,  1.63it/s, Epoch=1, LR=1.5e-5, Train_Acc=0.753, Train_Auc=0.814, Train_Loss=0.529]\n",
            "  0%|          | 0/14 [00:20<?, ?it/s, Epoch=1, LR=1.5e-5, Valid_Acc=0.844, Valid_Auc=0.921, Valid_Loss=0.354]\n",
            "INFO:__main__:Epoch 1 - avg_train_loss: 0.5285  avg_valid_loss: 0.3540\n",
            "INFO:__main__:Epoch 1 - Train Acc: 0.7529  Train Auc: 0.8139  Valid Acc: 0.8437  Valid Auc: 0.9206\n"
          ]
        },
        {
          "output_type": "stream",
          "name": "stdout",
          "text": [
            "\u001b[34mValidation Score Improved (inf ---> 0.9205774635891322)\n",
            "Model Saved\u001b[0m\n"
          ]
        },
        {
          "output_type": "stream",
          "name": "stderr",
          "text": [
            "100%|██████████| 108/108 [01:05<00:00,  1.64it/s, Epoch=2, LR=1.13e-5, Train_Acc=0.91, Train_Auc=0.959, Train_Loss=0.227]\n",
            "  0%|          | 0/14 [00:20<?, ?it/s, Epoch=2, LR=1.13e-5, Valid_Acc=0.897, Valid_Auc=0.957, Valid_Loss=0.285]\n",
            "INFO:__main__:Epoch 2 - avg_train_loss: 0.2274  avg_valid_loss: 0.2848\n",
            "INFO:__main__:Epoch 2 - Train Acc: 0.9097  Train Auc: 0.9591  Valid Acc: 0.8966  Valid Auc: 0.9565\n"
          ]
        },
        {
          "output_type": "stream",
          "name": "stdout",
          "text": [
            "\u001b[34mValidation Score Improved (0.9205774635891322 ---> 0.9565198875734606)\n",
            "Model Saved\u001b[0m\n"
          ]
        },
        {
          "output_type": "stream",
          "name": "stderr",
          "text": [
            "100%|██████████| 108/108 [01:05<00:00,  1.64it/s, Epoch=3, LR=3.92e-6, Train_Acc=0.98, Train_Auc=0.996, Train_Loss=0.0663]\n",
            "  0%|          | 0/14 [00:20<?, ?it/s, Epoch=3, LR=3.92e-6, Valid_Acc=0.899, Valid_Auc=0.973, Valid_Loss=0.239]\n",
            "INFO:__main__:Epoch 3 - avg_train_loss: 0.0663  avg_valid_loss: 0.2387\n",
            "INFO:__main__:Epoch 3 - Train Acc: 0.9797  Train Auc: 0.9960  Valid Acc: 0.8989  Valid Auc: 0.9733\n"
          ]
        },
        {
          "output_type": "stream",
          "name": "stdout",
          "text": [
            "\u001b[34mValidation Score Improved (0.9565198875734606 ---> 0.9733412826846095)\n",
            "Model Saved\u001b[0m\n"
          ]
        },
        {
          "output_type": "stream",
          "name": "stderr",
          "text": [
            "100%|██████████| 108/108 [01:06<00:00,  1.63it/s, Epoch=4, LR=5.5e-9, Train_Acc=0.997, Train_Auc=1, Train_Loss=0.0155]\n",
            "  0%|          | 0/14 [00:20<?, ?it/s, Epoch=4, LR=5.5e-9, Valid_Acc=0.915, Valid_Auc=0.975, Valid_Loss=0.214]\n",
            "INFO:__main__:Epoch 4 - avg_train_loss: 0.0155  avg_valid_loss: 0.2140\n",
            "INFO:__main__:Epoch 4 - Train Acc: 0.9971  Train Auc: 0.9997  Valid Acc: 0.9149  Valid Auc: 0.9753\n"
          ]
        },
        {
          "output_type": "stream",
          "name": "stdout",
          "text": [
            "\u001b[34mValidation Score Improved (0.9733412826846095 ---> 0.9752576441529682)\n"
          ]
        },
        {
          "output_type": "stream",
          "name": "stderr",
          "text": [
            "INFO:__main__:Training complete in 0h 6m 7s\n",
            "INFO:__main__:Best Score: 0.9753\n",
            "INFO:__main__:========== fold: 4 training ==========\n"
          ]
        },
        {
          "output_type": "stream",
          "name": "stdout",
          "text": [
            "Model Saved\u001b[0m\n",
            "\u001b[33m====== Fold: 4 ======\u001b[0m\n",
            "---modelのconfig---\n",
            "{'url': '', 'hf_hub_id': 'timm/eva02_large_patch14_448.mim_m38m_ft_in22k_in1k', 'architecture': 'eva02_large_patch14_448', 'tag': 'mim_m38m_ft_in22k_in1k', 'custom_load': False, 'input_size': (3, 448, 448), 'fixed_input_size': True, 'interpolation': 'bicubic', 'crop_pct': 1.0, 'crop_mode': 'squash', 'mean': (0.48145466, 0.4578275, 0.40821073), 'std': (0.26862954, 0.26130258, 0.27577711), 'num_classes': 1000, 'pool_size': None, 'first_conv': 'patch_embed.proj', 'classifier': 'head', 'license': 'mit'}\n",
            "[INFO] Using GPU: NVIDIA A100-SXM4-40GB\n",
            "\n"
          ]
        },
        {
          "output_type": "stream",
          "name": "stderr",
          "text": [
            "100%|██████████| 108/108 [01:06<00:00,  1.63it/s, Epoch=1, LR=1.5e-5, Train_Acc=0.759, Train_Auc=0.83, Train_Loss=0.511]\n",
            "  0%|          | 0/14 [00:20<?, ?it/s, Epoch=1, LR=1.5e-5, Valid_Acc=0.816, Valid_Auc=0.921, Valid_Loss=0.383]\n",
            "INFO:__main__:Epoch 1 - avg_train_loss: 0.5112  avg_valid_loss: 0.3831\n",
            "INFO:__main__:Epoch 1 - Train Acc: 0.7593  Train Auc: 0.8297  Valid Acc: 0.8161  Valid Auc: 0.9210\n"
          ]
        },
        {
          "output_type": "stream",
          "name": "stdout",
          "text": [
            "\u001b[34mValidation Score Improved (inf ---> 0.9210459020585603)\n",
            "Model Saved\u001b[0m\n"
          ]
        },
        {
          "output_type": "stream",
          "name": "stderr",
          "text": [
            "100%|██████████| 108/108 [01:06<00:00,  1.64it/s, Epoch=2, LR=1.13e-5, Train_Acc=0.911, Train_Auc=0.959, Train_Loss=0.222]\n",
            "  0%|          | 0/14 [00:20<?, ?it/s, Epoch=2, LR=1.13e-5, Valid_Acc=0.86, Valid_Auc=0.948, Valid_Loss=0.356]\n",
            "INFO:__main__:Epoch 2 - avg_train_loss: 0.2222  avg_valid_loss: 0.3560\n",
            "INFO:__main__:Epoch 2 - Train Acc: 0.9109  Train Auc: 0.9589  Valid Acc: 0.8598  Valid Auc: 0.9483\n"
          ]
        },
        {
          "output_type": "stream",
          "name": "stdout",
          "text": [
            "\u001b[34mValidation Score Improved (0.9210459020585603 ---> 0.9482802710650812)\n",
            "Model Saved\u001b[0m\n"
          ]
        },
        {
          "output_type": "stream",
          "name": "stderr",
          "text": [
            "100%|██████████| 108/108 [01:06<00:00,  1.64it/s, Epoch=3, LR=3.92e-6, Train_Acc=0.969, Train_Auc=0.993, Train_Loss=0.0887]\n",
            "  0%|          | 0/14 [00:20<?, ?it/s, Epoch=3, LR=3.92e-6, Valid_Acc=0.917, Valid_Auc=0.967, Valid_Loss=0.259]\n",
            "INFO:__main__:Epoch 3 - avg_train_loss: 0.0887  avg_valid_loss: 0.2591\n",
            "INFO:__main__:Epoch 3 - Train Acc: 0.9688  Train Auc: 0.9928  Valid Acc: 0.9172  Valid Auc: 0.9666\n"
          ]
        },
        {
          "output_type": "stream",
          "name": "stdout",
          "text": [
            "\u001b[34mValidation Score Improved (0.9482802710650812 ---> 0.9666283084004603)\n",
            "Model Saved\u001b[0m\n"
          ]
        },
        {
          "output_type": "stream",
          "name": "stderr",
          "text": [
            "100%|██████████| 108/108 [01:06<00:00,  1.63it/s, Epoch=4, LR=5.5e-9, Train_Acc=0.994, Train_Auc=1, Train_Loss=0.0256]\n",
            "  0%|          | 0/14 [00:20<?, ?it/s, Epoch=4, LR=5.5e-9, Valid_Acc=0.924, Valid_Auc=0.973, Valid_Loss=0.223]\n",
            "INFO:__main__:Epoch 4 - avg_train_loss: 0.0256  avg_valid_loss: 0.2230\n",
            "INFO:__main__:Epoch 4 - Train Acc: 0.9942  Train Auc: 0.9996  Valid Acc: 0.9241  Valid Auc: 0.9731\n"
          ]
        },
        {
          "output_type": "stream",
          "name": "stdout",
          "text": [
            "\u001b[34mValidation Score Improved (0.9666283084004603 ---> 0.9731492136555427)\n"
          ]
        },
        {
          "output_type": "stream",
          "name": "stderr",
          "text": [
            "INFO:__main__:Training complete in 0h 6m 5s\n",
            "INFO:__main__:Best Score: 0.9731\n",
            "INFO:__main__:========== CV ==========\n",
            "INFO:__main__:CV: 0.9794\n",
            "INFO:__main__:========== Model: 1 evaluation ==========\n"
          ]
        },
        {
          "output_type": "stream",
          "name": "stdout",
          "text": [
            "Model Saved\u001b[0m\n",
            "---modelのconfig---\n",
            "{'url': '', 'hf_hub_id': 'timm/eva02_large_patch14_448.mim_m38m_ft_in22k_in1k', 'architecture': 'eva02_large_patch14_448', 'tag': 'mim_m38m_ft_in22k_in1k', 'custom_load': False, 'input_size': (3, 448, 448), 'fixed_input_size': True, 'interpolation': 'bicubic', 'crop_pct': 1.0, 'crop_mode': 'squash', 'mean': (0.48145466, 0.4578275, 0.40821073), 'std': (0.26862954, 0.26130258, 0.27577711), 'num_classes': 1000, 'pool_size': None, 'first_conv': 'patch_embed.proj', 'classifier': 'head', 'license': 'mit'}\n",
            "Getting predictions for model 1\n"
          ]
        },
        {
          "output_type": "stream",
          "name": "stderr",
          "text": [
            "100%|██████████| 69/69 [01:36<00:00,  1.40s/it]\n"
          ]
        },
        {
          "output_type": "stream",
          "name": "stdout",
          "text": [
            "---modelのconfig---\n",
            "{'url': '', 'hf_hub_id': 'timm/eva02_large_patch14_448.mim_m38m_ft_in22k_in1k', 'architecture': 'eva02_large_patch14_448', 'tag': 'mim_m38m_ft_in22k_in1k', 'custom_load': False, 'input_size': (3, 448, 448), 'fixed_input_size': True, 'interpolation': 'bicubic', 'crop_pct': 1.0, 'crop_mode': 'squash', 'mean': (0.48145466, 0.4578275, 0.40821073), 'std': (0.26862954, 0.26130258, 0.27577711), 'num_classes': 1000, 'pool_size': None, 'first_conv': 'patch_embed.proj', 'classifier': 'head', 'license': 'mit'}\n",
            "Getting predictions for model 2\n"
          ]
        },
        {
          "output_type": "stream",
          "name": "stderr",
          "text": [
            "100%|██████████| 69/69 [01:36<00:00,  1.40s/it]\n"
          ]
        },
        {
          "output_type": "stream",
          "name": "stdout",
          "text": [
            "---modelのconfig---\n",
            "{'url': '', 'hf_hub_id': 'timm/eva02_large_patch14_448.mim_m38m_ft_in22k_in1k', 'architecture': 'eva02_large_patch14_448', 'tag': 'mim_m38m_ft_in22k_in1k', 'custom_load': False, 'input_size': (3, 448, 448), 'fixed_input_size': True, 'interpolation': 'bicubic', 'crop_pct': 1.0, 'crop_mode': 'squash', 'mean': (0.48145466, 0.4578275, 0.40821073), 'std': (0.26862954, 0.26130258, 0.27577711), 'num_classes': 1000, 'pool_size': None, 'first_conv': 'patch_embed.proj', 'classifier': 'head', 'license': 'mit'}\n",
            "Getting predictions for model 3\n"
          ]
        },
        {
          "output_type": "stream",
          "name": "stderr",
          "text": [
            "100%|██████████| 69/69 [01:36<00:00,  1.40s/it]\n"
          ]
        },
        {
          "output_type": "stream",
          "name": "stdout",
          "text": [
            "---modelのconfig---\n",
            "{'url': '', 'hf_hub_id': 'timm/eva02_large_patch14_448.mim_m38m_ft_in22k_in1k', 'architecture': 'eva02_large_patch14_448', 'tag': 'mim_m38m_ft_in22k_in1k', 'custom_load': False, 'input_size': (3, 448, 448), 'fixed_input_size': True, 'interpolation': 'bicubic', 'crop_pct': 1.0, 'crop_mode': 'squash', 'mean': (0.48145466, 0.4578275, 0.40821073), 'std': (0.26862954, 0.26130258, 0.27577711), 'num_classes': 1000, 'pool_size': None, 'first_conv': 'patch_embed.proj', 'classifier': 'head', 'license': 'mit'}\n",
            "Getting predictions for model 4\n"
          ]
        },
        {
          "output_type": "stream",
          "name": "stderr",
          "text": [
            "100%|██████████| 69/69 [01:36<00:00,  1.40s/it]\n"
          ]
        },
        {
          "output_type": "stream",
          "name": "stdout",
          "text": [
            "---modelのconfig---\n",
            "{'url': '', 'hf_hub_id': 'timm/eva02_large_patch14_448.mim_m38m_ft_in22k_in1k', 'architecture': 'eva02_large_patch14_448', 'tag': 'mim_m38m_ft_in22k_in1k', 'custom_load': False, 'input_size': (3, 448, 448), 'fixed_input_size': True, 'interpolation': 'bicubic', 'crop_pct': 1.0, 'crop_mode': 'squash', 'mean': (0.48145466, 0.4578275, 0.40821073), 'std': (0.26862954, 0.26130258, 0.27577711), 'num_classes': 1000, 'pool_size': None, 'first_conv': 'patch_embed.proj', 'classifier': 'head', 'license': 'mit'}\n",
            "Getting predictions for model 5\n"
          ]
        },
        {
          "output_type": "stream",
          "name": "stderr",
          "text": [
            "100%|██████████| 69/69 [01:36<00:00,  1.40s/it]\n",
            "INFO:__main__:========== Model: 3 training ==========\n",
            "INFO:__main__:========== fold: 0 training ==========\n"
          ]
        },
        {
          "output_type": "stream",
          "name": "stdout",
          "text": [
            "\n",
            "\u001b[33m====== Model: 3 ======\n",
            "\u001b[33m====== Fold: 0 ======\u001b[0m\n",
            "---modelのconfig---\n",
            "{'url': '', 'hf_hub_id': 'timm/eva02_large_patch14_448.mim_m38m_ft_in22k_in1k', 'architecture': 'eva02_large_patch14_448', 'tag': 'mim_m38m_ft_in22k_in1k', 'custom_load': False, 'input_size': (3, 448, 448), 'fixed_input_size': True, 'interpolation': 'bicubic', 'crop_pct': 1.0, 'crop_mode': 'squash', 'mean': (0.48145466, 0.4578275, 0.40821073), 'std': (0.26862954, 0.26130258, 0.27577711), 'num_classes': 1000, 'pool_size': None, 'first_conv': 'patch_embed.proj', 'classifier': 'head', 'license': 'mit'}\n",
            "[INFO] Using GPU: NVIDIA A100-SXM4-40GB\n",
            "\n"
          ]
        },
        {
          "output_type": "stream",
          "name": "stderr",
          "text": [
            "100%|██████████| 108/108 [01:06<00:00,  1.64it/s, Epoch=1, LR=1.5e-5, Train_Acc=0.75, Train_Auc=0.805, Train_Loss=0.526]\n",
            "  0%|          | 0/14 [00:20<?, ?it/s, Epoch=1, LR=1.5e-5, Valid_Acc=0.78, Valid_Auc=0.896, Valid_Loss=0.533]\n",
            "INFO:__main__:Epoch 1 - avg_train_loss: 0.5257  avg_valid_loss: 0.5331\n",
            "INFO:__main__:Epoch 1 - Train Acc: 0.7500  Train Auc: 0.8052  Valid Acc: 0.7798  Valid Auc: 0.8958\n"
          ]
        },
        {
          "output_type": "stream",
          "name": "stdout",
          "text": [
            "\u001b[34mValidation Score Improved (inf ---> 0.8958293577592604)\n",
            "Model Saved\u001b[0m\n"
          ]
        },
        {
          "output_type": "stream",
          "name": "stderr",
          "text": [
            "100%|██████████| 108/108 [01:05<00:00,  1.64it/s, Epoch=2, LR=1.13e-5, Train_Acc=0.906, Train_Auc=0.961, Train_Loss=0.223]\n",
            "  0%|          | 0/14 [00:20<?, ?it/s, Epoch=2, LR=1.13e-5, Valid_Acc=0.883, Valid_Auc=0.953, Valid_Loss=0.289]\n",
            "INFO:__main__:Epoch 2 - avg_train_loss: 0.2233  avg_valid_loss: 0.2887\n",
            "INFO:__main__:Epoch 2 - Train Acc: 0.9062  Train Auc: 0.9608  Valid Acc: 0.8830  Valid Auc: 0.9534\n"
          ]
        },
        {
          "output_type": "stream",
          "name": "stdout",
          "text": [
            "\u001b[34mValidation Score Improved (0.8958293577592604 ---> 0.9533956703347963)\n",
            "Model Saved\u001b[0m\n"
          ]
        },
        {
          "output_type": "stream",
          "name": "stderr",
          "text": [
            "100%|██████████| 108/108 [01:05<00:00,  1.64it/s, Epoch=3, LR=3.92e-6, Train_Acc=0.974, Train_Auc=0.994, Train_Loss=0.0711]\n",
            "  0%|          | 0/14 [00:21<?, ?it/s, Epoch=3, LR=3.92e-6, Valid_Acc=0.92, Valid_Auc=0.984, Valid_Loss=0.173]\n",
            "INFO:__main__:Epoch 3 - avg_train_loss: 0.0711  avg_valid_loss: 0.1731\n",
            "INFO:__main__:Epoch 3 - Train Acc: 0.9740  Train Auc: 0.9943  Valid Acc: 0.9197  Valid Auc: 0.9838\n"
          ]
        },
        {
          "output_type": "stream",
          "name": "stdout",
          "text": [
            "\u001b[34mValidation Score Improved (0.9533956703347963 ---> 0.9837796577825837)\n",
            "Model Saved\u001b[0m\n"
          ]
        },
        {
          "output_type": "stream",
          "name": "stderr",
          "text": [
            "100%|██████████| 108/108 [01:06<00:00,  1.64it/s, Epoch=4, LR=5.5e-9, Train_Acc=0.994, Train_Auc=1, Train_Loss=0.0235]\n",
            "  0%|          | 0/14 [00:20<?, ?it/s, Epoch=4, LR=5.5e-9, Valid_Acc=0.929, Valid_Auc=0.979, Valid_Loss=0.189]\n",
            "INFO:__main__:Epoch 4 - avg_train_loss: 0.0235  avg_valid_loss: 0.1891\n",
            "INFO:__main__:Epoch 4 - Train Acc: 0.9942  Train Auc: 0.9996  Valid Acc: 0.9289  Valid Auc: 0.9793\n",
            "INFO:__main__:Training complete in 0h 6m 3s\n",
            "INFO:__main__:Best Score: 0.9838\n",
            "INFO:__main__:========== fold: 1 training ==========\n"
          ]
        },
        {
          "output_type": "stream",
          "name": "stdout",
          "text": [
            "\u001b[33m====== Fold: 1 ======\u001b[0m\n",
            "---modelのconfig---\n",
            "{'url': '', 'hf_hub_id': 'timm/eva02_large_patch14_448.mim_m38m_ft_in22k_in1k', 'architecture': 'eva02_large_patch14_448', 'tag': 'mim_m38m_ft_in22k_in1k', 'custom_load': False, 'input_size': (3, 448, 448), 'fixed_input_size': True, 'interpolation': 'bicubic', 'crop_pct': 1.0, 'crop_mode': 'squash', 'mean': (0.48145466, 0.4578275, 0.40821073), 'std': (0.26862954, 0.26130258, 0.27577711), 'num_classes': 1000, 'pool_size': None, 'first_conv': 'patch_embed.proj', 'classifier': 'head', 'license': 'mit'}\n",
            "[INFO] Using GPU: NVIDIA A100-SXM4-40GB\n",
            "\n"
          ]
        },
        {
          "output_type": "stream",
          "name": "stderr",
          "text": [
            "100%|██████████| 108/108 [01:05<00:00,  1.64it/s, Epoch=1, LR=1.5e-5, Train_Acc=0.766, Train_Auc=0.819, Train_Loss=0.494]\n",
            "  0%|          | 0/14 [00:20<?, ?it/s, Epoch=1, LR=1.5e-5, Valid_Acc=0.821, Valid_Auc=0.872, Valid_Loss=0.45]\n",
            "INFO:__main__:Epoch 1 - avg_train_loss: 0.4939  avg_valid_loss: 0.4503\n",
            "INFO:__main__:Epoch 1 - Train Acc: 0.7662  Train Auc: 0.8191  Valid Acc: 0.8207  Valid Auc: 0.8725\n"
          ]
        },
        {
          "output_type": "stream",
          "name": "stdout",
          "text": [
            "\u001b[34mValidation Score Improved (inf ---> 0.8724980836385317)\n",
            "Model Saved\u001b[0m\n"
          ]
        },
        {
          "output_type": "stream",
          "name": "stderr",
          "text": [
            "100%|██████████| 108/108 [01:06<00:00,  1.64it/s, Epoch=2, LR=1.13e-5, Train_Acc=0.914, Train_Auc=0.96, Train_Loss=0.214]\n",
            "  0%|          | 0/14 [00:20<?, ?it/s, Epoch=2, LR=1.13e-5, Valid_Acc=0.871, Valid_Auc=0.96, Valid_Loss=0.284]\n",
            "INFO:__main__:Epoch 2 - avg_train_loss: 0.2141  avg_valid_loss: 0.2836\n",
            "INFO:__main__:Epoch 2 - Train Acc: 0.9144  Train Auc: 0.9596  Valid Acc: 0.8713  Valid Auc: 0.9595\n"
          ]
        },
        {
          "output_type": "stream",
          "name": "stdout",
          "text": [
            "\u001b[34mValidation Score Improved (0.8724980836385317 ---> 0.9595008943020186)\n",
            "Model Saved\u001b[0m\n"
          ]
        },
        {
          "output_type": "stream",
          "name": "stderr",
          "text": [
            "100%|██████████| 108/108 [01:05<00:00,  1.64it/s, Epoch=3, LR=3.92e-6, Train_Acc=0.977, Train_Auc=0.996, Train_Loss=0.0668]\n",
            "  0%|          | 0/14 [00:21<?, ?it/s, Epoch=3, LR=3.92e-6, Valid_Acc=0.936, Valid_Auc=0.972, Valid_Loss=0.208]\n",
            "INFO:__main__:Epoch 3 - avg_train_loss: 0.0668  avg_valid_loss: 0.2085\n",
            "INFO:__main__:Epoch 3 - Train Acc: 0.9769  Train Auc: 0.9959  Valid Acc: 0.9356  Valid Auc: 0.9721\n"
          ]
        },
        {
          "output_type": "stream",
          "name": "stdout",
          "text": [
            "\u001b[34mValidation Score Improved (0.9595008943020186 ---> 0.9721275870879822)\n",
            "Model Saved\u001b[0m\n"
          ]
        },
        {
          "output_type": "stream",
          "name": "stderr",
          "text": [
            "100%|██████████| 108/108 [01:05<00:00,  1.64it/s, Epoch=4, LR=5.5e-9, Train_Acc=0.999, Train_Auc=1, Train_Loss=0.0154]\n",
            "  0%|          | 0/14 [00:21<?, ?it/s, Epoch=4, LR=5.5e-9, Valid_Acc=0.936, Valid_Auc=0.982, Valid_Loss=0.169]\n",
            "INFO:__main__:Epoch 4 - avg_train_loss: 0.0154  avg_valid_loss: 0.1694\n",
            "INFO:__main__:Epoch 4 - Train Acc: 0.9994  Train Auc: 1.0000  Valid Acc: 0.9356  Valid Auc: 0.9815\n"
          ]
        },
        {
          "output_type": "stream",
          "name": "stdout",
          "text": [
            "\u001b[34mValidation Score Improved (0.9721275870879822 ---> 0.9815390511881441)\n"
          ]
        },
        {
          "output_type": "stream",
          "name": "stderr",
          "text": [
            "INFO:__main__:Training complete in 0h 6m 5s\n",
            "INFO:__main__:Best Score: 0.9815\n",
            "INFO:__main__:========== fold: 2 training ==========\n"
          ]
        },
        {
          "output_type": "stream",
          "name": "stdout",
          "text": [
            "Model Saved\u001b[0m\n",
            "\u001b[33m====== Fold: 2 ======\u001b[0m\n",
            "---modelのconfig---\n",
            "{'url': '', 'hf_hub_id': 'timm/eva02_large_patch14_448.mim_m38m_ft_in22k_in1k', 'architecture': 'eva02_large_patch14_448', 'tag': 'mim_m38m_ft_in22k_in1k', 'custom_load': False, 'input_size': (3, 448, 448), 'fixed_input_size': True, 'interpolation': 'bicubic', 'crop_pct': 1.0, 'crop_mode': 'squash', 'mean': (0.48145466, 0.4578275, 0.40821073), 'std': (0.26862954, 0.26130258, 0.27577711), 'num_classes': 1000, 'pool_size': None, 'first_conv': 'patch_embed.proj', 'classifier': 'head', 'license': 'mit'}\n",
            "[INFO] Using GPU: NVIDIA A100-SXM4-40GB\n",
            "\n"
          ]
        },
        {
          "output_type": "stream",
          "name": "stderr",
          "text": [
            "100%|██████████| 108/108 [01:05<00:00,  1.64it/s, Epoch=1, LR=1.5e-5, Train_Acc=0.736, Train_Auc=0.801, Train_Loss=0.536]\n",
            "  0%|          | 0/14 [00:20<?, ?it/s, Epoch=1, LR=1.5e-5, Valid_Acc=0.724, Valid_Auc=0.816, Valid_Loss=0.538]\n",
            "INFO:__main__:Epoch 1 - avg_train_loss: 0.5356  avg_valid_loss: 0.5381\n",
            "INFO:__main__:Epoch 1 - Train Acc: 0.7361  Train Auc: 0.8011  Valid Acc: 0.7241  Valid Auc: 0.8161\n"
          ]
        },
        {
          "output_type": "stream",
          "name": "stdout",
          "text": [
            "\u001b[34mValidation Score Improved (inf ---> 0.8160718848479686)\n",
            "Model Saved\u001b[0m\n"
          ]
        },
        {
          "output_type": "stream",
          "name": "stderr",
          "text": [
            "100%|██████████| 108/108 [01:05<00:00,  1.64it/s, Epoch=2, LR=1.13e-5, Train_Acc=0.87, Train_Auc=0.933, Train_Loss=0.3]\n",
            "  0%|          | 0/14 [00:20<?, ?it/s, Epoch=2, LR=1.13e-5, Valid_Acc=0.874, Valid_Auc=0.969, Valid_Loss=0.273]\n",
            "INFO:__main__:Epoch 2 - avg_train_loss: 0.2996  avg_valid_loss: 0.2735\n",
            "INFO:__main__:Epoch 2 - Train Acc: 0.8704  Train Auc: 0.9326  Valid Acc: 0.8736  Valid Auc: 0.9688\n"
          ]
        },
        {
          "output_type": "stream",
          "name": "stdout",
          "text": [
            "\u001b[34mValidation Score Improved (0.8160718848479686 ---> 0.9687846009709564)\n",
            "Model Saved\u001b[0m\n"
          ]
        },
        {
          "output_type": "stream",
          "name": "stderr",
          "text": [
            "100%|██████████| 108/108 [01:06<00:00,  1.64it/s, Epoch=3, LR=3.92e-6, Train_Acc=0.969, Train_Auc=0.993, Train_Loss=0.0883]\n",
            "  0%|          | 0/14 [00:20<?, ?it/s, Epoch=3, LR=3.92e-6, Valid_Acc=0.91, Valid_Auc=0.976, Valid_Loss=0.202]\n",
            "INFO:__main__:Epoch 3 - avg_train_loss: 0.0883  avg_valid_loss: 0.2025\n",
            "INFO:__main__:Epoch 3 - Train Acc: 0.9688  Train Auc: 0.9933  Valid Acc: 0.9103  Valid Auc: 0.9762\n"
          ]
        },
        {
          "output_type": "stream",
          "name": "stdout",
          "text": [
            "\u001b[34mValidation Score Improved (0.9687846009709564 ---> 0.9761945319819436)\n",
            "Model Saved\u001b[0m\n"
          ]
        },
        {
          "output_type": "stream",
          "name": "stderr",
          "text": [
            "100%|██████████| 108/108 [01:05<00:00,  1.64it/s, Epoch=4, LR=5.5e-9, Train_Acc=0.995, Train_Auc=0.999, Train_Loss=0.0305]\n",
            "  0%|          | 0/14 [00:20<?, ?it/s, Epoch=4, LR=5.5e-9, Valid_Acc=0.938, Valid_Auc=0.98, Valid_Loss=0.171]\n",
            "INFO:__main__:Epoch 4 - avg_train_loss: 0.0305  avg_valid_loss: 0.1710\n",
            "INFO:__main__:Epoch 4 - Train Acc: 0.9954  Train Auc: 0.9992  Valid Acc: 0.9379  Valid Auc: 0.9804\n"
          ]
        },
        {
          "output_type": "stream",
          "name": "stdout",
          "text": [
            "\u001b[34mValidation Score Improved (0.9761945319819436 ---> 0.9803679414019248)\n"
          ]
        },
        {
          "output_type": "stream",
          "name": "stderr",
          "text": [
            "INFO:__main__:Training complete in 0h 6m 6s\n",
            "INFO:__main__:Best Score: 0.9804\n",
            "INFO:__main__:========== fold: 3 training ==========\n"
          ]
        },
        {
          "output_type": "stream",
          "name": "stdout",
          "text": [
            "Model Saved\u001b[0m\n",
            "\u001b[33m====== Fold: 3 ======\u001b[0m\n",
            "---modelのconfig---\n",
            "{'url': '', 'hf_hub_id': 'timm/eva02_large_patch14_448.mim_m38m_ft_in22k_in1k', 'architecture': 'eva02_large_patch14_448', 'tag': 'mim_m38m_ft_in22k_in1k', 'custom_load': False, 'input_size': (3, 448, 448), 'fixed_input_size': True, 'interpolation': 'bicubic', 'crop_pct': 1.0, 'crop_mode': 'squash', 'mean': (0.48145466, 0.4578275, 0.40821073), 'std': (0.26862954, 0.26130258, 0.27577711), 'num_classes': 1000, 'pool_size': None, 'first_conv': 'patch_embed.proj', 'classifier': 'head', 'license': 'mit'}\n",
            "[INFO] Using GPU: NVIDIA A100-SXM4-40GB\n",
            "\n"
          ]
        },
        {
          "output_type": "stream",
          "name": "stderr",
          "text": [
            "100%|██████████| 108/108 [01:06<00:00,  1.64it/s, Epoch=1, LR=1.5e-5, Train_Acc=0.762, Train_Auc=0.816, Train_Loss=0.514]\n",
            "  0%|          | 0/14 [00:20<?, ?it/s, Epoch=1, LR=1.5e-5, Valid_Acc=0.839, Valid_Auc=0.912, Valid_Loss=0.366]\n",
            "INFO:__main__:Epoch 1 - avg_train_loss: 0.5141  avg_valid_loss: 0.3659\n",
            "INFO:__main__:Epoch 1 - Train Acc: 0.7622  Train Auc: 0.8156  Valid Acc: 0.8391  Valid Auc: 0.9117\n"
          ]
        },
        {
          "output_type": "stream",
          "name": "stdout",
          "text": [
            "\u001b[34mValidation Score Improved (inf ---> 0.9117409079294779)\n",
            "Model Saved\u001b[0m\n"
          ]
        },
        {
          "output_type": "stream",
          "name": "stderr",
          "text": [
            "100%|██████████| 108/108 [01:06<00:00,  1.64it/s, Epoch=2, LR=1.13e-5, Train_Acc=0.9, Train_Auc=0.955, Train_Loss=0.235]\n",
            "  0%|          | 0/14 [00:20<?, ?it/s, Epoch=2, LR=1.13e-5, Valid_Acc=0.908, Valid_Auc=0.968, Valid_Loss=0.246]\n",
            "INFO:__main__:Epoch 2 - avg_train_loss: 0.2348  avg_valid_loss: 0.2455\n",
            "INFO:__main__:Epoch 2 - Train Acc: 0.9005  Train Auc: 0.9552  Valid Acc: 0.9080  Valid Auc: 0.9683\n"
          ]
        },
        {
          "output_type": "stream",
          "name": "stdout",
          "text": [
            "\u001b[34mValidation Score Improved (0.9117409079294779 ---> 0.9683161570564689)\n",
            "Model Saved\u001b[0m\n"
          ]
        },
        {
          "output_type": "stream",
          "name": "stderr",
          "text": [
            "100%|██████████| 108/108 [01:06<00:00,  1.64it/s, Epoch=3, LR=3.92e-6, Train_Acc=0.986, Train_Auc=0.998, Train_Loss=0.0506]\n",
            "  0%|          | 0/14 [00:20<?, ?it/s, Epoch=3, LR=3.92e-6, Valid_Acc=0.917, Valid_Auc=0.972, Valid_Loss=0.219]\n",
            "INFO:__main__:Epoch 3 - avg_train_loss: 0.0506  avg_valid_loss: 0.2193\n",
            "INFO:__main__:Epoch 3 - Train Acc: 0.9855  Train Auc: 0.9979  Valid Acc: 0.9172  Valid Auc: 0.9721\n"
          ]
        },
        {
          "output_type": "stream",
          "name": "stdout",
          "text": [
            "\u001b[34mValidation Score Improved (0.9683161570564689 ---> 0.9721275870879823)\n",
            "Model Saved\u001b[0m\n"
          ]
        },
        {
          "output_type": "stream",
          "name": "stderr",
          "text": [
            "100%|██████████| 108/108 [01:06<00:00,  1.64it/s, Epoch=4, LR=5.5e-9, Train_Acc=0.996, Train_Auc=1, Train_Loss=0.0187]\n",
            "  0%|          | 0/14 [00:20<?, ?it/s, Epoch=4, LR=5.5e-9, Valid_Acc=0.915, Valid_Auc=0.979, Valid_Loss=0.193]\n",
            "INFO:__main__:Epoch 4 - avg_train_loss: 0.0187  avg_valid_loss: 0.1932\n",
            "INFO:__main__:Epoch 4 - Train Acc: 0.9959  Train Auc: 0.9997  Valid Acc: 0.9149  Valid Auc: 0.9793\n"
          ]
        },
        {
          "output_type": "stream",
          "name": "stdout",
          "text": [
            "\u001b[34mValidation Score Improved (0.9721275870879823 ---> 0.9793458819521335)\n"
          ]
        },
        {
          "output_type": "stream",
          "name": "stderr",
          "text": [
            "INFO:__main__:Training complete in 0h 6m 7s\n",
            "INFO:__main__:Best Score: 0.9793\n",
            "INFO:__main__:========== fold: 4 training ==========\n"
          ]
        },
        {
          "output_type": "stream",
          "name": "stdout",
          "text": [
            "Model Saved\u001b[0m\n",
            "\u001b[33m====== Fold: 4 ======\u001b[0m\n",
            "---modelのconfig---\n",
            "{'url': '', 'hf_hub_id': 'timm/eva02_large_patch14_448.mim_m38m_ft_in22k_in1k', 'architecture': 'eva02_large_patch14_448', 'tag': 'mim_m38m_ft_in22k_in1k', 'custom_load': False, 'input_size': (3, 448, 448), 'fixed_input_size': True, 'interpolation': 'bicubic', 'crop_pct': 1.0, 'crop_mode': 'squash', 'mean': (0.48145466, 0.4578275, 0.40821073), 'std': (0.26862954, 0.26130258, 0.27577711), 'num_classes': 1000, 'pool_size': None, 'first_conv': 'patch_embed.proj', 'classifier': 'head', 'license': 'mit'}\n",
            "[INFO] Using GPU: NVIDIA A100-SXM4-40GB\n",
            "\n"
          ]
        },
        {
          "output_type": "stream",
          "name": "stderr",
          "text": [
            "100%|██████████| 108/108 [01:05<00:00,  1.64it/s, Epoch=1, LR=1.5e-5, Train_Acc=0.769, Train_Auc=0.819, Train_Loss=0.495]\n",
            "  0%|          | 0/14 [00:20<?, ?it/s, Epoch=1, LR=1.5e-5, Valid_Acc=0.839, Valid_Auc=0.903, Valid_Loss=0.406]\n",
            "INFO:__main__:Epoch 1 - avg_train_loss: 0.4950  avg_valid_loss: 0.4065\n",
            "INFO:__main__:Epoch 1 - Train Acc: 0.7685  Train Auc: 0.8192  Valid Acc: 0.8391  Valid Auc: 0.9035\n"
          ]
        },
        {
          "output_type": "stream",
          "name": "stdout",
          "text": [
            "\u001b[34mValidation Score Improved (inf ---> 0.903486340195201)\n",
            "Model Saved\u001b[0m\n"
          ]
        },
        {
          "output_type": "stream",
          "name": "stderr",
          "text": [
            "100%|██████████| 108/108 [01:05<00:00,  1.64it/s, Epoch=2, LR=1.13e-5, Train_Acc=0.895, Train_Auc=0.948, Train_Loss=0.251]\n",
            "  0%|          | 0/14 [00:20<?, ?it/s, Epoch=2, LR=1.13e-5, Valid_Acc=0.88, Valid_Auc=0.963, Valid_Loss=0.279]\n",
            "INFO:__main__:Epoch 2 - avg_train_loss: 0.2511  avg_valid_loss: 0.2791\n",
            "INFO:__main__:Epoch 2 - Train Acc: 0.8953  Train Auc: 0.9476  Valid Acc: 0.8805  Valid Auc: 0.9628\n"
          ]
        },
        {
          "output_type": "stream",
          "name": "stdout",
          "text": [
            "\u001b[34mValidation Score Improved (0.903486340195201 ---> 0.9628351020756084)\n",
            "Model Saved\u001b[0m\n"
          ]
        },
        {
          "output_type": "stream",
          "name": "stderr",
          "text": [
            "100%|██████████| 108/108 [01:06<00:00,  1.63it/s, Epoch=3, LR=3.92e-6, Train_Acc=0.981, Train_Auc=0.996, Train_Loss=0.0591]\n",
            "  0%|          | 0/14 [00:20<?, ?it/s, Epoch=3, LR=3.92e-6, Valid_Acc=0.931, Valid_Auc=0.977, Valid_Loss=0.195]\n",
            "INFO:__main__:Epoch 3 - avg_train_loss: 0.0591  avg_valid_loss: 0.1950\n",
            "INFO:__main__:Epoch 3 - Train Acc: 0.9809  Train Auc: 0.9965  Valid Acc: 0.9310  Valid Auc: 0.9771\n"
          ]
        },
        {
          "output_type": "stream",
          "name": "stdout",
          "text": [
            "\u001b[34mValidation Score Improved (0.9628351020756084 ---> 0.9770915910156417)\n",
            "Model Saved\u001b[0m\n"
          ]
        },
        {
          "output_type": "stream",
          "name": "stderr",
          "text": [
            "100%|██████████| 108/108 [01:06<00:00,  1.63it/s, Epoch=4, LR=5.5e-9, Train_Acc=0.998, Train_Auc=1, Train_Loss=0.0184]\n",
            "  0%|          | 0/14 [00:20<?, ?it/s, Epoch=4, LR=5.5e-9, Valid_Acc=0.947, Valid_Auc=0.977, Valid_Loss=0.19]\n",
            "INFO:__main__:Epoch 4 - avg_train_loss: 0.0184  avg_valid_loss: 0.1895\n",
            "INFO:__main__:Epoch 4 - Train Acc: 0.9977  Train Auc: 0.9997  Valid Acc: 0.9471  Valid Auc: 0.9775\n"
          ]
        },
        {
          "output_type": "stream",
          "name": "stdout",
          "text": [
            "\u001b[34mValidation Score Improved (0.9770915910156417 ---> 0.9774751736777053)\n"
          ]
        },
        {
          "output_type": "stream",
          "name": "stderr",
          "text": [
            "INFO:__main__:Training complete in 0h 6m 4s\n",
            "INFO:__main__:Best Score: 0.9775\n",
            "INFO:__main__:========== CV ==========\n",
            "INFO:__main__:CV: 0.9796\n",
            "INFO:__main__:========== Model: 2 evaluation ==========\n"
          ]
        },
        {
          "output_type": "stream",
          "name": "stdout",
          "text": [
            "Model Saved\u001b[0m\n",
            "---modelのconfig---\n",
            "{'url': '', 'hf_hub_id': 'timm/eva02_large_patch14_448.mim_m38m_ft_in22k_in1k', 'architecture': 'eva02_large_patch14_448', 'tag': 'mim_m38m_ft_in22k_in1k', 'custom_load': False, 'input_size': (3, 448, 448), 'fixed_input_size': True, 'interpolation': 'bicubic', 'crop_pct': 1.0, 'crop_mode': 'squash', 'mean': (0.48145466, 0.4578275, 0.40821073), 'std': (0.26862954, 0.26130258, 0.27577711), 'num_classes': 1000, 'pool_size': None, 'first_conv': 'patch_embed.proj', 'classifier': 'head', 'license': 'mit'}\n",
            "Getting predictions for model 1\n"
          ]
        },
        {
          "output_type": "stream",
          "name": "stderr",
          "text": [
            "100%|██████████| 69/69 [01:36<00:00,  1.40s/it]\n"
          ]
        },
        {
          "output_type": "stream",
          "name": "stdout",
          "text": [
            "---modelのconfig---\n",
            "{'url': '', 'hf_hub_id': 'timm/eva02_large_patch14_448.mim_m38m_ft_in22k_in1k', 'architecture': 'eva02_large_patch14_448', 'tag': 'mim_m38m_ft_in22k_in1k', 'custom_load': False, 'input_size': (3, 448, 448), 'fixed_input_size': True, 'interpolation': 'bicubic', 'crop_pct': 1.0, 'crop_mode': 'squash', 'mean': (0.48145466, 0.4578275, 0.40821073), 'std': (0.26862954, 0.26130258, 0.27577711), 'num_classes': 1000, 'pool_size': None, 'first_conv': 'patch_embed.proj', 'classifier': 'head', 'license': 'mit'}\n",
            "Getting predictions for model 2\n"
          ]
        },
        {
          "output_type": "stream",
          "name": "stderr",
          "text": [
            "100%|██████████| 69/69 [01:36<00:00,  1.40s/it]\n"
          ]
        },
        {
          "output_type": "stream",
          "name": "stdout",
          "text": [
            "---modelのconfig---\n",
            "{'url': '', 'hf_hub_id': 'timm/eva02_large_patch14_448.mim_m38m_ft_in22k_in1k', 'architecture': 'eva02_large_patch14_448', 'tag': 'mim_m38m_ft_in22k_in1k', 'custom_load': False, 'input_size': (3, 448, 448), 'fixed_input_size': True, 'interpolation': 'bicubic', 'crop_pct': 1.0, 'crop_mode': 'squash', 'mean': (0.48145466, 0.4578275, 0.40821073), 'std': (0.26862954, 0.26130258, 0.27577711), 'num_classes': 1000, 'pool_size': None, 'first_conv': 'patch_embed.proj', 'classifier': 'head', 'license': 'mit'}\n",
            "Getting predictions for model 3\n"
          ]
        },
        {
          "output_type": "stream",
          "name": "stderr",
          "text": [
            "100%|██████████| 69/69 [01:36<00:00,  1.40s/it]\n"
          ]
        },
        {
          "output_type": "stream",
          "name": "stdout",
          "text": [
            "---modelのconfig---\n",
            "{'url': '', 'hf_hub_id': 'timm/eva02_large_patch14_448.mim_m38m_ft_in22k_in1k', 'architecture': 'eva02_large_patch14_448', 'tag': 'mim_m38m_ft_in22k_in1k', 'custom_load': False, 'input_size': (3, 448, 448), 'fixed_input_size': True, 'interpolation': 'bicubic', 'crop_pct': 1.0, 'crop_mode': 'squash', 'mean': (0.48145466, 0.4578275, 0.40821073), 'std': (0.26862954, 0.26130258, 0.27577711), 'num_classes': 1000, 'pool_size': None, 'first_conv': 'patch_embed.proj', 'classifier': 'head', 'license': 'mit'}\n",
            "Getting predictions for model 4\n"
          ]
        },
        {
          "output_type": "stream",
          "name": "stderr",
          "text": [
            "100%|██████████| 69/69 [01:36<00:00,  1.40s/it]\n"
          ]
        },
        {
          "output_type": "stream",
          "name": "stdout",
          "text": [
            "---modelのconfig---\n",
            "{'url': '', 'hf_hub_id': 'timm/eva02_large_patch14_448.mim_m38m_ft_in22k_in1k', 'architecture': 'eva02_large_patch14_448', 'tag': 'mim_m38m_ft_in22k_in1k', 'custom_load': False, 'input_size': (3, 448, 448), 'fixed_input_size': True, 'interpolation': 'bicubic', 'crop_pct': 1.0, 'crop_mode': 'squash', 'mean': (0.48145466, 0.4578275, 0.40821073), 'std': (0.26862954, 0.26130258, 0.27577711), 'num_classes': 1000, 'pool_size': None, 'first_conv': 'patch_embed.proj', 'classifier': 'head', 'license': 'mit'}\n",
            "Getting predictions for model 5\n"
          ]
        },
        {
          "output_type": "stream",
          "name": "stderr",
          "text": [
            "100%|██████████| 69/69 [01:36<00:00,  1.40s/it]\n",
            "INFO:__main__:========== Model: 4 training ==========\n",
            "INFO:__main__:========== fold: 0 training ==========\n"
          ]
        },
        {
          "output_type": "stream",
          "name": "stdout",
          "text": [
            "\n",
            "\u001b[33m====== Model: 4 ======\n",
            "\u001b[33m====== Fold: 0 ======\u001b[0m\n",
            "---modelのconfig---\n",
            "{'url': '', 'hf_hub_id': 'timm/eva02_large_patch14_448.mim_m38m_ft_in22k_in1k', 'architecture': 'eva02_large_patch14_448', 'tag': 'mim_m38m_ft_in22k_in1k', 'custom_load': False, 'input_size': (3, 448, 448), 'fixed_input_size': True, 'interpolation': 'bicubic', 'crop_pct': 1.0, 'crop_mode': 'squash', 'mean': (0.48145466, 0.4578275, 0.40821073), 'std': (0.26862954, 0.26130258, 0.27577711), 'num_classes': 1000, 'pool_size': None, 'first_conv': 'patch_embed.proj', 'classifier': 'head', 'license': 'mit'}\n",
            "[INFO] Using GPU: NVIDIA A100-SXM4-40GB\n",
            "\n"
          ]
        },
        {
          "output_type": "stream",
          "name": "stderr",
          "text": [
            "100%|██████████| 108/108 [01:06<00:00,  1.64it/s, Epoch=1, LR=1.5e-5, Train_Acc=0.714, Train_Auc=0.776, Train_Loss=0.574]\n",
            "  0%|          | 0/14 [00:21<?, ?it/s, Epoch=1, LR=1.5e-5, Valid_Acc=0.828, Valid_Auc=0.909, Valid_Loss=0.375]\n",
            "INFO:__main__:Epoch 1 - avg_train_loss: 0.5743  avg_valid_loss: 0.3754\n",
            "INFO:__main__:Epoch 1 - Train Acc: 0.7141  Train Auc: 0.7755  Valid Acc: 0.8280  Valid Auc: 0.9093\n"
          ]
        },
        {
          "output_type": "stream",
          "name": "stdout",
          "text": [
            "\u001b[34mValidation Score Improved (inf ---> 0.9092508958293577)\n",
            "Model Saved\u001b[0m\n"
          ]
        },
        {
          "output_type": "stream",
          "name": "stderr",
          "text": [
            "100%|██████████| 108/108 [01:06<00:00,  1.64it/s, Epoch=2, LR=1.13e-5, Train_Acc=0.892, Train_Auc=0.945, Train_Loss=0.259]\n",
            "  0%|          | 0/14 [00:20<?, ?it/s, Epoch=2, LR=1.13e-5, Valid_Acc=0.897, Valid_Auc=0.971, Valid_Loss=0.248]\n",
            "INFO:__main__:Epoch 2 - avg_train_loss: 0.2591  avg_valid_loss: 0.2476\n",
            "INFO:__main__:Epoch 2 - Train Acc: 0.8924  Train Auc: 0.9453  Valid Acc: 0.8968  Valid Auc: 0.9707\n"
          ]
        },
        {
          "output_type": "stream",
          "name": "stdout",
          "text": [
            "\u001b[34mValidation Score Improved (0.9092508958293577 ---> 0.9707397748234845)\n",
            "Model Saved\u001b[0m\n"
          ]
        },
        {
          "output_type": "stream",
          "name": "stderr",
          "text": [
            "100%|██████████| 108/108 [01:06<00:00,  1.63it/s, Epoch=3, LR=3.92e-6, Train_Acc=0.977, Train_Auc=0.997, Train_Loss=0.0647]\n",
            "  0%|          | 0/14 [00:20<?, ?it/s, Epoch=3, LR=3.92e-6, Valid_Acc=0.915, Valid_Auc=0.979, Valid_Loss=0.19]\n",
            "INFO:__main__:Epoch 3 - avg_train_loss: 0.0647  avg_valid_loss: 0.1897\n",
            "INFO:__main__:Epoch 3 - Train Acc: 0.9774  Train Auc: 0.9967  Valid Acc: 0.9151  Valid Auc: 0.9787\n"
          ]
        },
        {
          "output_type": "stream",
          "name": "stdout",
          "text": [
            "\u001b[34mValidation Score Improved (0.9707397748234845 ---> 0.978733329092721)\n",
            "Model Saved\u001b[0m\n"
          ]
        },
        {
          "output_type": "stream",
          "name": "stderr",
          "text": [
            "100%|██████████| 108/108 [01:05<00:00,  1.64it/s, Epoch=4, LR=5.5e-9, Train_Acc=0.996, Train_Auc=1, Train_Loss=0.0195]\n",
            "  0%|          | 0/14 [00:20<?, ?it/s, Epoch=4, LR=5.5e-9, Valid_Acc=0.931, Valid_Auc=0.984, Valid_Loss=0.164]\n",
            "INFO:__main__:Epoch 4 - avg_train_loss: 0.0195  avg_valid_loss: 0.1639\n",
            "INFO:__main__:Epoch 4 - Train Acc: 0.9959  Train Auc: 0.9997  Valid Acc: 0.9312  Valid Auc: 0.9839\n"
          ]
        },
        {
          "output_type": "stream",
          "name": "stdout",
          "text": [
            "\u001b[34mValidation Score Improved (0.978733329092721 ---> 0.9839280792146385)\n"
          ]
        },
        {
          "output_type": "stream",
          "name": "stderr",
          "text": [
            "INFO:__main__:Training complete in 0h 6m 5s\n",
            "INFO:__main__:Best Score: 0.9839\n",
            "INFO:__main__:========== fold: 1 training ==========\n"
          ]
        },
        {
          "output_type": "stream",
          "name": "stdout",
          "text": [
            "Model Saved\u001b[0m\n",
            "\u001b[33m====== Fold: 1 ======\u001b[0m\n",
            "---modelのconfig---\n",
            "{'url': '', 'hf_hub_id': 'timm/eva02_large_patch14_448.mim_m38m_ft_in22k_in1k', 'architecture': 'eva02_large_patch14_448', 'tag': 'mim_m38m_ft_in22k_in1k', 'custom_load': False, 'input_size': (3, 448, 448), 'fixed_input_size': True, 'interpolation': 'bicubic', 'crop_pct': 1.0, 'crop_mode': 'squash', 'mean': (0.48145466, 0.4578275, 0.40821073), 'std': (0.26862954, 0.26130258, 0.27577711), 'num_classes': 1000, 'pool_size': None, 'first_conv': 'patch_embed.proj', 'classifier': 'head', 'license': 'mit'}\n",
            "[INFO] Using GPU: NVIDIA A100-SXM4-40GB\n",
            "\n"
          ]
        },
        {
          "output_type": "stream",
          "name": "stderr",
          "text": [
            "100%|██████████| 108/108 [01:05<00:00,  1.64it/s, Epoch=1, LR=1.5e-5, Train_Acc=0.726, Train_Auc=0.782, Train_Loss=0.554]\n",
            "  0%|          | 0/14 [00:20<?, ?it/s, Epoch=1, LR=1.5e-5, Valid_Acc=0.857, Valid_Auc=0.918, Valid_Loss=0.368]\n",
            "INFO:__main__:Epoch 1 - avg_train_loss: 0.5544  avg_valid_loss: 0.3684\n",
            "INFO:__main__:Epoch 1 - Train Acc: 0.7257  Train Auc: 0.7824  Valid Acc: 0.8575  Valid Auc: 0.9183\n"
          ]
        },
        {
          "output_type": "stream",
          "name": "stdout",
          "text": [
            "\u001b[34mValidation Score Improved (inf ---> 0.9182565369218976)\n",
            "Model Saved\u001b[0m\n"
          ]
        },
        {
          "output_type": "stream",
          "name": "stderr",
          "text": [
            "100%|██████████| 108/108 [01:05<00:00,  1.64it/s, Epoch=2, LR=1.13e-5, Train_Acc=0.902, Train_Auc=0.954, Train_Loss=0.237]\n",
            "  0%|          | 0/14 [00:20<?, ?it/s, Epoch=2, LR=1.13e-5, Valid_Acc=0.848, Valid_Auc=0.956, Valid_Loss=0.301]\n",
            "INFO:__main__:Epoch 2 - avg_train_loss: 0.2372  avg_valid_loss: 0.3012\n",
            "INFO:__main__:Epoch 2 - Train Acc: 0.9022  Train Auc: 0.9543  Valid Acc: 0.8483  Valid Auc: 0.9556\n"
          ]
        },
        {
          "output_type": "stream",
          "name": "stdout",
          "text": [
            "\u001b[34mValidation Score Improved (0.9182565369218976 ---> 0.9556468784600971)\n",
            "Model Saved\u001b[0m\n"
          ]
        },
        {
          "output_type": "stream",
          "name": "stderr",
          "text": [
            "100%|██████████| 108/108 [01:05<00:00,  1.64it/s, Epoch=3, LR=3.92e-6, Train_Acc=0.977, Train_Auc=0.995, Train_Loss=0.07]\n",
            "  0%|          | 0/14 [00:20<?, ?it/s, Epoch=3, LR=3.92e-6, Valid_Acc=0.936, Valid_Auc=0.98, Valid_Loss=0.177]\n",
            "INFO:__main__:Epoch 3 - avg_train_loss: 0.0700  avg_valid_loss: 0.1768\n",
            "INFO:__main__:Epoch 3 - Train Acc: 0.9774  Train Auc: 0.9954  Valid Acc: 0.9356  Valid Auc: 0.9805\n"
          ]
        },
        {
          "output_type": "stream",
          "name": "stdout",
          "text": [
            "\u001b[34mValidation Score Improved (0.9556468784600971 ---> 0.9804744059279448)\n",
            "Model Saved\u001b[0m\n"
          ]
        },
        {
          "output_type": "stream",
          "name": "stderr",
          "text": [
            "100%|██████████| 108/108 [01:06<00:00,  1.64it/s, Epoch=4, LR=5.5e-9, Train_Acc=0.998, Train_Auc=1, Train_Loss=0.0207]\n",
            "  0%|          | 0/14 [00:20<?, ?it/s, Epoch=4, LR=5.5e-9, Valid_Acc=0.936, Valid_Auc=0.979, Valid_Loss=0.188]\n",
            "INFO:__main__:Epoch 4 - avg_train_loss: 0.0207  avg_valid_loss: 0.1884\n",
            "INFO:__main__:Epoch 4 - Train Acc: 0.9983  Train Auc: 0.9997  Valid Acc: 0.9356  Valid Auc: 0.9786\n",
            "INFO:__main__:Training complete in 0h 6m 2s\n",
            "INFO:__main__:Best Score: 0.9805\n",
            "INFO:__main__:========== fold: 2 training ==========\n"
          ]
        },
        {
          "output_type": "stream",
          "name": "stdout",
          "text": [
            "\u001b[33m====== Fold: 2 ======\u001b[0m\n",
            "---modelのconfig---\n",
            "{'url': '', 'hf_hub_id': 'timm/eva02_large_patch14_448.mim_m38m_ft_in22k_in1k', 'architecture': 'eva02_large_patch14_448', 'tag': 'mim_m38m_ft_in22k_in1k', 'custom_load': False, 'input_size': (3, 448, 448), 'fixed_input_size': True, 'interpolation': 'bicubic', 'crop_pct': 1.0, 'crop_mode': 'squash', 'mean': (0.48145466, 0.4578275, 0.40821073), 'std': (0.26862954, 0.26130258, 0.27577711), 'num_classes': 1000, 'pool_size': None, 'first_conv': 'patch_embed.proj', 'classifier': 'head', 'license': 'mit'}\n",
            "[INFO] Using GPU: NVIDIA A100-SXM4-40GB\n",
            "\n"
          ]
        },
        {
          "output_type": "stream",
          "name": "stderr",
          "text": [
            "100%|██████████| 108/108 [01:06<00:00,  1.64it/s, Epoch=1, LR=1.5e-5, Train_Acc=0.731, Train_Auc=0.78, Train_Loss=0.563]\n",
            "  0%|          | 0/14 [00:20<?, ?it/s, Epoch=1, LR=1.5e-5, Valid_Acc=0.805, Valid_Auc=0.88, Valid_Loss=0.424]\n",
            "INFO:__main__:Epoch 1 - avg_train_loss: 0.5628  avg_valid_loss: 0.4244\n",
            "INFO:__main__:Epoch 1 - Train Acc: 0.7309  Train Auc: 0.7804  Valid Acc: 0.8046  Valid Auc: 0.8796\n"
          ]
        },
        {
          "output_type": "stream",
          "name": "stdout",
          "text": [
            "\u001b[34mValidation Score Improved (inf ---> 0.879609913976663)\n",
            "Model Saved\u001b[0m\n"
          ]
        },
        {
          "output_type": "stream",
          "name": "stderr",
          "text": [
            "100%|██████████| 108/108 [01:06<00:00,  1.64it/s, Epoch=2, LR=1.13e-5, Train_Acc=0.902, Train_Auc=0.946, Train_Loss=0.251]\n",
            "  0%|          | 0/14 [00:20<?, ?it/s, Epoch=2, LR=1.13e-5, Valid_Acc=0.92, Valid_Auc=0.968, Valid_Loss=0.232]\n",
            "INFO:__main__:Epoch 2 - avg_train_loss: 0.2505  avg_valid_loss: 0.2318\n",
            "INFO:__main__:Epoch 2 - Train Acc: 0.9022  Train Auc: 0.9457  Valid Acc: 0.9195  Valid Auc: 0.9676\n"
          ]
        },
        {
          "output_type": "stream",
          "name": "stdout",
          "text": [
            "\u001b[34mValidation Score Improved (0.879609913976663 ---> 0.9675709053743293)\n",
            "Model Saved\u001b[0m\n"
          ]
        },
        {
          "output_type": "stream",
          "name": "stderr",
          "text": [
            "100%|██████████| 108/108 [01:06<00:00,  1.64it/s, Epoch=3, LR=3.92e-6, Train_Acc=0.966, Train_Auc=0.993, Train_Loss=0.0899]\n",
            "  0%|          | 0/14 [00:21<?, ?it/s, Epoch=3, LR=3.92e-6, Valid_Acc=0.926, Valid_Auc=0.981, Valid_Loss=0.181]\n",
            "INFO:__main__:Epoch 3 - avg_train_loss: 0.0899  avg_valid_loss: 0.1810\n",
            "INFO:__main__:Epoch 3 - Train Acc: 0.9664  Train Auc: 0.9929  Valid Acc: 0.9264  Valid Auc: 0.9815\n"
          ]
        },
        {
          "output_type": "stream",
          "name": "stdout",
          "text": [
            "\u001b[34mValidation Score Improved (0.9675709053743293 ---> 0.981496465377736)\n",
            "Model Saved\u001b[0m\n"
          ]
        },
        {
          "output_type": "stream",
          "name": "stderr",
          "text": [
            "100%|██████████| 108/108 [01:06<00:00,  1.63it/s, Epoch=4, LR=5.5e-9, Train_Acc=0.992, Train_Auc=0.999, Train_Loss=0.0282]\n",
            "  0%|          | 0/14 [00:21<?, ?it/s, Epoch=4, LR=5.5e-9, Valid_Acc=0.943, Valid_Auc=0.983, Valid_Loss=0.163]\n",
            "INFO:__main__:Epoch 4 - avg_train_loss: 0.0282  avg_valid_loss: 0.1627\n",
            "INFO:__main__:Epoch 4 - Train Acc: 0.9925  Train Auc: 0.9993  Valid Acc: 0.9425  Valid Auc: 0.9828\n"
          ]
        },
        {
          "output_type": "stream",
          "name": "stdout",
          "text": [
            "\u001b[34mValidation Score Improved (0.981496465377736 ---> 0.9827740396899753)\n"
          ]
        },
        {
          "output_type": "stream",
          "name": "stderr",
          "text": [
            "INFO:__main__:Training complete in 0h 6m 5s\n",
            "INFO:__main__:Best Score: 0.9828\n",
            "INFO:__main__:========== fold: 3 training ==========\n"
          ]
        },
        {
          "output_type": "stream",
          "name": "stdout",
          "text": [
            "Model Saved\u001b[0m\n",
            "\u001b[33m====== Fold: 3 ======\u001b[0m\n",
            "---modelのconfig---\n",
            "{'url': '', 'hf_hub_id': 'timm/eva02_large_patch14_448.mim_m38m_ft_in22k_in1k', 'architecture': 'eva02_large_patch14_448', 'tag': 'mim_m38m_ft_in22k_in1k', 'custom_load': False, 'input_size': (3, 448, 448), 'fixed_input_size': True, 'interpolation': 'bicubic', 'crop_pct': 1.0, 'crop_mode': 'squash', 'mean': (0.48145466, 0.4578275, 0.40821073), 'std': (0.26862954, 0.26130258, 0.27577711), 'num_classes': 1000, 'pool_size': None, 'first_conv': 'patch_embed.proj', 'classifier': 'head', 'license': 'mit'}\n",
            "[INFO] Using GPU: NVIDIA A100-SXM4-40GB\n",
            "\n"
          ]
        },
        {
          "output_type": "stream",
          "name": "stderr",
          "text": [
            "100%|██████████| 108/108 [01:06<00:00,  1.64it/s, Epoch=1, LR=1.5e-5, Train_Acc=0.734, Train_Auc=0.789, Train_Loss=0.562]\n",
            "  0%|          | 0/14 [00:20<?, ?it/s, Epoch=1, LR=1.5e-5, Valid_Acc=0.825, Valid_Auc=0.919, Valid_Loss=0.376]\n",
            "INFO:__main__:Epoch 1 - avg_train_loss: 0.5619  avg_valid_loss: 0.3762\n",
            "INFO:__main__:Epoch 1 - Train Acc: 0.7344  Train Auc: 0.7886  Valid Acc: 0.8253  Valid Auc: 0.9192\n"
          ]
        },
        {
          "output_type": "stream",
          "name": "stdout",
          "text": [
            "\u001b[34mValidation Score Improved (inf ---> 0.9191934247508731)\n",
            "Model Saved\u001b[0m\n"
          ]
        },
        {
          "output_type": "stream",
          "name": "stderr",
          "text": [
            "100%|██████████| 108/108 [01:06<00:00,  1.64it/s, Epoch=2, LR=1.13e-5, Train_Acc=0.884, Train_Auc=0.946, Train_Loss=0.259]\n",
            "  0%|          | 0/14 [00:20<?, ?it/s, Epoch=2, LR=1.13e-5, Valid_Acc=0.869, Valid_Auc=0.955, Valid_Loss=0.277]\n",
            "INFO:__main__:Epoch 2 - avg_train_loss: 0.2588  avg_valid_loss: 0.2767\n",
            "INFO:__main__:Epoch 2 - Train Acc: 0.8837  Train Auc: 0.9459  Valid Acc: 0.8690  Valid Auc: 0.9553\n"
          ]
        },
        {
          "output_type": "stream",
          "name": "stdout",
          "text": [
            "\u001b[34mValidation Score Improved (0.9191934247508731 ---> 0.9553061919768333)\n",
            "Model Saved\u001b[0m\n"
          ]
        },
        {
          "output_type": "stream",
          "name": "stderr",
          "text": [
            "100%|██████████| 108/108 [01:06<00:00,  1.63it/s, Epoch=3, LR=3.92e-6, Train_Acc=0.975, Train_Auc=0.995, Train_Loss=0.0748]\n",
            "  0%|          | 0/14 [00:20<?, ?it/s, Epoch=3, LR=3.92e-6, Valid_Acc=0.949, Valid_Auc=0.985, Valid_Loss=0.149]\n",
            "INFO:__main__:Epoch 3 - avg_train_loss: 0.0748  avg_valid_loss: 0.1486\n",
            "INFO:__main__:Epoch 3 - Train Acc: 0.9745  Train Auc: 0.9948  Valid Acc: 0.9494  Valid Auc: 0.9853\n"
          ]
        },
        {
          "output_type": "stream",
          "name": "stdout",
          "text": [
            "\u001b[34mValidation Score Improved (0.9553061919768333 ---> 0.9853291883144537)\n",
            "Model Saved\u001b[0m\n"
          ]
        },
        {
          "output_type": "stream",
          "name": "stderr",
          "text": [
            "100%|██████████| 108/108 [01:06<00:00,  1.64it/s, Epoch=4, LR=5.5e-9, Train_Acc=0.994, Train_Auc=1, Train_Loss=0.024]\n",
            "  0%|          | 0/14 [00:20<?, ?it/s, Epoch=4, LR=5.5e-9, Valid_Acc=0.943, Valid_Auc=0.98, Valid_Loss=0.165]\n",
            "INFO:__main__:Epoch 4 - avg_train_loss: 0.0240  avg_valid_loss: 0.1653\n",
            "INFO:__main__:Epoch 4 - Train Acc: 0.9936  Train Auc: 0.9998  Valid Acc: 0.9425  Valid Auc: 0.9803\n",
            "INFO:__main__:Training complete in 0h 6m 8s\n",
            "INFO:__main__:Best Score: 0.9853\n",
            "INFO:__main__:========== fold: 4 training ==========\n"
          ]
        },
        {
          "output_type": "stream",
          "name": "stdout",
          "text": [
            "\u001b[33m====== Fold: 4 ======\u001b[0m\n",
            "---modelのconfig---\n",
            "{'url': '', 'hf_hub_id': 'timm/eva02_large_patch14_448.mim_m38m_ft_in22k_in1k', 'architecture': 'eva02_large_patch14_448', 'tag': 'mim_m38m_ft_in22k_in1k', 'custom_load': False, 'input_size': (3, 448, 448), 'fixed_input_size': True, 'interpolation': 'bicubic', 'crop_pct': 1.0, 'crop_mode': 'squash', 'mean': (0.48145466, 0.4578275, 0.40821073), 'std': (0.26862954, 0.26130258, 0.27577711), 'num_classes': 1000, 'pool_size': None, 'first_conv': 'patch_embed.proj', 'classifier': 'head', 'license': 'mit'}\n",
            "[INFO] Using GPU: NVIDIA A100-SXM4-40GB\n",
            "\n"
          ]
        },
        {
          "output_type": "stream",
          "name": "stderr",
          "text": [
            "100%|██████████| 108/108 [01:05<00:00,  1.64it/s, Epoch=1, LR=1.5e-5, Train_Acc=0.731, Train_Auc=0.797, Train_Loss=0.566]\n",
            "  0%|          | 0/14 [00:20<?, ?it/s, Epoch=1, LR=1.5e-5, Valid_Acc=0.802, Valid_Auc=0.88, Valid_Loss=0.437]\n",
            "INFO:__main__:Epoch 1 - avg_train_loss: 0.5657  avg_valid_loss: 0.4373\n",
            "INFO:__main__:Epoch 1 - Train Acc: 0.7315  Train Auc: 0.7968  Valid Acc: 0.8023  Valid Auc: 0.8796\n"
          ]
        },
        {
          "output_type": "stream",
          "name": "stdout",
          "text": [
            "\u001b[34mValidation Score Improved (inf ---> 0.879597664407791)\n",
            "Model Saved\u001b[0m\n"
          ]
        },
        {
          "output_type": "stream",
          "name": "stderr",
          "text": [
            "100%|██████████| 108/108 [01:05<00:00,  1.64it/s, Epoch=2, LR=1.13e-5, Train_Acc=0.898, Train_Auc=0.95, Train_Loss=0.246]\n",
            "  0%|          | 0/14 [00:20<?, ?it/s, Epoch=2, LR=1.13e-5, Valid_Acc=0.901, Valid_Auc=0.973, Valid_Loss=0.234]\n",
            "INFO:__main__:Epoch 2 - avg_train_loss: 0.2456  avg_valid_loss: 0.2343\n",
            "INFO:__main__:Epoch 2 - Train Acc: 0.8981  Train Auc: 0.9504  Valid Acc: 0.9011  Valid Auc: 0.9732\n"
          ]
        },
        {
          "output_type": "stream",
          "name": "stdout",
          "text": [
            "\u001b[34mValidation Score Improved (0.879597664407791 ---> 0.9731705238034353)\n",
            "Model Saved\u001b[0m\n"
          ]
        },
        {
          "output_type": "stream",
          "name": "stderr",
          "text": [
            "100%|██████████| 108/108 [01:06<00:00,  1.64it/s, Epoch=3, LR=3.92e-6, Train_Acc=0.977, Train_Auc=0.995, Train_Loss=0.069]\n",
            "  0%|          | 0/14 [00:21<?, ?it/s, Epoch=3, LR=3.92e-6, Valid_Acc=0.943, Valid_Auc=0.979, Valid_Loss=0.183]\n",
            "INFO:__main__:Epoch 3 - avg_train_loss: 0.0690  avg_valid_loss: 0.1826\n",
            "INFO:__main__:Epoch 3 - Train Acc: 0.9769  Train Auc: 0.9953  Valid Acc: 0.9425  Valid Auc: 0.9794\n"
          ]
        },
        {
          "output_type": "stream",
          "name": "stdout",
          "text": [
            "\u001b[34mValidation Score Improved (0.9731705238034353 ---> 0.9794143971359162)\n",
            "Model Saved\u001b[0m\n"
          ]
        },
        {
          "output_type": "stream",
          "name": "stderr",
          "text": [
            "100%|██████████| 108/108 [01:05<00:00,  1.64it/s, Epoch=4, LR=5.5e-9, Train_Acc=0.995, Train_Auc=1, Train_Loss=0.0214]\n",
            "  0%|          | 0/14 [00:21<?, ?it/s, Epoch=4, LR=5.5e-9, Valid_Acc=0.926, Valid_Auc=0.984, Valid_Loss=0.164]\n",
            "INFO:__main__:Epoch 4 - avg_train_loss: 0.0214  avg_valid_loss: 0.1642\n",
            "INFO:__main__:Epoch 4 - Train Acc: 0.9954  Train Auc: 0.9997  Valid Acc: 0.9264  Valid Auc: 0.9844\n"
          ]
        },
        {
          "output_type": "stream",
          "name": "stdout",
          "text": [
            "\u001b[34mValidation Score Improved (0.9794143971359162 ---> 0.9844435920385288)\n"
          ]
        },
        {
          "output_type": "stream",
          "name": "stderr",
          "text": [
            "INFO:__main__:Training complete in 0h 6m 8s\n",
            "INFO:__main__:Best Score: 0.9844\n",
            "INFO:__main__:========== CV ==========\n",
            "INFO:__main__:CV: 0.9835\n",
            "INFO:__main__:========== Model: 3 evaluation ==========\n"
          ]
        },
        {
          "output_type": "stream",
          "name": "stdout",
          "text": [
            "Model Saved\u001b[0m\n",
            "---modelのconfig---\n",
            "{'url': '', 'hf_hub_id': 'timm/eva02_large_patch14_448.mim_m38m_ft_in22k_in1k', 'architecture': 'eva02_large_patch14_448', 'tag': 'mim_m38m_ft_in22k_in1k', 'custom_load': False, 'input_size': (3, 448, 448), 'fixed_input_size': True, 'interpolation': 'bicubic', 'crop_pct': 1.0, 'crop_mode': 'squash', 'mean': (0.48145466, 0.4578275, 0.40821073), 'std': (0.26862954, 0.26130258, 0.27577711), 'num_classes': 1000, 'pool_size': None, 'first_conv': 'patch_embed.proj', 'classifier': 'head', 'license': 'mit'}\n",
            "Getting predictions for model 1\n"
          ]
        },
        {
          "output_type": "stream",
          "name": "stderr",
          "text": [
            "100%|██████████| 69/69 [01:36<00:00,  1.40s/it]\n"
          ]
        },
        {
          "output_type": "stream",
          "name": "stdout",
          "text": [
            "---modelのconfig---\n",
            "{'url': '', 'hf_hub_id': 'timm/eva02_large_patch14_448.mim_m38m_ft_in22k_in1k', 'architecture': 'eva02_large_patch14_448', 'tag': 'mim_m38m_ft_in22k_in1k', 'custom_load': False, 'input_size': (3, 448, 448), 'fixed_input_size': True, 'interpolation': 'bicubic', 'crop_pct': 1.0, 'crop_mode': 'squash', 'mean': (0.48145466, 0.4578275, 0.40821073), 'std': (0.26862954, 0.26130258, 0.27577711), 'num_classes': 1000, 'pool_size': None, 'first_conv': 'patch_embed.proj', 'classifier': 'head', 'license': 'mit'}\n",
            "Getting predictions for model 2\n"
          ]
        },
        {
          "output_type": "stream",
          "name": "stderr",
          "text": [
            "100%|██████████| 69/69 [01:36<00:00,  1.40s/it]\n"
          ]
        },
        {
          "output_type": "stream",
          "name": "stdout",
          "text": [
            "---modelのconfig---\n",
            "{'url': '', 'hf_hub_id': 'timm/eva02_large_patch14_448.mim_m38m_ft_in22k_in1k', 'architecture': 'eva02_large_patch14_448', 'tag': 'mim_m38m_ft_in22k_in1k', 'custom_load': False, 'input_size': (3, 448, 448), 'fixed_input_size': True, 'interpolation': 'bicubic', 'crop_pct': 1.0, 'crop_mode': 'squash', 'mean': (0.48145466, 0.4578275, 0.40821073), 'std': (0.26862954, 0.26130258, 0.27577711), 'num_classes': 1000, 'pool_size': None, 'first_conv': 'patch_embed.proj', 'classifier': 'head', 'license': 'mit'}\n",
            "Getting predictions for model 3\n"
          ]
        },
        {
          "output_type": "stream",
          "name": "stderr",
          "text": [
            "100%|██████████| 69/69 [01:36<00:00,  1.40s/it]\n"
          ]
        },
        {
          "output_type": "stream",
          "name": "stdout",
          "text": [
            "---modelのconfig---\n",
            "{'url': '', 'hf_hub_id': 'timm/eva02_large_patch14_448.mim_m38m_ft_in22k_in1k', 'architecture': 'eva02_large_patch14_448', 'tag': 'mim_m38m_ft_in22k_in1k', 'custom_load': False, 'input_size': (3, 448, 448), 'fixed_input_size': True, 'interpolation': 'bicubic', 'crop_pct': 1.0, 'crop_mode': 'squash', 'mean': (0.48145466, 0.4578275, 0.40821073), 'std': (0.26862954, 0.26130258, 0.27577711), 'num_classes': 1000, 'pool_size': None, 'first_conv': 'patch_embed.proj', 'classifier': 'head', 'license': 'mit'}\n",
            "Getting predictions for model 4\n"
          ]
        },
        {
          "output_type": "stream",
          "name": "stderr",
          "text": [
            "100%|██████████| 69/69 [01:36<00:00,  1.40s/it]\n"
          ]
        },
        {
          "output_type": "stream",
          "name": "stdout",
          "text": [
            "---modelのconfig---\n",
            "{'url': '', 'hf_hub_id': 'timm/eva02_large_patch14_448.mim_m38m_ft_in22k_in1k', 'architecture': 'eva02_large_patch14_448', 'tag': 'mim_m38m_ft_in22k_in1k', 'custom_load': False, 'input_size': (3, 448, 448), 'fixed_input_size': True, 'interpolation': 'bicubic', 'crop_pct': 1.0, 'crop_mode': 'squash', 'mean': (0.48145466, 0.4578275, 0.40821073), 'std': (0.26862954, 0.26130258, 0.27577711), 'num_classes': 1000, 'pool_size': None, 'first_conv': 'patch_embed.proj', 'classifier': 'head', 'license': 'mit'}\n",
            "Getting predictions for model 5\n"
          ]
        },
        {
          "output_type": "stream",
          "name": "stderr",
          "text": [
            "100%|██████████| 69/69 [01:36<00:00,  1.40s/it]\n",
            "INFO:__main__:========== Model: 5 training ==========\n",
            "INFO:__main__:========== fold: 0 training ==========\n"
          ]
        },
        {
          "output_type": "stream",
          "name": "stdout",
          "text": [
            "\n",
            "\u001b[33m====== Model: 5 ======\n",
            "\u001b[33m====== Fold: 0 ======\u001b[0m\n",
            "---modelのconfig---\n",
            "{'url': '', 'hf_hub_id': 'timm/eva02_large_patch14_448.mim_m38m_ft_in22k_in1k', 'architecture': 'eva02_large_patch14_448', 'tag': 'mim_m38m_ft_in22k_in1k', 'custom_load': False, 'input_size': (3, 448, 448), 'fixed_input_size': True, 'interpolation': 'bicubic', 'crop_pct': 1.0, 'crop_mode': 'squash', 'mean': (0.48145466, 0.4578275, 0.40821073), 'std': (0.26862954, 0.26130258, 0.27577711), 'num_classes': 1000, 'pool_size': None, 'first_conv': 'patch_embed.proj', 'classifier': 'head', 'license': 'mit'}\n",
            "[INFO] Using GPU: NVIDIA A100-SXM4-40GB\n",
            "\n"
          ]
        },
        {
          "output_type": "stream",
          "name": "stderr",
          "text": [
            "100%|██████████| 108/108 [01:06<00:00,  1.64it/s, Epoch=1, LR=1.5e-5, Train_Acc=0.756, Train_Auc=0.76, Train_Loss=0.511]\n",
            "  0%|          | 0/14 [00:21<?, ?it/s, Epoch=1, LR=1.5e-5, Valid_Acc=0.814, Valid_Auc=0.919, Valid_Loss=0.402]\n",
            "INFO:__main__:Epoch 1 - avg_train_loss: 0.5115  avg_valid_loss: 0.4021\n",
            "INFO:__main__:Epoch 1 - Train Acc: 0.7564  Train Auc: 0.7602  Valid Acc: 0.8142  Valid Auc: 0.9186\n"
          ]
        },
        {
          "output_type": "stream",
          "name": "stdout",
          "text": [
            "\u001b[34mValidation Score Improved (inf ---> 0.9185802429870873)\n",
            "Model Saved\u001b[0m\n"
          ]
        },
        {
          "output_type": "stream",
          "name": "stderr",
          "text": [
            "100%|██████████| 108/108 [01:06<00:00,  1.63it/s, Epoch=2, LR=1.13e-5, Train_Acc=0.911, Train_Auc=0.953, Train_Loss=0.218]\n",
            "  0%|          | 0/14 [00:21<?, ?it/s, Epoch=2, LR=1.13e-5, Valid_Acc=0.89, Valid_Auc=0.965, Valid_Loss=0.238]\n",
            "INFO:__main__:Epoch 2 - avg_train_loss: 0.2175  avg_valid_loss: 0.2375\n",
            "INFO:__main__:Epoch 2 - Train Acc: 0.9115  Train Auc: 0.9529  Valid Acc: 0.8899  Valid Auc: 0.9653\n"
          ]
        },
        {
          "output_type": "stream",
          "name": "stdout",
          "text": [
            "\u001b[34mValidation Score Improved (0.9185802429870873 ---> 0.9653117910226237)\n",
            "Model Saved\u001b[0m\n"
          ]
        },
        {
          "output_type": "stream",
          "name": "stderr",
          "text": [
            "100%|██████████| 108/108 [01:05<00:00,  1.64it/s, Epoch=3, LR=3.92e-6, Train_Acc=0.981, Train_Auc=0.996, Train_Loss=0.0636]\n",
            "  0%|          | 0/14 [00:20<?, ?it/s, Epoch=3, LR=3.92e-6, Valid_Acc=0.924, Valid_Auc=0.982, Valid_Loss=0.172]\n",
            "INFO:__main__:Epoch 3 - avg_train_loss: 0.0636  avg_valid_loss: 0.1716\n",
            "INFO:__main__:Epoch 3 - Train Acc: 0.9809  Train Auc: 0.9957  Valid Acc: 0.9243  Valid Auc: 0.9822\n"
          ]
        },
        {
          "output_type": "stream",
          "name": "stdout",
          "text": [
            "\u001b[34mValidation Score Improved (0.9653117910226237 ---> 0.9821894281534254)\n",
            "Model Saved\u001b[0m\n"
          ]
        },
        {
          "output_type": "stream",
          "name": "stderr",
          "text": [
            "100%|██████████| 108/108 [01:06<00:00,  1.63it/s, Epoch=4, LR=5.5e-9, Train_Acc=0.998, Train_Auc=1, Train_Loss=0.0165]\n",
            "  0%|          | 0/14 [00:20<?, ?it/s, Epoch=4, LR=5.5e-9, Valid_Acc=0.938, Valid_Auc=0.982, Valid_Loss=0.175]\n",
            "INFO:__main__:Epoch 4 - avg_train_loss: 0.0165  avg_valid_loss: 0.1751\n",
            "INFO:__main__:Epoch 4 - Train Acc: 0.9977  Train Auc: 0.9999  Valid Acc: 0.9381  Valid Auc: 0.9816\n",
            "INFO:__main__:Training complete in 0h 6m 3s\n",
            "INFO:__main__:Best Score: 0.9822\n",
            "INFO:__main__:========== fold: 1 training ==========\n"
          ]
        },
        {
          "output_type": "stream",
          "name": "stdout",
          "text": [
            "\u001b[33m====== Fold: 1 ======\u001b[0m\n",
            "---modelのconfig---\n",
            "{'url': '', 'hf_hub_id': 'timm/eva02_large_patch14_448.mim_m38m_ft_in22k_in1k', 'architecture': 'eva02_large_patch14_448', 'tag': 'mim_m38m_ft_in22k_in1k', 'custom_load': False, 'input_size': (3, 448, 448), 'fixed_input_size': True, 'interpolation': 'bicubic', 'crop_pct': 1.0, 'crop_mode': 'squash', 'mean': (0.48145466, 0.4578275, 0.40821073), 'std': (0.26862954, 0.26130258, 0.27577711), 'num_classes': 1000, 'pool_size': None, 'first_conv': 'patch_embed.proj', 'classifier': 'head', 'license': 'mit'}\n",
            "[INFO] Using GPU: NVIDIA A100-SXM4-40GB\n",
            "\n"
          ]
        },
        {
          "output_type": "stream",
          "name": "stderr",
          "text": [
            "100%|██████████| 108/108 [01:05<00:00,  1.64it/s, Epoch=1, LR=1.5e-5, Train_Acc=0.758, Train_Auc=0.771, Train_Loss=0.507]\n",
            "  0%|          | 0/14 [00:20<?, ?it/s, Epoch=1, LR=1.5e-5, Valid_Acc=0.848, Valid_Auc=0.932, Valid_Loss=0.37]\n",
            "INFO:__main__:Epoch 1 - avg_train_loss: 0.5071  avg_valid_loss: 0.3704\n",
            "INFO:__main__:Epoch 1 - Train Acc: 0.7575  Train Auc: 0.7709  Valid Acc: 0.8483  Valid Auc: 0.9325\n"
          ]
        },
        {
          "output_type": "stream",
          "name": "stdout",
          "text": [
            "\u001b[34mValidation Score Improved (inf ---> 0.9324589046929562)\n",
            "Model Saved\u001b[0m\n"
          ]
        },
        {
          "output_type": "stream",
          "name": "stderr",
          "text": [
            "100%|██████████| 108/108 [01:06<00:00,  1.63it/s, Epoch=2, LR=1.13e-5, Train_Acc=0.917, Train_Auc=0.956, Train_Loss=0.208]\n",
            "  0%|          | 0/14 [00:20<?, ?it/s, Epoch=2, LR=1.13e-5, Valid_Acc=0.906, Valid_Auc=0.968, Valid_Loss=0.235]\n",
            "INFO:__main__:Epoch 2 - avg_train_loss: 0.2084  avg_valid_loss: 0.2350\n",
            "INFO:__main__:Epoch 2 - Train Acc: 0.9172  Train Auc: 0.9565  Valid Acc: 0.9057  Valid Auc: 0.9678\n"
          ]
        },
        {
          "output_type": "stream",
          "name": "stdout",
          "text": [
            "\u001b[34mValidation Score Improved (0.9324589046929562 ---> 0.9678264202367771)\n",
            "Model Saved\u001b[0m\n"
          ]
        },
        {
          "output_type": "stream",
          "name": "stderr",
          "text": [
            "100%|██████████| 108/108 [01:06<00:00,  1.63it/s, Epoch=3, LR=3.92e-6, Train_Acc=0.985, Train_Auc=0.996, Train_Loss=0.0533]\n",
            "  0%|          | 0/14 [00:20<?, ?it/s, Epoch=3, LR=3.92e-6, Valid_Acc=0.917, Valid_Auc=0.978, Valid_Loss=0.198]\n",
            "INFO:__main__:Epoch 3 - avg_train_loss: 0.0533  avg_valid_loss: 0.1980\n",
            "INFO:__main__:Epoch 3 - Train Acc: 0.9850  Train Auc: 0.9961  Valid Acc: 0.9172  Valid Auc: 0.9785\n"
          ]
        },
        {
          "output_type": "stream",
          "name": "stdout",
          "text": [
            "\u001b[34mValidation Score Improved (0.9678264202367771 ---> 0.9784515799335661)\n",
            "Model Saved\u001b[0m\n"
          ]
        },
        {
          "output_type": "stream",
          "name": "stderr",
          "text": [
            "100%|██████████| 108/108 [01:06<00:00,  1.63it/s, Epoch=4, LR=5.5e-9, Train_Acc=0.998, Train_Auc=0.999, Train_Loss=0.0192]\n",
            "  0%|          | 0/14 [00:20<?, ?it/s, Epoch=4, LR=5.5e-9, Valid_Acc=0.943, Valid_Auc=0.98, Valid_Loss=0.173]\n",
            "INFO:__main__:Epoch 4 - avg_train_loss: 0.0192  avg_valid_loss: 0.1733\n",
            "INFO:__main__:Epoch 4 - Train Acc: 0.9977  Train Auc: 0.9994  Valid Acc: 0.9425  Valid Auc: 0.9802\n"
          ]
        },
        {
          "output_type": "stream",
          "name": "stdout",
          "text": [
            "\u001b[34mValidation Score Improved (0.9784515799335661 ---> 0.980197598160293)\n"
          ]
        },
        {
          "output_type": "stream",
          "name": "stderr",
          "text": [
            "INFO:__main__:Training complete in 0h 6m 5s\n",
            "INFO:__main__:Best Score: 0.9802\n",
            "INFO:__main__:========== fold: 2 training ==========\n"
          ]
        },
        {
          "output_type": "stream",
          "name": "stdout",
          "text": [
            "Model Saved\u001b[0m\n",
            "\u001b[33m====== Fold: 2 ======\u001b[0m\n",
            "---modelのconfig---\n",
            "{'url': '', 'hf_hub_id': 'timm/eva02_large_patch14_448.mim_m38m_ft_in22k_in1k', 'architecture': 'eva02_large_patch14_448', 'tag': 'mim_m38m_ft_in22k_in1k', 'custom_load': False, 'input_size': (3, 448, 448), 'fixed_input_size': True, 'interpolation': 'bicubic', 'crop_pct': 1.0, 'crop_mode': 'squash', 'mean': (0.48145466, 0.4578275, 0.40821073), 'std': (0.26862954, 0.26130258, 0.27577711), 'num_classes': 1000, 'pool_size': None, 'first_conv': 'patch_embed.proj', 'classifier': 'head', 'license': 'mit'}\n",
            "[INFO] Using GPU: NVIDIA A100-SXM4-40GB\n",
            "\n"
          ]
        },
        {
          "output_type": "stream",
          "name": "stderr",
          "text": [
            "100%|██████████| 108/108 [01:06<00:00,  1.64it/s, Epoch=1, LR=1.5e-5, Train_Acc=0.745, Train_Auc=0.748, Train_Loss=0.53]\n",
            "  0%|          | 0/14 [00:20<?, ?it/s, Epoch=1, LR=1.5e-5, Valid_Acc=0.828, Valid_Auc=0.925, Valid_Loss=0.376]\n",
            "INFO:__main__:Epoch 1 - avg_train_loss: 0.5301  avg_valid_loss: 0.3764\n",
            "INFO:__main__:Epoch 1 - Train Acc: 0.7448  Train Auc: 0.7476  Valid Acc: 0.8276  Valid Auc: 0.9248\n"
          ]
        },
        {
          "output_type": "stream",
          "name": "stdout",
          "text": [
            "\u001b[34mValidation Score Improved (inf ---> 0.9247508730091134)\n",
            "Model Saved\u001b[0m\n"
          ]
        },
        {
          "output_type": "stream",
          "name": "stderr",
          "text": [
            "100%|██████████| 108/108 [01:06<00:00,  1.63it/s, Epoch=2, LR=1.13e-5, Train_Acc=0.909, Train_Auc=0.947, Train_Loss=0.218]\n",
            "  0%|          | 0/14 [00:20<?, ?it/s, Epoch=2, LR=1.13e-5, Valid_Acc=0.915, Valid_Auc=0.963, Valid_Loss=0.254]\n",
            "INFO:__main__:Epoch 2 - avg_train_loss: 0.2180  avg_valid_loss: 0.2536\n",
            "INFO:__main__:Epoch 2 - Train Acc: 0.9086  Train Auc: 0.9473  Valid Acc: 0.9149  Valid Auc: 0.9633\n"
          ]
        },
        {
          "output_type": "stream",
          "name": "stdout",
          "text": [
            "\u001b[34mValidation Score Improved (0.9247508730091134 ---> 0.963312324333532)\n",
            "Model Saved\u001b[0m\n"
          ]
        },
        {
          "output_type": "stream",
          "name": "stderr",
          "text": [
            "100%|██████████| 108/108 [01:06<00:00,  1.63it/s, Epoch=3, LR=3.92e-6, Train_Acc=0.979, Train_Auc=0.996, Train_Loss=0.0611]\n",
            "  0%|          | 0/14 [00:20<?, ?it/s, Epoch=3, LR=3.92e-6, Valid_Acc=0.929, Valid_Auc=0.976, Valid_Loss=0.195]\n",
            "INFO:__main__:Epoch 3 - avg_train_loss: 0.0611  avg_valid_loss: 0.1947\n",
            "INFO:__main__:Epoch 3 - Train Acc: 0.9792  Train Auc: 0.9959  Valid Acc: 0.9287  Valid Auc: 0.9759\n"
          ]
        },
        {
          "output_type": "stream",
          "name": "stdout",
          "text": [
            "\u001b[34mValidation Score Improved (0.963312324333532 ---> 0.9758964313090879)\n",
            "Model Saved\u001b[0m\n"
          ]
        },
        {
          "output_type": "stream",
          "name": "stderr",
          "text": [
            "100%|██████████| 108/108 [01:06<00:00,  1.64it/s, Epoch=4, LR=5.5e-9, Train_Acc=0.994, Train_Auc=0.999, Train_Loss=0.0193]\n",
            "  0%|          | 0/14 [00:20<?, ?it/s, Epoch=4, LR=5.5e-9, Valid_Acc=0.943, Valid_Auc=0.982, Valid_Loss=0.165]\n",
            "INFO:__main__:Epoch 4 - avg_train_loss: 0.0193  avg_valid_loss: 0.1651\n",
            "INFO:__main__:Epoch 4 - Train Acc: 0.9942  Train Auc: 0.9995  Valid Acc: 0.9425  Valid Auc: 0.9820\n"
          ]
        },
        {
          "output_type": "stream",
          "name": "stdout",
          "text": [
            "\u001b[34mValidation Score Improved (0.9758964313090879 ---> 0.9820287880078358)\n"
          ]
        },
        {
          "output_type": "stream",
          "name": "stderr",
          "text": [
            "INFO:__main__:Training complete in 0h 6m 6s\n",
            "INFO:__main__:Best Score: 0.9820\n",
            "INFO:__main__:========== fold: 3 training ==========\n"
          ]
        },
        {
          "output_type": "stream",
          "name": "stdout",
          "text": [
            "Model Saved\u001b[0m\n",
            "\u001b[33m====== Fold: 3 ======\u001b[0m\n",
            "---modelのconfig---\n",
            "{'url': '', 'hf_hub_id': 'timm/eva02_large_patch14_448.mim_m38m_ft_in22k_in1k', 'architecture': 'eva02_large_patch14_448', 'tag': 'mim_m38m_ft_in22k_in1k', 'custom_load': False, 'input_size': (3, 448, 448), 'fixed_input_size': True, 'interpolation': 'bicubic', 'crop_pct': 1.0, 'crop_mode': 'squash', 'mean': (0.48145466, 0.4578275, 0.40821073), 'std': (0.26862954, 0.26130258, 0.27577711), 'num_classes': 1000, 'pool_size': None, 'first_conv': 'patch_embed.proj', 'classifier': 'head', 'license': 'mit'}\n",
            "[INFO] Using GPU: NVIDIA A100-SXM4-40GB\n",
            "\n"
          ]
        },
        {
          "output_type": "stream",
          "name": "stderr",
          "text": [
            "100%|██████████| 108/108 [01:06<00:00,  1.63it/s, Epoch=1, LR=1.5e-5, Train_Acc=0.744, Train_Auc=0.757, Train_Loss=0.521]\n",
            "  0%|          | 0/14 [00:20<?, ?it/s, Epoch=1, LR=1.5e-5, Valid_Acc=0.805, Valid_Auc=0.893, Valid_Loss=0.459]\n",
            "INFO:__main__:Epoch 1 - avg_train_loss: 0.5207  avg_valid_loss: 0.4589\n",
            "INFO:__main__:Epoch 1 - Train Acc: 0.7436  Train Auc: 0.7570  Valid Acc: 0.8046  Valid Auc: 0.8927\n"
          ]
        },
        {
          "output_type": "stream",
          "name": "stdout",
          "text": [
            "\u001b[34mValidation Score Improved (inf ---> 0.8927263435823184)\n",
            "Model Saved\u001b[0m\n"
          ]
        },
        {
          "output_type": "stream",
          "name": "stderr",
          "text": [
            "100%|██████████| 108/108 [01:06<00:00,  1.64it/s, Epoch=2, LR=1.13e-5, Train_Acc=0.907, Train_Auc=0.944, Train_Loss=0.238]\n",
            "  0%|          | 0/14 [00:20<?, ?it/s, Epoch=2, LR=1.13e-5, Valid_Acc=0.897, Valid_Auc=0.962, Valid_Loss=0.245]\n",
            "INFO:__main__:Epoch 2 - avg_train_loss: 0.2378  avg_valid_loss: 0.2448\n",
            "INFO:__main__:Epoch 2 - Train Acc: 0.9074  Train Auc: 0.9441  Valid Acc: 0.8966  Valid Auc: 0.9619\n"
          ]
        },
        {
          "output_type": "stream",
          "name": "stdout",
          "text": [
            "\u001b[34mValidation Score Improved (0.8927263435823184 ---> 0.961885699684865)\n",
            "Model Saved\u001b[0m\n"
          ]
        },
        {
          "output_type": "stream",
          "name": "stderr",
          "text": [
            "100%|██████████| 108/108 [01:05<00:00,  1.64it/s, Epoch=3, LR=3.92e-6, Train_Acc=0.979, Train_Auc=0.995, Train_Loss=0.0653]\n",
            "  0%|          | 0/14 [00:20<?, ?it/s, Epoch=3, LR=3.92e-6, Valid_Acc=0.899, Valid_Auc=0.972, Valid_Loss=0.217]\n",
            "INFO:__main__:Epoch 3 - avg_train_loss: 0.0653  avg_valid_loss: 0.2167\n",
            "INFO:__main__:Epoch 3 - Train Acc: 0.9792  Train Auc: 0.9955  Valid Acc: 0.8989  Valid Auc: 0.9716\n"
          ]
        },
        {
          "output_type": "stream",
          "name": "stdout",
          "text": [
            "\u001b[34mValidation Score Improved (0.961885699684865 ---> 0.9716165573630866)\n",
            "Model Saved\u001b[0m\n"
          ]
        },
        {
          "output_type": "stream",
          "name": "stderr",
          "text": [
            "100%|██████████| 108/108 [01:06<00:00,  1.63it/s, Epoch=4, LR=5.5e-9, Train_Acc=0.998, Train_Auc=1, Train_Loss=0.0179]\n",
            "  0%|          | 0/14 [00:20<?, ?it/s, Epoch=4, LR=5.5e-9, Valid_Acc=0.922, Valid_Auc=0.981, Valid_Loss=0.178]\n",
            "INFO:__main__:Epoch 4 - avg_train_loss: 0.0179  avg_valid_loss: 0.1777\n",
            "INFO:__main__:Epoch 4 - Train Acc: 0.9977  Train Auc: 0.9998  Valid Acc: 0.9218  Valid Auc: 0.9811\n"
          ]
        },
        {
          "output_type": "stream",
          "name": "stdout",
          "text": [
            "\u001b[34mValidation Score Improved (0.9716165573630866 ---> 0.9810919001788605)\n"
          ]
        },
        {
          "output_type": "stream",
          "name": "stderr",
          "text": [
            "INFO:__main__:Training complete in 0h 6m 5s\n",
            "INFO:__main__:Best Score: 0.9811\n",
            "INFO:__main__:========== fold: 4 training ==========\n"
          ]
        },
        {
          "output_type": "stream",
          "name": "stdout",
          "text": [
            "Model Saved\u001b[0m\n",
            "\u001b[33m====== Fold: 4 ======\u001b[0m\n",
            "---modelのconfig---\n",
            "{'url': '', 'hf_hub_id': 'timm/eva02_large_patch14_448.mim_m38m_ft_in22k_in1k', 'architecture': 'eva02_large_patch14_448', 'tag': 'mim_m38m_ft_in22k_in1k', 'custom_load': False, 'input_size': (3, 448, 448), 'fixed_input_size': True, 'interpolation': 'bicubic', 'crop_pct': 1.0, 'crop_mode': 'squash', 'mean': (0.48145466, 0.4578275, 0.40821073), 'std': (0.26862954, 0.26130258, 0.27577711), 'num_classes': 1000, 'pool_size': None, 'first_conv': 'patch_embed.proj', 'classifier': 'head', 'license': 'mit'}\n",
            "[INFO] Using GPU: NVIDIA A100-SXM4-40GB\n",
            "\n"
          ]
        },
        {
          "output_type": "stream",
          "name": "stderr",
          "text": [
            "100%|██████████| 108/108 [01:05<00:00,  1.64it/s, Epoch=1, LR=1.5e-5, Train_Acc=0.752, Train_Auc=0.766, Train_Loss=0.506]\n",
            "  0%|          | 0/14 [00:20<?, ?it/s, Epoch=1, LR=1.5e-5, Valid_Acc=0.816, Valid_Auc=0.901, Valid_Loss=0.393]\n",
            "INFO:__main__:Epoch 1 - avg_train_loss: 0.5057  avg_valid_loss: 0.3932\n",
            "INFO:__main__:Epoch 1 - Train Acc: 0.7517  Train Auc: 0.7664  Valid Acc: 0.8161  Valid Auc: 0.9011\n"
          ]
        },
        {
          "output_type": "stream",
          "name": "stdout",
          "text": [
            "\u001b[34mValidation Score Improved (inf ---> 0.9010782934833568)\n",
            "Model Saved\u001b[0m\n"
          ]
        },
        {
          "output_type": "stream",
          "name": "stderr",
          "text": [
            "100%|██████████| 108/108 [01:06<00:00,  1.63it/s, Epoch=2, LR=1.13e-5, Train_Acc=0.91, Train_Auc=0.946, Train_Loss=0.229]\n",
            "  0%|          | 0/14 [00:20<?, ?it/s, Epoch=2, LR=1.13e-5, Valid_Acc=0.929, Valid_Auc=0.975, Valid_Loss=0.206]\n",
            "INFO:__main__:Epoch 2 - avg_train_loss: 0.2287  avg_valid_loss: 0.2057\n",
            "INFO:__main__:Epoch 2 - Train Acc: 0.9103  Train Auc: 0.9459  Valid Acc: 0.9287  Valid Auc: 0.9752\n"
          ]
        },
        {
          "output_type": "stream",
          "name": "stdout",
          "text": [
            "\u001b[34mValidation Score Improved (0.9010782934833568 ---> 0.9752376081490005)\n",
            "Model Saved\u001b[0m\n"
          ]
        },
        {
          "output_type": "stream",
          "name": "stderr",
          "text": [
            "100%|██████████| 108/108 [01:05<00:00,  1.64it/s, Epoch=3, LR=3.92e-6, Train_Acc=0.979, Train_Auc=0.996, Train_Loss=0.0615]\n",
            "  0%|          | 0/14 [00:21<?, ?it/s, Epoch=3, LR=3.92e-6, Valid_Acc=0.929, Valid_Auc=0.981, Valid_Loss=0.188]\n",
            "INFO:__main__:Epoch 3 - avg_train_loss: 0.0615  avg_valid_loss: 0.1877\n",
            "INFO:__main__:Epoch 3 - Train Acc: 0.9792  Train Auc: 0.9960  Valid Acc: 0.9287  Valid Auc: 0.9806\n"
          ]
        },
        {
          "output_type": "stream",
          "name": "stdout",
          "text": [
            "\u001b[34mValidation Score Improved (0.9752376081490005 ---> 0.9805864552699995)\n",
            "Model Saved\u001b[0m\n"
          ]
        },
        {
          "output_type": "stream",
          "name": "stderr",
          "text": [
            "100%|██████████| 108/108 [01:06<00:00,  1.63it/s, Epoch=4, LR=5.5e-9, Train_Acc=0.997, Train_Auc=1, Train_Loss=0.0148]\n",
            "  0%|          | 0/14 [00:20<?, ?it/s, Epoch=4, LR=5.5e-9, Valid_Acc=0.922, Valid_Auc=0.977, Valid_Loss=0.199]\n",
            "INFO:__main__:Epoch 4 - avg_train_loss: 0.0148  avg_valid_loss: 0.1987\n",
            "INFO:__main__:Epoch 4 - Train Acc: 0.9971  Train Auc: 0.9999  Valid Acc: 0.9218  Valid Auc: 0.9775\n",
            "INFO:__main__:Training complete in 0h 6m 3s\n",
            "INFO:__main__:Best Score: 0.9806\n",
            "INFO:__main__:========== CV ==========\n",
            "INFO:__main__:CV: 0.9810\n",
            "INFO:__main__:========== Model: 4 evaluation ==========\n"
          ]
        },
        {
          "output_type": "stream",
          "name": "stdout",
          "text": [
            "---modelのconfig---\n",
            "{'url': '', 'hf_hub_id': 'timm/eva02_large_patch14_448.mim_m38m_ft_in22k_in1k', 'architecture': 'eva02_large_patch14_448', 'tag': 'mim_m38m_ft_in22k_in1k', 'custom_load': False, 'input_size': (3, 448, 448), 'fixed_input_size': True, 'interpolation': 'bicubic', 'crop_pct': 1.0, 'crop_mode': 'squash', 'mean': (0.48145466, 0.4578275, 0.40821073), 'std': (0.26862954, 0.26130258, 0.27577711), 'num_classes': 1000, 'pool_size': None, 'first_conv': 'patch_embed.proj', 'classifier': 'head', 'license': 'mit'}\n",
            "Getting predictions for model 1\n"
          ]
        },
        {
          "output_type": "stream",
          "name": "stderr",
          "text": [
            "100%|██████████| 69/69 [01:36<00:00,  1.40s/it]\n"
          ]
        },
        {
          "output_type": "stream",
          "name": "stdout",
          "text": [
            "---modelのconfig---\n",
            "{'url': '', 'hf_hub_id': 'timm/eva02_large_patch14_448.mim_m38m_ft_in22k_in1k', 'architecture': 'eva02_large_patch14_448', 'tag': 'mim_m38m_ft_in22k_in1k', 'custom_load': False, 'input_size': (3, 448, 448), 'fixed_input_size': True, 'interpolation': 'bicubic', 'crop_pct': 1.0, 'crop_mode': 'squash', 'mean': (0.48145466, 0.4578275, 0.40821073), 'std': (0.26862954, 0.26130258, 0.27577711), 'num_classes': 1000, 'pool_size': None, 'first_conv': 'patch_embed.proj', 'classifier': 'head', 'license': 'mit'}\n",
            "Getting predictions for model 2\n"
          ]
        },
        {
          "output_type": "stream",
          "name": "stderr",
          "text": [
            "100%|██████████| 69/69 [01:36<00:00,  1.40s/it]\n"
          ]
        },
        {
          "output_type": "stream",
          "name": "stdout",
          "text": [
            "---modelのconfig---\n",
            "{'url': '', 'hf_hub_id': 'timm/eva02_large_patch14_448.mim_m38m_ft_in22k_in1k', 'architecture': 'eva02_large_patch14_448', 'tag': 'mim_m38m_ft_in22k_in1k', 'custom_load': False, 'input_size': (3, 448, 448), 'fixed_input_size': True, 'interpolation': 'bicubic', 'crop_pct': 1.0, 'crop_mode': 'squash', 'mean': (0.48145466, 0.4578275, 0.40821073), 'std': (0.26862954, 0.26130258, 0.27577711), 'num_classes': 1000, 'pool_size': None, 'first_conv': 'patch_embed.proj', 'classifier': 'head', 'license': 'mit'}\n",
            "Getting predictions for model 3\n"
          ]
        },
        {
          "output_type": "stream",
          "name": "stderr",
          "text": [
            "100%|██████████| 69/69 [01:36<00:00,  1.40s/it]\n"
          ]
        },
        {
          "output_type": "stream",
          "name": "stdout",
          "text": [
            "---modelのconfig---\n",
            "{'url': '', 'hf_hub_id': 'timm/eva02_large_patch14_448.mim_m38m_ft_in22k_in1k', 'architecture': 'eva02_large_patch14_448', 'tag': 'mim_m38m_ft_in22k_in1k', 'custom_load': False, 'input_size': (3, 448, 448), 'fixed_input_size': True, 'interpolation': 'bicubic', 'crop_pct': 1.0, 'crop_mode': 'squash', 'mean': (0.48145466, 0.4578275, 0.40821073), 'std': (0.26862954, 0.26130258, 0.27577711), 'num_classes': 1000, 'pool_size': None, 'first_conv': 'patch_embed.proj', 'classifier': 'head', 'license': 'mit'}\n",
            "Getting predictions for model 4\n"
          ]
        },
        {
          "output_type": "stream",
          "name": "stderr",
          "text": [
            "100%|██████████| 69/69 [01:36<00:00,  1.40s/it]\n"
          ]
        },
        {
          "output_type": "stream",
          "name": "stdout",
          "text": [
            "---modelのconfig---\n",
            "{'url': '', 'hf_hub_id': 'timm/eva02_large_patch14_448.mim_m38m_ft_in22k_in1k', 'architecture': 'eva02_large_patch14_448', 'tag': 'mim_m38m_ft_in22k_in1k', 'custom_load': False, 'input_size': (3, 448, 448), 'fixed_input_size': True, 'interpolation': 'bicubic', 'crop_pct': 1.0, 'crop_mode': 'squash', 'mean': (0.48145466, 0.4578275, 0.40821073), 'std': (0.26862954, 0.26130258, 0.27577711), 'num_classes': 1000, 'pool_size': None, 'first_conv': 'patch_embed.proj', 'classifier': 'head', 'license': 'mit'}\n",
            "Getting predictions for model 5\n"
          ]
        },
        {
          "output_type": "stream",
          "name": "stderr",
          "text": [
            "100%|██████████| 69/69 [01:36<00:00,  1.40s/it]\n"
          ]
        },
        {
          "output_type": "stream",
          "name": "stdout",
          "text": [
            "\n"
          ]
        }
      ]
    },
    {
      "cell_type": "markdown",
      "source": [
        "## 結果の表示"
      ],
      "metadata": {
        "id": "VnBTRQkJfGli"
      }
    },
    {
      "cell_type": "code",
      "source": [
        "def ensemble_inference(final_preds, device):\n",
        "    #final_predsは元々2次元配列で、np.arrayによりnumpy配列に変換\n",
        "    final_preds = np.array(final_preds)\n",
        "\n",
        "    #相関係数を表示。相関がありすぎるとアンサンブルの意味がない（https://qiita.com/koshian2/items/d569cd71b0e082111962）\n",
        "    #.Tは転置\n",
        "    df = pd.DataFrame(final_preds).T\n",
        "    print(abs(df.corr()))\n",
        "    df.to_csv(f\"{ARGS['OUT_DIR']}/final_preds.csv\", index=False, header=None)\n",
        "\n",
        "    #numpy配列においてはmeanメソッド(axis=0)により列の平均値を取ることができる。\n",
        "    #例えば、[[1,2],[3,4]]のとき、[2,3]になる\n",
        "    #つまり、1個1個のモデルの予測結果の平均値を取ったものを最終的な予測結果にしている\n",
        "    final_preds_mean = np.mean(final_preds, axis=0)\n",
        "    return final_preds_mean"
      ],
      "metadata": {
        "id": "aQPXdWanH2gv"
      },
      "execution_count": null,
      "outputs": []
    },
    {
      "cell_type": "code",
      "source": [
        "predict_list = ensemble_inference(final_preds, ARGS[\"device\"])\n",
        "# predict_listの中身は何だ？（最終的な予測結果を格納した1次元配列だよ）\n",
        "#submitは「画像名」と「確率」の2列で構成されている。確率の部分だけを変えるために[1]を指定\n",
        "#（pandasの配列だからこの指定の仕方でうまくいく。普通の配列だと列を抜き出すにはforを使う必要がある）\n",
        "submit[1] = predict_list\n",
        "submit.head()"
      ],
      "metadata": {
        "id": "hctIeiMPIEPv",
        "colab": {
          "base_uri": "https://localhost:8080/",
          "height": 310
        },
        "outputId": "57221ca8-53ac-474b-c966-8ada8d1d5d00"
      },
      "execution_count": null,
      "outputs": [
        {
          "output_type": "stream",
          "name": "stdout",
          "text": [
            "          0         1         2         3         4\n",
            "0  1.000000  0.944802  0.944188  0.950513  0.947504\n",
            "1  0.944802  1.000000  0.941866  0.944649  0.945180\n",
            "2  0.944188  0.941866  1.000000  0.947032  0.947222\n",
            "3  0.950513  0.944649  0.947032  1.000000  0.948143\n",
            "4  0.947504  0.945180  0.947222  0.948143  1.000000\n"
          ]
        },
        {
          "output_type": "execute_result",
          "data": {
            "text/plain": [
              "          0         1\n",
              "0  2176.png  0.069441\n",
              "1  2177.png  0.533749\n",
              "2  2178.png  0.035690\n",
              "3  2179.png  0.998782\n",
              "4  2180.png  0.016801"
            ],
            "text/html": [
              "\n",
              "  <div id=\"df-bf6bc178-ed9c-4d43-8a3f-52c9c0f74704\" class=\"colab-df-container\">\n",
              "    <div>\n",
              "<style scoped>\n",
              "    .dataframe tbody tr th:only-of-type {\n",
              "        vertical-align: middle;\n",
              "    }\n",
              "\n",
              "    .dataframe tbody tr th {\n",
              "        vertical-align: top;\n",
              "    }\n",
              "\n",
              "    .dataframe thead th {\n",
              "        text-align: right;\n",
              "    }\n",
              "</style>\n",
              "<table border=\"1\" class=\"dataframe\">\n",
              "  <thead>\n",
              "    <tr style=\"text-align: right;\">\n",
              "      <th></th>\n",
              "      <th>0</th>\n",
              "      <th>1</th>\n",
              "    </tr>\n",
              "  </thead>\n",
              "  <tbody>\n",
              "    <tr>\n",
              "      <th>0</th>\n",
              "      <td>2176.png</td>\n",
              "      <td>0.069441</td>\n",
              "    </tr>\n",
              "    <tr>\n",
              "      <th>1</th>\n",
              "      <td>2177.png</td>\n",
              "      <td>0.533749</td>\n",
              "    </tr>\n",
              "    <tr>\n",
              "      <th>2</th>\n",
              "      <td>2178.png</td>\n",
              "      <td>0.035690</td>\n",
              "    </tr>\n",
              "    <tr>\n",
              "      <th>3</th>\n",
              "      <td>2179.png</td>\n",
              "      <td>0.998782</td>\n",
              "    </tr>\n",
              "    <tr>\n",
              "      <th>4</th>\n",
              "      <td>2180.png</td>\n",
              "      <td>0.016801</td>\n",
              "    </tr>\n",
              "  </tbody>\n",
              "</table>\n",
              "</div>\n",
              "    <div class=\"colab-df-buttons\">\n",
              "\n",
              "  <div class=\"colab-df-container\">\n",
              "    <button class=\"colab-df-convert\" onclick=\"convertToInteractive('df-bf6bc178-ed9c-4d43-8a3f-52c9c0f74704')\"\n",
              "            title=\"Convert this dataframe to an interactive table.\"\n",
              "            style=\"display:none;\">\n",
              "\n",
              "  <svg xmlns=\"http://www.w3.org/2000/svg\" height=\"24px\" viewBox=\"0 -960 960 960\">\n",
              "    <path d=\"M120-120v-720h720v720H120Zm60-500h600v-160H180v160Zm220 220h160v-160H400v160Zm0 220h160v-160H400v160ZM180-400h160v-160H180v160Zm440 0h160v-160H620v160ZM180-180h160v-160H180v160Zm440 0h160v-160H620v160Z\"/>\n",
              "  </svg>\n",
              "    </button>\n",
              "\n",
              "  <style>\n",
              "    .colab-df-container {\n",
              "      display:flex;\n",
              "      gap: 12px;\n",
              "    }\n",
              "\n",
              "    .colab-df-convert {\n",
              "      background-color: #E8F0FE;\n",
              "      border: none;\n",
              "      border-radius: 50%;\n",
              "      cursor: pointer;\n",
              "      display: none;\n",
              "      fill: #1967D2;\n",
              "      height: 32px;\n",
              "      padding: 0 0 0 0;\n",
              "      width: 32px;\n",
              "    }\n",
              "\n",
              "    .colab-df-convert:hover {\n",
              "      background-color: #E2EBFA;\n",
              "      box-shadow: 0px 1px 2px rgba(60, 64, 67, 0.3), 0px 1px 3px 1px rgba(60, 64, 67, 0.15);\n",
              "      fill: #174EA6;\n",
              "    }\n",
              "\n",
              "    .colab-df-buttons div {\n",
              "      margin-bottom: 4px;\n",
              "    }\n",
              "\n",
              "    [theme=dark] .colab-df-convert {\n",
              "      background-color: #3B4455;\n",
              "      fill: #D2E3FC;\n",
              "    }\n",
              "\n",
              "    [theme=dark] .colab-df-convert:hover {\n",
              "      background-color: #434B5C;\n",
              "      box-shadow: 0px 1px 3px 1px rgba(0, 0, 0, 0.15);\n",
              "      filter: drop-shadow(0px 1px 2px rgba(0, 0, 0, 0.3));\n",
              "      fill: #FFFFFF;\n",
              "    }\n",
              "  </style>\n",
              "\n",
              "    <script>\n",
              "      const buttonEl =\n",
              "        document.querySelector('#df-bf6bc178-ed9c-4d43-8a3f-52c9c0f74704 button.colab-df-convert');\n",
              "      buttonEl.style.display =\n",
              "        google.colab.kernel.accessAllowed ? 'block' : 'none';\n",
              "\n",
              "      async function convertToInteractive(key) {\n",
              "        const element = document.querySelector('#df-bf6bc178-ed9c-4d43-8a3f-52c9c0f74704');\n",
              "        const dataTable =\n",
              "          await google.colab.kernel.invokeFunction('convertToInteractive',\n",
              "                                                    [key], {});\n",
              "        if (!dataTable) return;\n",
              "\n",
              "        const docLinkHtml = 'Like what you see? Visit the ' +\n",
              "          '<a target=\"_blank\" href=https://colab.research.google.com/notebooks/data_table.ipynb>data table notebook</a>'\n",
              "          + ' to learn more about interactive tables.';\n",
              "        element.innerHTML = '';\n",
              "        dataTable['output_type'] = 'display_data';\n",
              "        await google.colab.output.renderOutput(dataTable, element);\n",
              "        const docLink = document.createElement('div');\n",
              "        docLink.innerHTML = docLinkHtml;\n",
              "        element.appendChild(docLink);\n",
              "      }\n",
              "    </script>\n",
              "  </div>\n",
              "\n",
              "\n",
              "<div id=\"df-42b067b4-11bd-41c3-9ba5-eb300c512044\">\n",
              "  <button class=\"colab-df-quickchart\" onclick=\"quickchart('df-42b067b4-11bd-41c3-9ba5-eb300c512044')\"\n",
              "            title=\"Suggest charts.\"\n",
              "            style=\"display:none;\">\n",
              "\n",
              "<svg xmlns=\"http://www.w3.org/2000/svg\" height=\"24px\"viewBox=\"0 0 24 24\"\n",
              "     width=\"24px\">\n",
              "    <g>\n",
              "        <path d=\"M19 3H5c-1.1 0-2 .9-2 2v14c0 1.1.9 2 2 2h14c1.1 0 2-.9 2-2V5c0-1.1-.9-2-2-2zM9 17H7v-7h2v7zm4 0h-2V7h2v10zm4 0h-2v-4h2v4z\"/>\n",
              "    </g>\n",
              "</svg>\n",
              "  </button>\n",
              "\n",
              "<style>\n",
              "  .colab-df-quickchart {\n",
              "      --bg-color: #E8F0FE;\n",
              "      --fill-color: #1967D2;\n",
              "      --hover-bg-color: #E2EBFA;\n",
              "      --hover-fill-color: #174EA6;\n",
              "      --disabled-fill-color: #AAA;\n",
              "      --disabled-bg-color: #DDD;\n",
              "  }\n",
              "\n",
              "  [theme=dark] .colab-df-quickchart {\n",
              "      --bg-color: #3B4455;\n",
              "      --fill-color: #D2E3FC;\n",
              "      --hover-bg-color: #434B5C;\n",
              "      --hover-fill-color: #FFFFFF;\n",
              "      --disabled-bg-color: #3B4455;\n",
              "      --disabled-fill-color: #666;\n",
              "  }\n",
              "\n",
              "  .colab-df-quickchart {\n",
              "    background-color: var(--bg-color);\n",
              "    border: none;\n",
              "    border-radius: 50%;\n",
              "    cursor: pointer;\n",
              "    display: none;\n",
              "    fill: var(--fill-color);\n",
              "    height: 32px;\n",
              "    padding: 0;\n",
              "    width: 32px;\n",
              "  }\n",
              "\n",
              "  .colab-df-quickchart:hover {\n",
              "    background-color: var(--hover-bg-color);\n",
              "    box-shadow: 0 1px 2px rgba(60, 64, 67, 0.3), 0 1px 3px 1px rgba(60, 64, 67, 0.15);\n",
              "    fill: var(--button-hover-fill-color);\n",
              "  }\n",
              "\n",
              "  .colab-df-quickchart-complete:disabled,\n",
              "  .colab-df-quickchart-complete:disabled:hover {\n",
              "    background-color: var(--disabled-bg-color);\n",
              "    fill: var(--disabled-fill-color);\n",
              "    box-shadow: none;\n",
              "  }\n",
              "\n",
              "  .colab-df-spinner {\n",
              "    border: 2px solid var(--fill-color);\n",
              "    border-color: transparent;\n",
              "    border-bottom-color: var(--fill-color);\n",
              "    animation:\n",
              "      spin 1s steps(1) infinite;\n",
              "  }\n",
              "\n",
              "  @keyframes spin {\n",
              "    0% {\n",
              "      border-color: transparent;\n",
              "      border-bottom-color: var(--fill-color);\n",
              "      border-left-color: var(--fill-color);\n",
              "    }\n",
              "    20% {\n",
              "      border-color: transparent;\n",
              "      border-left-color: var(--fill-color);\n",
              "      border-top-color: var(--fill-color);\n",
              "    }\n",
              "    30% {\n",
              "      border-color: transparent;\n",
              "      border-left-color: var(--fill-color);\n",
              "      border-top-color: var(--fill-color);\n",
              "      border-right-color: var(--fill-color);\n",
              "    }\n",
              "    40% {\n",
              "      border-color: transparent;\n",
              "      border-right-color: var(--fill-color);\n",
              "      border-top-color: var(--fill-color);\n",
              "    }\n",
              "    60% {\n",
              "      border-color: transparent;\n",
              "      border-right-color: var(--fill-color);\n",
              "    }\n",
              "    80% {\n",
              "      border-color: transparent;\n",
              "      border-right-color: var(--fill-color);\n",
              "      border-bottom-color: var(--fill-color);\n",
              "    }\n",
              "    90% {\n",
              "      border-color: transparent;\n",
              "      border-bottom-color: var(--fill-color);\n",
              "    }\n",
              "  }\n",
              "</style>\n",
              "\n",
              "  <script>\n",
              "    async function quickchart(key) {\n",
              "      const quickchartButtonEl =\n",
              "        document.querySelector('#' + key + ' button');\n",
              "      quickchartButtonEl.disabled = true;  // To prevent multiple clicks.\n",
              "      quickchartButtonEl.classList.add('colab-df-spinner');\n",
              "      try {\n",
              "        const charts = await google.colab.kernel.invokeFunction(\n",
              "            'suggestCharts', [key], {});\n",
              "      } catch (error) {\n",
              "        console.error('Error during call to suggestCharts:', error);\n",
              "      }\n",
              "      quickchartButtonEl.classList.remove('colab-df-spinner');\n",
              "      quickchartButtonEl.classList.add('colab-df-quickchart-complete');\n",
              "    }\n",
              "    (() => {\n",
              "      let quickchartButtonEl =\n",
              "        document.querySelector('#df-42b067b4-11bd-41c3-9ba5-eb300c512044 button');\n",
              "      quickchartButtonEl.style.display =\n",
              "        google.colab.kernel.accessAllowed ? 'block' : 'none';\n",
              "    })();\n",
              "  </script>\n",
              "</div>\n",
              "\n",
              "    </div>\n",
              "  </div>\n"
            ]
          },
          "metadata": {},
          "execution_count": 26
        }
      ]
    },
    {
      "cell_type": "code",
      "source": [
        "submit.to_csv(f\"{ARGS['OUT_DIR']}/submission.csv\", index=False, header=None)"
      ],
      "metadata": {
        "id": "9Y2eklxGeuEO"
      },
      "execution_count": null,
      "outputs": []
    }
  ]
}